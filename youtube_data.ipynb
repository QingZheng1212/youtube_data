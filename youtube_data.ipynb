{
 "cells": [
  {
   "cell_type": "code",
   "execution_count": 1,
   "metadata": {},
   "outputs": [],
   "source": [
    "import numpy as np\n",
    "import pandas as pd\n",
    "import matplotlib.pyplot as plt"
   ]
  },
  {
   "cell_type": "code",
   "execution_count": 2,
   "metadata": {},
   "outputs": [
    {
     "data": {
      "text/html": [
       "<div>\n",
       "<style scoped>\n",
       "    .dataframe tbody tr th:only-of-type {\n",
       "        vertical-align: middle;\n",
       "    }\n",
       "\n",
       "    .dataframe tbody tr th {\n",
       "        vertical-align: top;\n",
       "    }\n",
       "\n",
       "    .dataframe thead th {\n",
       "        text-align: right;\n",
       "    }\n",
       "</style>\n",
       "<table border=\"1\" class=\"dataframe\">\n",
       "  <thead>\n",
       "    <tr style=\"text-align: right;\">\n",
       "      <th></th>\n",
       "      <th>Name (click to view profile)</th>\n",
       "      <th>Date</th>\n",
       "      <th>Likes</th>\n",
       "      <th>isHearted</th>\n",
       "      <th>isPinned</th>\n",
       "      <th>Comment</th>\n",
       "      <th>(view source)</th>\n",
       "    </tr>\n",
       "  </thead>\n",
       "  <tbody>\n",
       "    <tr>\n",
       "      <th>0</th>\n",
       "      <td>Yirrio S</td>\n",
       "      <td>01/02/05 16:10:40</td>\n",
       "      <td>0</td>\n",
       "      <td>no</td>\n",
       "      <td>no</td>\n",
       "      <td>Lol I thought they were Greta Thunbergs in the...</td>\n",
       "      <td>view comment</td>\n",
       "    </tr>\n",
       "    <tr>\n",
       "      <th>1</th>\n",
       "      <td>Non-Binary DragonBear</td>\n",
       "      <td>##############################################...</td>\n",
       "      <td>1</td>\n",
       "      <td>no</td>\n",
       "      <td>no</td>\n",
       "      <td>YOU JINXED US MALINDA!!!!! Its only been littl...</td>\n",
       "      <td>view comment</td>\n",
       "    </tr>\n",
       "    <tr>\n",
       "      <th>2</th>\n",
       "      <td>Moxie Miscellany</td>\n",
       "      <td>##############################################...</td>\n",
       "      <td>0</td>\n",
       "      <td>no</td>\n",
       "      <td>no</td>\n",
       "      <td>0:25 sums up the entire year perfectly.</td>\n",
       "      <td>view comment</td>\n",
       "    </tr>\n",
       "    <tr>\n",
       "      <th>3</th>\n",
       "      <td>Yirrio S</td>\n",
       "      <td>01/02/58 11:59:02</td>\n",
       "      <td>4</td>\n",
       "      <td>no</td>\n",
       "      <td>no</td>\n",
       "      <td>2020:  Bring it on \\n\\n2021: How dare you</td>\n",
       "      <td>view comment</td>\n",
       "    </tr>\n",
       "    <tr>\n",
       "      <th>4</th>\n",
       "      <td>Melissa Takach</td>\n",
       "      <td>##############################################...</td>\n",
       "      <td>1</td>\n",
       "      <td>no</td>\n",
       "      <td>no</td>\n",
       "      <td>What about antimaskers and Karen’s?</td>\n",
       "      <td>view comment</td>\n",
       "    </tr>\n",
       "    <tr>\n",
       "      <th>5</th>\n",
       "      <td>MATHEA CONRAD</td>\n",
       "      <td>##############################################...</td>\n",
       "      <td>1</td>\n",
       "      <td>no</td>\n",
       "      <td>no</td>\n",
       "      <td>me still listening in January 2021</td>\n",
       "      <td>view comment</td>\n",
       "    </tr>\n",
       "    <tr>\n",
       "      <th>6</th>\n",
       "      <td>Sivie Lovegood</td>\n",
       "      <td>01/02/12 16:11:52</td>\n",
       "      <td>0</td>\n",
       "      <td>no</td>\n",
       "      <td>no</td>\n",
       "      <td>They should make this the second YouTube revind</td>\n",
       "      <td>view comment</td>\n",
       "    </tr>\n",
       "    <tr>\n",
       "      <th>7</th>\n",
       "      <td>Miss Oreo</td>\n",
       "      <td>14/01/21 13:47:14</td>\n",
       "      <td>0</td>\n",
       "      <td>no</td>\n",
       "      <td>no</td>\n",
       "      <td>I thought she was going to just scream for 6:3...</td>\n",
       "      <td>view comment</td>\n",
       "    </tr>\n",
       "    <tr>\n",
       "      <th>8</th>\n",
       "      <td>Miss Oreo</td>\n",
       "      <td>14/01/21 14:02:25</td>\n",
       "      <td>0</td>\n",
       "      <td>no</td>\n",
       "      <td>no</td>\n",
       "      <td>2021 is ruined from the first weeks as well......</td>\n",
       "      <td>view comment</td>\n",
       "    </tr>\n",
       "    <tr>\n",
       "      <th>9</th>\n",
       "      <td>ALHASSANE KEITA</td>\n",
       "      <td>14/01/21 16:18:37</td>\n",
       "      <td>0</td>\n",
       "      <td>no</td>\n",
       "      <td>no</td>\n",
       "      <td>*2020 IN A MUSICAL YA’LL*</td>\n",
       "      <td>view comment</td>\n",
       "    </tr>\n",
       "  </tbody>\n",
       "</table>\n",
       "</div>"
      ],
      "text/plain": [
       "  Name (click to view profile)  \\\n",
       "0                     Yirrio S   \n",
       "1        Non-Binary DragonBear   \n",
       "2             Moxie Miscellany   \n",
       "3                     Yirrio S   \n",
       "4               Melissa Takach   \n",
       "5                MATHEA CONRAD   \n",
       "6               Sivie Lovegood   \n",
       "7                    Miss Oreo   \n",
       "8                    Miss Oreo   \n",
       "9              ALHASSANE KEITA   \n",
       "\n",
       "                                                Date  Likes isHearted  \\\n",
       "0                                  01/02/05 16:10:40      0        no   \n",
       "1  ##############################################...      1        no   \n",
       "2  ##############################################...      0        no   \n",
       "3                                  01/02/58 11:59:02      4        no   \n",
       "4  ##############################################...      1        no   \n",
       "5  ##############################################...      1        no   \n",
       "6                                  01/02/12 16:11:52      0        no   \n",
       "7                                  14/01/21 13:47:14      0        no   \n",
       "8                                  14/01/21 14:02:25      0        no   \n",
       "9                                  14/01/21 16:18:37      0        no   \n",
       "\n",
       "  isPinned                                            Comment (view source)  \n",
       "0       no  Lol I thought they were Greta Thunbergs in the...  view comment  \n",
       "1       no  YOU JINXED US MALINDA!!!!! Its only been littl...  view comment  \n",
       "2       no            0:25 sums up the entire year perfectly.  view comment  \n",
       "3       no          2020:  Bring it on \\n\\n2021: How dare you  view comment  \n",
       "4       no                What about antimaskers and Karen’s?  view comment  \n",
       "5       no                 me still listening in January 2021  view comment  \n",
       "6       no    They should make this the second YouTube revind  view comment  \n",
       "7       no  I thought she was going to just scream for 6:3...  view comment  \n",
       "8       no  2021 is ruined from the first weeks as well......  view comment  \n",
       "9       no                          *2020 IN A MUSICAL YA’LL*  view comment  "
      ]
     },
     "execution_count": 2,
     "metadata": {},
     "output_type": "execute_result"
    }
   ],
   "source": [
    "df = pd.read_csv('youtube_data.csv')\n",
    "df.head(10)"
   ]
  },
  {
   "cell_type": "code",
   "execution_count": 3,
   "metadata": {},
   "outputs": [],
   "source": [
    "data = df.rename({'Name (click to view profile)': 'Users', 'isHearted': 'Hearted','isPinned': 'Pinned',\n",
    "                  '(view source)': 'Source'}, axis=1)"
   ]
  },
  {
   "cell_type": "code",
   "execution_count": 4,
   "metadata": {},
   "outputs": [
    {
     "data": {
      "text/plain": [
       "0"
      ]
     },
     "execution_count": 4,
     "metadata": {},
     "output_type": "execute_result"
    }
   ],
   "source": [
    "data.isnull().sum().sum()"
   ]
  },
  {
   "cell_type": "code",
   "execution_count": 5,
   "metadata": {},
   "outputs": [
    {
     "data": {
      "text/plain": [
       "Users      object\n",
       "Date       object\n",
       "Likes       int64\n",
       "Hearted    object\n",
       "Pinned     object\n",
       "Comment    object\n",
       "Source     object\n",
       "dtype: object"
      ]
     },
     "execution_count": 5,
     "metadata": {},
     "output_type": "execute_result"
    }
   ],
   "source": [
    "data.dtypes"
   ]
  },
  {
   "cell_type": "code",
   "execution_count": 6,
   "metadata": {},
   "outputs": [
    {
     "data": {
      "text/html": [
       "<div>\n",
       "<style scoped>\n",
       "    .dataframe tbody tr th:only-of-type {\n",
       "        vertical-align: middle;\n",
       "    }\n",
       "\n",
       "    .dataframe tbody tr th {\n",
       "        vertical-align: top;\n",
       "    }\n",
       "\n",
       "    .dataframe thead th {\n",
       "        text-align: right;\n",
       "    }\n",
       "</style>\n",
       "<table border=\"1\" class=\"dataframe\">\n",
       "  <thead>\n",
       "    <tr style=\"text-align: right;\">\n",
       "      <th></th>\n",
       "      <th>Users</th>\n",
       "      <th>Date</th>\n",
       "      <th>Likes</th>\n",
       "      <th>Hearted</th>\n",
       "      <th>Pinned</th>\n",
       "      <th>Comment</th>\n",
       "      <th>Source</th>\n",
       "    </tr>\n",
       "  </thead>\n",
       "  <tbody>\n",
       "    <tr>\n",
       "      <th>0</th>\n",
       "      <td>Yirrio S</td>\n",
       "      <td>2005-01-02 16:10:40</td>\n",
       "      <td>0</td>\n",
       "      <td>no</td>\n",
       "      <td>no</td>\n",
       "      <td>Lol I thought they were Greta Thunbergs in the...</td>\n",
       "      <td>view comment</td>\n",
       "    </tr>\n",
       "    <tr>\n",
       "      <th>3</th>\n",
       "      <td>Yirrio S</td>\n",
       "      <td>2058-01-02 11:59:02</td>\n",
       "      <td>4</td>\n",
       "      <td>no</td>\n",
       "      <td>no</td>\n",
       "      <td>2020:  Bring it on \\n\\n2021: How dare you</td>\n",
       "      <td>view comment</td>\n",
       "    </tr>\n",
       "    <tr>\n",
       "      <th>6</th>\n",
       "      <td>Sivie Lovegood</td>\n",
       "      <td>2012-01-02 16:11:52</td>\n",
       "      <td>0</td>\n",
       "      <td>no</td>\n",
       "      <td>no</td>\n",
       "      <td>They should make this the second YouTube revind</td>\n",
       "      <td>view comment</td>\n",
       "    </tr>\n",
       "    <tr>\n",
       "      <th>7</th>\n",
       "      <td>Miss Oreo</td>\n",
       "      <td>2021-01-14 13:47:14</td>\n",
       "      <td>0</td>\n",
       "      <td>no</td>\n",
       "      <td>no</td>\n",
       "      <td>I thought she was going to just scream for 6:3...</td>\n",
       "      <td>view comment</td>\n",
       "    </tr>\n",
       "    <tr>\n",
       "      <th>8</th>\n",
       "      <td>Miss Oreo</td>\n",
       "      <td>2021-01-14 14:02:25</td>\n",
       "      <td>0</td>\n",
       "      <td>no</td>\n",
       "      <td>no</td>\n",
       "      <td>2021 is ruined from the first weeks as well......</td>\n",
       "      <td>view comment</td>\n",
       "    </tr>\n",
       "  </tbody>\n",
       "</table>\n",
       "</div>"
      ],
      "text/plain": [
       "            Users                Date  Likes Hearted Pinned  \\\n",
       "0        Yirrio S 2005-01-02 16:10:40      0      no     no   \n",
       "3        Yirrio S 2058-01-02 11:59:02      4      no     no   \n",
       "6  Sivie Lovegood 2012-01-02 16:11:52      0      no     no   \n",
       "7       Miss Oreo 2021-01-14 13:47:14      0      no     no   \n",
       "8       Miss Oreo 2021-01-14 14:02:25      0      no     no   \n",
       "\n",
       "                                             Comment        Source  \n",
       "0  Lol I thought they were Greta Thunbergs in the...  view comment  \n",
       "3          2020:  Bring it on \\n\\n2021: How dare you  view comment  \n",
       "6    They should make this the second YouTube revind  view comment  \n",
       "7  I thought she was going to just scream for 6:3...  view comment  \n",
       "8  2021 is ruined from the first weeks as well......  view comment  "
      ]
     },
     "execution_count": 6,
     "metadata": {},
     "output_type": "execute_result"
    }
   ],
   "source": [
    "data['Date'] = pd.to_datetime(data['Date'], errors='coerce')\n",
    "data = data.dropna(subset=['Date'])\n",
    "data.head()"
   ]
  },
  {
   "cell_type": "code",
   "execution_count": 7,
   "metadata": {},
   "outputs": [
    {
     "data": {
      "text/plain": [
       "Users      8757\n",
       "Date       8757\n",
       "Likes      8757\n",
       "Hearted    8757\n",
       "Pinned     8757\n",
       "Comment    8757\n",
       "Source     8757\n",
       "dtype: int64"
      ]
     },
     "execution_count": 7,
     "metadata": {},
     "output_type": "execute_result"
    }
   ],
   "source": [
    "data.count()"
   ]
  },
  {
   "cell_type": "code",
   "execution_count": 8,
   "metadata": {},
   "outputs": [
    {
     "data": {
      "text/plain": [
       "Users      8757\n",
       "Date       8757\n",
       "Likes      8757\n",
       "Hearted    8757\n",
       "Pinned     8757\n",
       "Comment    8757\n",
       "Source     8757\n",
       "dtype: int64"
      ]
     },
     "execution_count": 8,
     "metadata": {},
     "output_type": "execute_result"
    }
   ],
   "source": [
    "data[data['Hearted']=='no'].count()"
   ]
  },
  {
   "cell_type": "code",
   "execution_count": 9,
   "metadata": {},
   "outputs": [
    {
     "data": {
      "text/plain": [
       "Users      8757\n",
       "Date       8757\n",
       "Likes      8757\n",
       "Hearted    8757\n",
       "Pinned     8757\n",
       "Comment    8757\n",
       "Source     8757\n",
       "dtype: int64"
      ]
     },
     "execution_count": 9,
     "metadata": {},
     "output_type": "execute_result"
    }
   ],
   "source": [
    "data[data['Pinned']=='no'].count()"
   ]
  },
  {
   "cell_type": "code",
   "execution_count": 10,
   "metadata": {},
   "outputs": [
    {
     "data": {
      "text/plain": [
       "Users      8757\n",
       "Date       8757\n",
       "Likes      8757\n",
       "Hearted    8757\n",
       "Pinned     8757\n",
       "Comment    8757\n",
       "Source     8757\n",
       "dtype: int64"
      ]
     },
     "execution_count": 10,
     "metadata": {},
     "output_type": "execute_result"
    }
   ],
   "source": [
    "data[data['Source']=='view comment'].count()"
   ]
  },
  {
   "cell_type": "code",
   "execution_count": 11,
   "metadata": {},
   "outputs": [],
   "source": [
    "data.drop(data.columns[[3,4,6]], axis=1, inplace=True)"
   ]
  },
  {
   "cell_type": "code",
   "execution_count": 12,
   "metadata": {},
   "outputs": [
    {
     "data": {
      "text/html": [
       "<div>\n",
       "<style scoped>\n",
       "    .dataframe tbody tr th:only-of-type {\n",
       "        vertical-align: middle;\n",
       "    }\n",
       "\n",
       "    .dataframe tbody tr th {\n",
       "        vertical-align: top;\n",
       "    }\n",
       "\n",
       "    .dataframe thead th {\n",
       "        text-align: right;\n",
       "    }\n",
       "</style>\n",
       "<table border=\"1\" class=\"dataframe\">\n",
       "  <thead>\n",
       "    <tr style=\"text-align: right;\">\n",
       "      <th></th>\n",
       "      <th>Users</th>\n",
       "      <th>Date</th>\n",
       "      <th>Likes</th>\n",
       "      <th>Comment</th>\n",
       "    </tr>\n",
       "  </thead>\n",
       "  <tbody>\n",
       "    <tr>\n",
       "      <th>0</th>\n",
       "      <td>Yirrio S</td>\n",
       "      <td>2005-01-02 16:10:40</td>\n",
       "      <td>0</td>\n",
       "      <td>Lol I thought they were Greta Thunbergs in the...</td>\n",
       "    </tr>\n",
       "    <tr>\n",
       "      <th>3</th>\n",
       "      <td>Yirrio S</td>\n",
       "      <td>2058-01-02 11:59:02</td>\n",
       "      <td>4</td>\n",
       "      <td>2020:  Bring it on \\n\\n2021: How dare you</td>\n",
       "    </tr>\n",
       "    <tr>\n",
       "      <th>6</th>\n",
       "      <td>Sivie Lovegood</td>\n",
       "      <td>2012-01-02 16:11:52</td>\n",
       "      <td>0</td>\n",
       "      <td>They should make this the second YouTube revind</td>\n",
       "    </tr>\n",
       "    <tr>\n",
       "      <th>7</th>\n",
       "      <td>Miss Oreo</td>\n",
       "      <td>2021-01-14 13:47:14</td>\n",
       "      <td>0</td>\n",
       "      <td>I thought she was going to just scream for 6:3...</td>\n",
       "    </tr>\n",
       "    <tr>\n",
       "      <th>8</th>\n",
       "      <td>Miss Oreo</td>\n",
       "      <td>2021-01-14 14:02:25</td>\n",
       "      <td>0</td>\n",
       "      <td>2021 is ruined from the first weeks as well......</td>\n",
       "    </tr>\n",
       "  </tbody>\n",
       "</table>\n",
       "</div>"
      ],
      "text/plain": [
       "            Users                Date  Likes  \\\n",
       "0        Yirrio S 2005-01-02 16:10:40      0   \n",
       "3        Yirrio S 2058-01-02 11:59:02      4   \n",
       "6  Sivie Lovegood 2012-01-02 16:11:52      0   \n",
       "7       Miss Oreo 2021-01-14 13:47:14      0   \n",
       "8       Miss Oreo 2021-01-14 14:02:25      0   \n",
       "\n",
       "                                             Comment  \n",
       "0  Lol I thought they were Greta Thunbergs in the...  \n",
       "3          2020:  Bring it on \\n\\n2021: How dare you  \n",
       "6    They should make this the second YouTube revind  \n",
       "7  I thought she was going to just scream for 6:3...  \n",
       "8  2021 is ruined from the first weeks as well......  "
      ]
     },
     "execution_count": 12,
     "metadata": {},
     "output_type": "execute_result"
    }
   ],
   "source": [
    "data.head()"
   ]
  },
  {
   "cell_type": "markdown",
   "metadata": {},
   "source": [
    "# Test preprocessing"
   ]
  },
  {
   "cell_type": "code",
   "execution_count": 13,
   "metadata": {},
   "outputs": [],
   "source": [
    "from stopwords import get_stopwords\n",
    "import string\n",
    "from nltk.stem import WordNetLemmatizer\n",
    "lemmatizer = WordNetLemmatizer()\n",
    "from sklearn.feature_extraction.text import CountVectorizer\n",
    "from nltk import word_tokenize\n",
    "stop_words=get_stopwords('en')"
   ]
  },
  {
   "cell_type": "code",
   "execution_count": 14,
   "metadata": {},
   "outputs": [],
   "source": [
    "def text_processing(text):\n",
    "    # remove punctuation \n",
    "    text = \"\".join([c for c in text \n",
    "                    if c not in string.punctuation])\n",
    "    # lowercase\n",
    "    text = \"\".join([c.lower() for c in text])\n",
    "    # remove stopwords\n",
    "    text = \" \".join([w for w in text.split() \n",
    "                     if w not in get_stopwords(\"en\")])\n",
    "    # replace numbers with a token\n",
    "  #  text = re.sub('[0-9]+', 'number', text).lower()\n",
    "    # stemming / lematizing (optional)\n",
    "    text = \" \".join([lemmatizer.lemmatize(w) for w in text.split()])\n",
    "    return text"
   ]
  },
  {
   "cell_type": "code",
   "execution_count": 15,
   "metadata": {},
   "outputs": [],
   "source": [
    "data['Comment_clean'] = data['Comment'].apply(text_processing)"
   ]
  },
  {
   "cell_type": "code",
   "execution_count": 16,
   "metadata": {},
   "outputs": [
    {
     "data": {
      "text/html": [
       "<div>\n",
       "<style scoped>\n",
       "    .dataframe tbody tr th:only-of-type {\n",
       "        vertical-align: middle;\n",
       "    }\n",
       "\n",
       "    .dataframe tbody tr th {\n",
       "        vertical-align: top;\n",
       "    }\n",
       "\n",
       "    .dataframe thead th {\n",
       "        text-align: right;\n",
       "    }\n",
       "</style>\n",
       "<table border=\"1\" class=\"dataframe\">\n",
       "  <thead>\n",
       "    <tr style=\"text-align: right;\">\n",
       "      <th></th>\n",
       "      <th>Users</th>\n",
       "      <th>Date</th>\n",
       "      <th>Likes</th>\n",
       "      <th>Comment</th>\n",
       "      <th>Comment_clean</th>\n",
       "    </tr>\n",
       "  </thead>\n",
       "  <tbody>\n",
       "    <tr>\n",
       "      <th>0</th>\n",
       "      <td>Yirrio S</td>\n",
       "      <td>2005-01-02 16:10:40</td>\n",
       "      <td>0</td>\n",
       "      <td>Lol I thought they were Greta Thunbergs in the...</td>\n",
       "      <td>lol thought greta thunbergs background 🤣</td>\n",
       "    </tr>\n",
       "    <tr>\n",
       "      <th>3</th>\n",
       "      <td>Yirrio S</td>\n",
       "      <td>2058-01-02 11:59:02</td>\n",
       "      <td>4</td>\n",
       "      <td>2020:  Bring it on \\n\\n2021: How dare you</td>\n",
       "      <td>2020 bring 2021 dare</td>\n",
       "    </tr>\n",
       "    <tr>\n",
       "      <th>6</th>\n",
       "      <td>Sivie Lovegood</td>\n",
       "      <td>2012-01-02 16:11:52</td>\n",
       "      <td>0</td>\n",
       "      <td>They should make this the second YouTube revind</td>\n",
       "      <td>make second youtube revind</td>\n",
       "    </tr>\n",
       "    <tr>\n",
       "      <th>7</th>\n",
       "      <td>Miss Oreo</td>\n",
       "      <td>2021-01-14 13:47:14</td>\n",
       "      <td>0</td>\n",
       "      <td>I thought she was going to just scream for 6:3...</td>\n",
       "      <td>thought going just scream 634 minute</td>\n",
       "    </tr>\n",
       "    <tr>\n",
       "      <th>8</th>\n",
       "      <td>Miss Oreo</td>\n",
       "      <td>2021-01-14 14:02:25</td>\n",
       "      <td>0</td>\n",
       "      <td>2021 is ruined from the first weeks as well......</td>\n",
       "      <td>2021 ruined first week well 2022 friend</td>\n",
       "    </tr>\n",
       "  </tbody>\n",
       "</table>\n",
       "</div>"
      ],
      "text/plain": [
       "            Users                Date  Likes  \\\n",
       "0        Yirrio S 2005-01-02 16:10:40      0   \n",
       "3        Yirrio S 2058-01-02 11:59:02      4   \n",
       "6  Sivie Lovegood 2012-01-02 16:11:52      0   \n",
       "7       Miss Oreo 2021-01-14 13:47:14      0   \n",
       "8       Miss Oreo 2021-01-14 14:02:25      0   \n",
       "\n",
       "                                             Comment  \\\n",
       "0  Lol I thought they were Greta Thunbergs in the...   \n",
       "3          2020:  Bring it on \\n\\n2021: How dare you   \n",
       "6    They should make this the second YouTube revind   \n",
       "7  I thought she was going to just scream for 6:3...   \n",
       "8  2021 is ruined from the first weeks as well......   \n",
       "\n",
       "                              Comment_clean  \n",
       "0  lol thought greta thunbergs background 🤣  \n",
       "3                      2020 bring 2021 dare  \n",
       "6                make second youtube revind  \n",
       "7      thought going just scream 634 minute  \n",
       "8   2021 ruined first week well 2022 friend  "
      ]
     },
     "execution_count": 16,
     "metadata": {},
     "output_type": "execute_result"
    }
   ],
   "source": [
    "data.head()"
   ]
  },
  {
   "cell_type": "code",
   "execution_count": 17,
   "metadata": {},
   "outputs": [],
   "source": [
    "docs = data['Comment_clean'].values\n",
    "#docs"
   ]
  },
  {
   "cell_type": "code",
   "execution_count": 18,
   "metadata": {},
   "outputs": [],
   "source": [
    "text_processing_vec = np.vectorize(text_processing)\n",
    "docs = text_processing_vec(docs)"
   ]
  },
  {
   "cell_type": "code",
   "execution_count": 19,
   "metadata": {},
   "outputs": [],
   "source": [
    "# tokenize\n",
    "docs = [word_tokenize(d) for d in docs]"
   ]
  },
  {
   "cell_type": "code",
   "execution_count": 20,
   "metadata": {},
   "outputs": [
    {
     "data": {
      "text/plain": [
       "[['lol', 'thought', 'greta', 'thunbergs', 'background', '🤣'],\n",
       " ['2020', 'bring', '2021', 'dare'],\n",
       " ['make', 'second', 'youtube', 'revind']]"
      ]
     },
     "execution_count": 20,
     "metadata": {},
     "output_type": "execute_result"
    }
   ],
   "source": [
    "docs[:3]"
   ]
  },
  {
   "cell_type": "code",
   "execution_count": 21,
   "metadata": {},
   "outputs": [],
   "source": [
    "from wordcloud import WordCloud"
   ]
  },
  {
   "cell_type": "code",
   "execution_count": 22,
   "metadata": {},
   "outputs": [
    {
     "data": {
      "image/png": "[encoded data removed]",
      "text/plain": [
       "<PIL.Image.Image image mode=RGB size=400x200 at 0x7F8D7BEE3460>"
      ]
     },
     "execution_count": 22,
     "metadata": {},
     "output_type": "execute_result"
    }
   ],
   "source": [
    "\n",
    "# Join the different processed titles together.\n",
    "long_string = ','.join(list(data['Comment_clean'].values))\n",
    "\n",
    "# Create a WordCloud object\n",
    "wordcloud = WordCloud(background_color=\"white\", max_words=5000, contour_width=3, contour_color='steelblue')\n",
    "\n",
    "# Generate a word cloud\n",
    "wordcloud.generate(long_string)\n",
    "\n",
    "# Visualize the word cloud\n",
    "wordcloud.to_image()"
   ]
  },
  {
   "cell_type": "markdown",
   "metadata": {},
   "source": [
    "# try with topic modelling "
   ]
  },
  {
   "cell_type": "code",
   "execution_count": 23,
   "metadata": {},
   "outputs": [],
   "source": [
    "from gensim import corpora"
   ]
  },
  {
   "cell_type": "code",
   "execution_count": 24,
   "metadata": {},
   "outputs": [
    {
     "name": "stdout",
     "output_type": "stream",
     "text": [
      "Dictionary(9274 unique tokens: ['background', 'greta', 'lol', 'thought', 'thunbergs']...)\n"
     ]
    }
   ],
   "source": [
    "dictionary = corpora.Dictionary(docs)\n",
    "print(dictionary)"
   ]
  },
  {
   "cell_type": "code",
   "execution_count": 25,
   "metadata": {},
   "outputs": [
    {
     "name": "stdout",
     "output_type": "stream",
     "text": [
      "[(0, 1), (1, 1), (2, 1), (3, 1), (4, 1), (5, 1)]\n"
     ]
    }
   ],
   "source": [
    "corpus = [dictionary.doc2bow(d) for d in docs]\n",
    "print(corpus[0])"
   ]
  },
  {
   "cell_type": "markdown",
   "metadata": {},
   "source": [
    "# LSI"
   ]
  },
  {
   "cell_type": "code",
   "execution_count": 26,
   "metadata": {},
   "outputs": [],
   "source": [
    "from gensim.models.lsimodel import LsiModel"
   ]
  },
  {
   "cell_type": "code",
   "execution_count": 27,
   "metadata": {},
   "outputs": [],
   "source": [
    "num_topics_lsi = 25"
   ]
  },
  {
   "cell_type": "code",
   "execution_count": 28,
   "metadata": {},
   "outputs": [],
   "source": [
    "lsi = LsiModel(corpus=corpus, id2word=dictionary, num_topics=num_topics_lsi, onepass=False, power_iters=5)"
   ]
  },
  {
   "cell_type": "code",
   "execution_count": 29,
   "metadata": {},
   "outputs": [
    {
     "data": {
      "text/plain": [
       "[(0, 0.03381631138246481),\n",
       " (1, 0.0009597295090699712),\n",
       " (2, -0.0006789428088437152),\n",
       " (3, -0.013770396246866606),\n",
       " (4, -0.006447215749344067),\n",
       " (5, 0.0107508226919531),\n",
       " (6, -0.013959515160043425),\n",
       " (7, -0.035931531672113055),\n",
       " (8, -0.0234694433827852),\n",
       " (9, -0.018667021592575283),\n",
       " (10, 0.013039237376200755),\n",
       " (11, -0.024621591871288907),\n",
       " (12, 0.006046797390180047),\n",
       " (13, -0.025410701244051224),\n",
       " (14, -0.009104875989705701),\n",
       " (15, -0.007887106244672546),\n",
       " (16, 0.0028531208882893373),\n",
       " (17, -0.008249443467656848),\n",
       " (18, 0.018116329422927947),\n",
       " (19, 0.037248158575757244),\n",
       " (20, -0.013604805165687364),\n",
       " (21, -0.005615007777039523),\n",
       " (22, 0.027007145489573968),\n",
       " (23, -0.051947842998251816),\n",
       " (24, -0.013716802892395649)]"
      ]
     },
     "execution_count": 29,
     "metadata": {},
     "output_type": "execute_result"
    }
   ],
   "source": [
    "lsi[corpus][0]"
   ]
  },
  {
   "cell_type": "code",
   "execution_count": 30,
   "metadata": {},
   "outputs": [
    {
     "data": {
      "text/plain": [
       "[(0,\n",
       "  '0.579*\"’\" + 0.221*\"s\" + 0.197*\"know\" + 0.189*\"just\" + 0.166*\"love\" + 0.161*\"want\" + 0.160*\"can\" + 0.158*\"christmas\" + 0.148*\"i\" + 0.142*\"im\"'),\n",
       " (1,\n",
       "  '0.580*\"’\" + -0.241*\"know\" + -0.237*\"im\" + 0.235*\"s\" + -0.226*\"want\" + -0.189*\"just\" + -0.185*\"people\" + -0.149*\"going\" + 0.147*\"i\" + -0.128*\"will\"'),\n",
       " (2,\n",
       "  '0.999*\"done\" + 0.014*\"shut\" + -0.010*\"’\" + -0.009*\"know\" + -0.008*\"want\" + -0.006*\"can\" + -0.005*\"people\" + -0.005*\"will\" + -0.005*\"going\" + -0.005*\"think\"'),\n",
       " (3,\n",
       "  '-0.585*\"love\" + -0.425*\"christmas\" + 0.196*\"know\" + -0.181*\"family\" + 0.179*\"’\" + 0.169*\"want\" + -0.168*\"merry\" + -0.140*\"beautiful\" + -0.127*\"video\" + -0.125*\"year\"'),\n",
       " (4,\n",
       "  '0.504*\"christmas\" + -0.432*\"beautiful\" + -0.299*\"love\" + -0.297*\"catherine\" + -0.227*\"austin\" + 0.216*\"year\" + -0.154*\"s\" + 0.132*\"i\" + -0.113*\"gift\" + 0.109*\"im\"'),\n",
       " (5,\n",
       "  '-0.597*\"love\" + 0.413*\"christmas\" + 0.407*\"beautiful\" + 0.213*\"catherine\" + 0.188*\"austin\" + 0.185*\"merry\" + -0.143*\"video\" + -0.127*\"much\" + 0.125*\"like\" + 0.112*\"gift\"'),\n",
       " (6,\n",
       "  '-0.491*\"s\" + 0.337*\"beautiful\" + 0.267*\"i\" + 0.237*\"t\" + -0.229*\"like\" + 0.223*\"don\" + -0.212*\"it\" + 0.168*\"really\" + 0.155*\"can\" + 0.122*\"girl\"'),\n",
       " (7,\n",
       "  '-0.669*\"like\" + -0.286*\"look\" + 0.247*\"christmas\" + 0.222*\"s\" + -0.185*\"video\" + 0.160*\"merry\" + -0.146*\"year\" + 0.131*\"love\" + 0.110*\"going\" + -0.109*\"austin\"'),\n",
       " (8,\n",
       "  '-0.397*\"i\" + -0.372*\"m\" + 0.328*\"t\" + -0.225*\"just\" + 0.218*\"family\" + 0.191*\"don\" + 0.186*\"can\" + 0.186*\"like\" + -0.143*\"im\" + 0.139*\"ace\"'),\n",
       " (9,\n",
       "  '-0.310*\"i\" + -0.297*\"like\" + -0.286*\"m\" + 0.270*\"video\" + 0.257*\"year\" + 0.245*\"beautiful\" + -0.209*\"love\" + 0.200*\"im\" + 0.179*\"much\" + 0.173*\"s\"'),\n",
       " (10,\n",
       "  '-0.654*\"family\" + -0.362*\"ace\" + 0.225*\"christmas\" + -0.175*\"beautiful\" + 0.175*\"look\" + 0.148*\"good\" + -0.135*\"i\" + -0.125*\"m\" + 0.117*\"day\" + -0.117*\"want\"'),\n",
       " (11,\n",
       "  '-0.514*\"austin\" + 0.406*\"beautiful\" + -0.348*\"u\" + 0.256*\"like\" + -0.245*\"gift\" + 0.166*\"love\" + -0.165*\"guy\" + -0.157*\"family\" + -0.151*\"best\" + -0.130*\"t\"'),\n",
       " (12,\n",
       "  '-0.611*\"u\" + 0.505*\"just\" + -0.207*\"beautiful\" + 0.185*\"t\" + 0.136*\"austin\" + -0.120*\"s\" + 0.106*\"don\" + -0.106*\"can\" + 0.105*\"im\" + -0.102*\"year\"'),\n",
       " (13,\n",
       "  '-0.535*\"u\" + -0.432*\"just\" + 0.252*\"austin\" + 0.226*\"one\" + 0.204*\"year\" + -0.181*\"look\" + 0.155*\"really\" + 0.151*\"gift\" + -0.116*\"merry\" + 0.113*\"vlogmas\"'),\n",
       " (14,\n",
       "  '0.588*\"look\" + 0.306*\"catherine\" + -0.240*\"like\" + -0.227*\"just\" + -0.216*\"gift\" + 0.192*\"video\" + 0.182*\"family\" + -0.182*\"u\" + 0.162*\"good\" + 0.115*\"ace\"'),\n",
       " (15,\n",
       "  '0.450*\"video\" + 0.357*\"can\" + -0.306*\"im\" + -0.231*\"year\" + 0.201*\"just\" + -0.182*\"really\" + -0.174*\"like\" + 0.164*\"wow\" + -0.162*\"catherine\" + -0.149*\"family\"'),\n",
       " (16,\n",
       "  '0.498*\"video\" + 0.415*\"catherine\" + -0.327*\"look\" + -0.300*\"good\" + -0.259*\"one\" + -0.193*\"just\" + 0.147*\"like\" + -0.130*\"year\" + 0.124*\"austin\" + -0.117*\"wow\"'),\n",
       " (17,\n",
       "  '0.473*\"amazing\" + -0.320*\"im\" + 0.234*\"much\" + 0.225*\"wow\" + -0.217*\"beautiful\" + -0.212*\"one\" + 0.196*\"catherine\" + -0.189*\"video\" + 0.181*\"look\" + 0.158*\"year\"'),\n",
       " (18,\n",
       "  '0.389*\"amazing\" + -0.381*\"year\" + 0.364*\"im\" + -0.299*\"catherine\" + -0.259*\"just\" + 0.252*\"wow\" + 0.228*\"day\" + 0.137*\"like\" + -0.132*\"vlogmas\" + 0.115*\"omg\"'),\n",
       " (19,\n",
       "  '0.342*\"guy\" + -0.242*\"day\" + -0.230*\"really\" + 0.230*\"year\" + -0.182*\"just\" + 0.179*\"best\" + 0.178*\"gift\" + -0.176*\"one\" + -0.169*\"austin\" + -0.167*\"u\"'),\n",
       " (20,\n",
       "  '0.366*\"guy\" + 0.309*\"video\" + -0.296*\"can\" + -0.290*\"much\" + 0.269*\"year\" + 0.216*\"wow\" + -0.210*\"day\" + -0.179*\"get\" + -0.171*\"family\" + 0.156*\"want\"'),\n",
       " (21,\n",
       "  '-0.380*\"can\" + -0.346*\"im\" + -0.270*\"catherine\" + 0.237*\"really\" + -0.220*\"get\" + 0.207*\"video\" + 0.199*\"best\" + 0.188*\"ever\" + -0.166*\"wow\" + 0.162*\"day\"'),\n",
       " (22,\n",
       "  '-0.384*\"good\" + 0.360*\"one\" + 0.266*\"catherine\" + 0.227*\"best\" + -0.206*\"austin\" + 0.203*\"day\" + -0.193*\"can\" + 0.188*\"gift\" + 0.171*\"much\" + 0.167*\"guy\"'),\n",
       " (23,\n",
       "  '-0.561*\"guy\" + 0.250*\"t\" + 0.221*\"amazing\" + -0.214*\"can\" + 0.211*\"wow\" + -0.208*\"really\" + -0.201*\"s\" + 0.165*\"u\" + 0.164*\"gift\" + -0.160*\"austin\"'),\n",
       " (24,\n",
       "  '0.450*\"much\" + 0.304*\"“\" + -0.291*\"gift\" + 0.285*\"austin\" + 0.283*\"”\" + -0.218*\"can\" + -0.217*\"best\" + -0.180*\"catherine\" + 0.156*\"amazing\" + 0.148*\"beautiful\"')]"
      ]
     },
     "execution_count": 30,
     "metadata": {},
     "output_type": "execute_result"
    }
   ],
   "source": [
    "lsi.print_topics(num_topics_lsi)"
   ]
  },
  {
   "cell_type": "markdown",
   "metadata": {},
   "source": [
    "# LDA"
   ]
  },
  {
   "cell_type": "code",
   "execution_count": 31,
   "metadata": {},
   "outputs": [],
   "source": [
    "from gensim.models.ldamodel import LdaModel"
   ]
  },
  {
   "cell_type": "code",
   "execution_count": 32,
   "metadata": {},
   "outputs": [],
   "source": [
    "num_topics_lda = 25"
   ]
  },
  {
   "cell_type": "code",
   "execution_count": 33,
   "metadata": {},
   "outputs": [],
   "source": [
    "lda = LdaModel(corpus=corpus, id2word=dictionary, num_topics=num_topics_lda, update_every=1, passes=5, alpha='symmetric')"
   ]
  },
  {
   "cell_type": "code",
   "execution_count": 34,
   "metadata": {},
   "outputs": [
    {
     "data": {
      "text/plain": [
       "[(0, 0.14931531), (14, 0.48416296), (18, 0.24016327)]"
      ]
     },
     "execution_count": 34,
     "metadata": {},
     "output_type": "execute_result"
    }
   ],
   "source": [
    "lda[corpus[0]]"
   ]
  },
  {
   "cell_type": "code",
   "execution_count": 35,
   "metadata": {},
   "outputs": [
    {
     "data": {
      "text/plain": [
       "[(0, 0.1493165), (14, 0.4839548), (18, 0.24036928)]"
      ]
     },
     "execution_count": 35,
     "metadata": {},
     "output_type": "execute_result"
    }
   ],
   "source": [
    "lda.get_document_topics(corpus[0])"
   ]
  },
  {
   "cell_type": "code",
   "execution_count": 36,
   "metadata": {},
   "outputs": [
    {
     "data": {
      "text/plain": [
       "[(0,\n",
       "  '0.247*\"family\" + 0.035*\"christmas\" + 0.026*\"big\" + 0.024*\"stay\" + 0.022*\"present\" + 0.019*\"safe\" + 0.018*\"fact\" + 0.017*\"totally\" + 0.014*\"around\" + 0.014*\"now\"'),\n",
       " (1,\n",
       "  '0.152*\"best\" + 0.105*\"ever\" + 0.065*\"gift\" + 0.035*\"she\" + 0.034*\"made\" + 0.031*\"cry\" + 0.027*\"he\" + 0.021*\"mama\" + 0.019*\"another\" + 0.019*\"part\"'),\n",
       " (2,\n",
       "  '0.261*\"christmas\" + 0.144*\"merry\" + 0.045*\"love\" + 0.040*\"piece\" + 0.026*\"everyone\" + 0.024*\"bless\" + 0.023*\"god\" + 0.023*\"yes\" + 0.020*\"❤\" + 0.015*\"hope\"'),\n",
       " (3,\n",
       "  '0.096*\"“\" + 0.084*\"”\" + 0.050*\"said\" + 0.047*\"comment\" + 0.043*\"looking\" + 0.036*\"🥺\" + 0.028*\"cause\" + 0.027*\"mean\" + 0.026*\"true\" + 0.022*\"idea\"'),\n",
       " (4,\n",
       "  '0.545*\"beautiful\" + 0.040*\"omg\" + 0.039*\"love\" + 0.039*\"facial\" + 0.020*\"soooo\" + 0.020*\"car\" + 0.018*\"really\" + 0.015*\"looked\" + 0.012*\"heart\" + 0.011*\"🥺❤️\"'),\n",
       " (5,\n",
       "  '0.155*\"gift\" + 0.135*\"guy\" + 0.081*\"love\" + 0.061*\"great\" + 0.055*\"gorgeous\" + 0.054*\"mommy\" + 0.041*\"loved\" + 0.030*\"hi\" + 0.026*\"much\" + 0.019*\"really\"'),\n",
       " (6,\n",
       "  '0.115*\"girl\" + 0.073*\"saw\" + 0.060*\"think\" + 0.052*\"woman\" + 0.051*\"perfect\" + 0.032*\"word\" + 0.032*\"getting\" + 0.032*\"whole\" + 0.028*\"feeling\" + 0.023*\"okay\"'),\n",
       " (7,\n",
       "  '0.114*\"kid\" + 0.047*\"need\" + 0.045*\"na\" + 0.036*\"keep\" + 0.035*\"adorable\" + 0.033*\"ok\" + 0.032*\"gon\" + 0.024*\"just\" + 0.023*\"now\" + 0.021*\"bro\"'),\n",
       " (8,\n",
       "  '0.178*\"like\" + 0.048*\"look\" + 0.046*\"thats\" + 0.037*\"mom\" + 0.030*\"know\" + 0.030*\"just\" + 0.025*\"want\" + 0.024*\"real\" + 0.019*\"feel\" + 0.017*\"nice\"'),\n",
       " (9,\n",
       "  '0.052*\"video\" + 0.049*\"can\" + 0.042*\"see\" + 0.035*\"well\" + 0.029*\"going\" + 0.025*\"year\" + 0.025*\"people\" + 0.024*\"go\" + 0.020*\"just\" + 0.019*\"watching\"'),\n",
       " (10,\n",
       "  '0.052*\"that\" + 0.050*\"will\" + 0.032*\"get\" + 0.031*\"always\" + 0.030*\"channel\" + 0.030*\"please\" + 0.027*\"3\" + 0.027*\"dont\" + 0.025*\"watch\" + 0.020*\"help\"'),\n",
       " (11,\n",
       "  '0.058*\"nat\" + 0.042*\"shes\" + 0.042*\"jake\" + 0.031*\"fucking\" + 0.026*\"lockdown\" + 0.024*\"thinking\" + 0.020*\"side\" + 0.020*\"couple\" + 0.017*\"head\" + 0.016*\"jacob\"'),\n",
       " (12,\n",
       "  '0.244*\"wow\" + 0.089*\"done\" + 0.089*\"man\" + 0.044*\"yall\" + 0.029*\"🥰\" + 0.028*\"right\" + 0.024*\"freaking\" + 0.023*\"tiktok\" + 0.020*\"just\" + 0.020*\"guy\"'),\n",
       " (13,\n",
       "  '0.097*\"literally\" + 0.073*\"detail\" + 0.044*\"stop\" + 0.032*\"feel\" + 0.031*\"give\" + 0.031*\"make\" + 0.029*\"look\" + 0.026*\"favorite\" + 0.020*\"cooky\" + 0.017*\"every\"'),\n",
       " (14,\n",
       "  '0.249*\"’\" + 0.234*\"s\" + 0.079*\"it\" + 0.057*\"picture\" + 0.023*\"god\" + 0.021*\"oh\" + 0.013*\"mom\" + 0.010*\"especially\" + 0.010*\"hand\" + 0.010*\"😂\"'),\n",
       " (15,\n",
       "  '0.207*\"’\" + 0.106*\"i\" + 0.091*\"t\" + 0.082*\"m\" + 0.035*\"don\" + 0.029*\"ve\" + 0.024*\"can\" + 0.015*\"know\" + 0.012*\"really\" + 0.012*\"probably\"'),\n",
       " (16,\n",
       "  '0.125*\"u\" + 0.060*\"much\" + 0.043*\"love\" + 0.038*\"really\" + 0.031*\"thank\" + 0.029*\"time\" + 0.019*\"day\" + 0.017*\"many\" + 0.017*\"vlogmas\" + 0.016*\"also\"'),\n",
       " (17,\n",
       "  '0.130*\"omg\" + 0.106*\"im\" + 0.037*\"bad\" + 0.034*\"now\" + 0.029*\"thing\" + 0.028*\"🤩\" + 0.020*\"one\" + 0.019*\"home\" + 0.018*\"wish\" + 0.016*\"sure\"'),\n",
       " (18,\n",
       "  '0.133*\"got\" + 0.116*\"face\" + 0.057*\"name\" + 0.039*\"thought\" + 0.033*\"lmao\" + 0.028*\"lol\" + 0.023*\"trying\" + 0.023*\"saying\" + 0.017*\"money\" + 0.016*\"covid\"'),\n",
       " (19,\n",
       "  '0.144*\"cute\" + 0.122*\"😍\" + 0.086*\"y\" + 0.067*\"all\" + 0.046*\"’\" + 0.037*\"1\" + 0.033*\"sooo\" + 0.032*\"beyond\" + 0.031*\"aww\" + 0.023*\"love\"'),\n",
       " (20,\n",
       "  '0.145*\"good\" + 0.114*\"one\" + 0.091*\"look\" + 0.066*\"way\" + 0.036*\"awesome\" + 0.034*\"love\" + 0.028*\"baby\" + 0.027*\"get\" + 0.017*\"line\" + 0.015*\"also\"'),\n",
       " (21,\n",
       "  '0.057*\"husband\" + 0.056*\"’\" + 0.050*\"first\" + 0.043*\"you\" + 0.043*\"re\" + 0.026*\"hair\" + 0.018*\"awww\" + 0.018*\"isn\" + 0.016*\"didn\" + 0.016*\"talking\"'),\n",
       " (22,\n",
       "  '0.129*\"reaction\" + 0.063*\"lol\" + 0.051*\"just\" + 0.047*\"house\" + 0.038*\"thoughtful\" + 0.036*\"work\" + 0.035*\"love\" + 0.033*\"everything\" + 0.026*\"seeing\" + 0.024*\"truly\"'),\n",
       " (23,\n",
       "  '0.079*\"seen\" + 0.047*\"else\" + 0.043*\"life\" + 0.037*\"child\" + 0.032*\"never\" + 0.027*\"ive\" + 0.026*\"someone\" + 0.023*\"4\" + 0.023*\"world\" + 0.022*\"light\"'),\n",
       " (24,\n",
       "  '0.165*\"love\" + 0.146*\"amazing\" + 0.053*\"absolutely\" + 0.049*\"happy\" + 0.047*\"family\" + 0.044*\"❤️\" + 0.031*\"stunning\" + 0.030*\"intro\" + 0.029*\"new\" + 0.024*\"year\"')]"
      ]
     },
     "execution_count": 36,
     "metadata": {},
     "output_type": "execute_result"
    }
   ],
   "source": [
    "lda.print_topics(num_topics_lda)"
   ]
  },
  {
   "cell_type": "code",
   "execution_count": 37,
   "metadata": {},
   "outputs": [
    {
     "data": {
      "text/html": [
       "\n",
       "<link rel=\"stylesheet\" type=\"text/css\" href=\"https://cdn.jsdelivr.net/gh/bmabey/pyLDAvis/pyLDAvis/js/ldavis.v1.0.0.css\">\n",
       "\n",
       "\n",
       "<div id=\"ldavis_el383691402452947201609025754900\"></div>\n",
       "<script type=\"text/javascript\">\n",
       "\n",
       "var ldavis_el383691402452947201609025754900_data = {\"mdsDat\": {\"x\": [0.25253634902587313, 0.007725518139033657, -0.0659074691338554, 0.0902934279723039, -0.024929079054137042, 0.27048896892484153, -0.2220809848112646, -0.14732262054926715, -0.03719408483547707, -0.021391300967119043, 0.04217599738093264, -0.14142578376548864, 0.009360081207396866, -0.041764138391672555, -0.11663970799432555, -0.09125078023695414, -0.0005755457999018081, -0.012809423489362435, 0.14424960902312461, 0.022707941835776242, 0.02425342583985813, -0.0009806134050139917, -0.0012448045096121589, 0.04930844978823563, 0.012416567806074327], \"y\": [0.06438475891106325, 0.22491699916175392, 0.17956841518980463, 0.19053454868448222, 0.20107439230600926, -0.00714732632646739, 0.07616023231315869, -0.03983157963085543, 0.06796306329971095, 0.0019117004747542334, -0.00638053055232565, -0.012613620263569585, 0.034770797578669105, -0.0372620982697281, -0.061899763385790056, -0.07675143993459244, -0.0985875014105943, -0.00807179523095382, -0.05164068635651592, -0.09639898644432345, -0.11595694179793371, -0.14102179253617006, -0.05811709385476328, -0.14895930606822527, -0.08064444585659733], \"topics\": [1, 2, 3, 4, 5, 6, 7, 8, 9, 10, 11, 12, 13, 14, 15, 16, 17, 18, 19, 20, 21, 22, 23, 24, 25], \"cluster\": [1, 1, 1, 1, 1, 1, 1, 1, 1, 1, 1, 1, 1, 1, 1, 1, 1, 1, 1, 1, 1, 1, 1, 1, 1], \"Freq\": [7.311202533991415, 7.280993210389569, 6.7695680280849215, 6.523357352863755, 6.380223382053367, 5.53129822092042, 5.528851043858409, 4.750728629467103, 4.128931625968735, 3.6180104463179172, 3.423574292683175, 3.3623794844288213, 3.1438692961608283, 3.105455735521048, 3.0846557837711917, 2.9978328794721443, 2.839361241683097, 2.7998572529456944, 2.6815542019615393, 2.5514270852025485, 2.543078406117025, 2.4328387452576568, 2.415759621249778, 2.4077048071772365, 2.3874866924526055]}, \"tinfo\": {\"Term\": [\"beautiful\", \"\\u2019\", \"s\", \"christmas\", \"family\", \"like\", \"wow\", \"love\", \"amazing\", \"u\", \"gift\", \"merry\", \"i\", \"good\", \"best\", \"t\", \"omg\", \"m\", \"guy\", \"look\", \"reaction\", \"one\", \"im\", \"cute\", \"it\", \"ever\", \"got\", \"girl\", \"kid\", \"\\ud83d\\ude0d\", \"i\", \"m\", \"don\", \"d\", \"probably\", \"mind\", \"check\", \"doesn\", \"kept\", \"couldn\", \"obviously\", \"wondering\", \"instagram\", \"t\", \"channel\\u2764\\ufe0f\", \"buti\", \"ain\", \"wishing\", \"ve\", \"hang\", \"stranger\", \"card\", \"thumb\", \"dang\", \"noooo\", \"perfectly\", \"beginning\", \"prefer\", \"flower\", \"iphone\", \"hello\", \"\\u2019\", \"late\", \"care\", \"small\", \"nice\", \"can\", \"person\", \"know\", \"still\", \"really\", \"day\", \"girl\", \"even\", \"stop\", \"help\", \"beautiful\", \"go\", \"show\", \"next\", \"\\u2764\\ufe0f\\u2764\\ufe0f\", \"surprised\", \"wait\", \"paint\", \"lovely\", \"start\", \"able\", \"worry\", \"live\", \"took\", \"bring\", \"week\", \"queen\", \"arent\", \"color\", \"knowing\", \"change\", \"chill\", \"soon\", \"emotional\", \"helped\", \"well\", \"needed\", \"forget\", \"tik\", \"might\", \"tok\", \"reason\", \"see\", \"2021\", \"cant\", \"going\", \"video\", \"people\", \"can\", \"watching\", \"watched\", \"year\", \"need\", \"make\", \"back\", \"just\", \"dont\", \"get\", \"everyone\", \"want\", \"know\", \"hope\", \"many\", \"fake\", \"\\u2665\\ufe0f\", \"ask\", \"agree\", \"without\", \"hard\", \"sense\", \"completely\", \"u\", \"paul\", \"seems\", \"opinion\", \"\\ud83d\\ude3b\", \"caring\", \"\\ud83d\\ude31\", \"apart\", \"following\", \"others\", \"deserve\", \"brought\", \"ill\", \"text\", \"heyyy\", \"si\", \"working\", \"respond\", \"ohh\", \"inspired\", \"personal\", \"taking\", \"enough\", \"much\", \"thank\", \"youtuber\", \"time\", \"lot\", \"really\", \"let\", \"also\", \"vlogmas\", \"never\", \"day\", \"work\", \"love\", \"make\", \"put\", \"since\", \"ur\", \"just\", \"give\", \"video\", \"life\", \"know\", \"think\", \"thats\", \"real\", \"stupid\", \"bye\", \"weird\", \"voice\", \"maybe\", \"relationship\", \"like\", \"exactly\", \"de\", \"legit\", \"usually\", \"whatever\", \"fuck\", \"bruh\", \"ik\", \"hell\", \"philippine\", \"11\", \"sound\", \"wonder\", \"front\", \"kinda\", \"bag\", \"water\", \"forgot\", \"wtf\", \"\\ud83e\\udd72\", \"bf\", \"didnt\", \"damn\", \"mom\", \"pretty\", \"hate\", \"must\", \"nice\", \"want\", \"look\", \"know\", \"feel\", \"car\", \"just\", \"even\", \"think\", \"something\", \"dont\", \"really\", \"can\", \"get\", \"life\", \"lol\", \"one\", \"sweet\", \"said\", \"channel\", \"definitely\", \"eye\", \"end\", \"super\", \"read\", \"subscribe\", \"upload\", \"music\", \"phone\", \"though\", \"\\ud83d\\udc97\", \"3\", \"asking\", \"inspiration\", \"jacket\", \"decided\", \"understand\", \"pant\", \"crazy\", \"carry\", \"ngl\", \"uploaded\", \"past\", \"will\", \"virgo\", \"hoping\", \"stared\", \"that\", \"dad\", \"watch\", \"always\", \"help\", \"excited\", \"please\", \"support\", \"tell\", \"find\", \"vlogs\", \"anyone\", \"dont\", \"still\", \"get\", \"thanks\", \"come\", \"even\", \"video\", \"much\", \"day\", \"know\", \"year\", \"im\", \"just\", \"love\", \"people\", \"really\", \"it\", \"especially\", \"hand\", \"s\", \"fam\", \"may\", \"what\", \"awe\", \"dude\", \"fire\", \"jesus\", \"background\", \"picture\", \"rn\", \"tired\", \"hella\", \"h\", \"sorry\", \"oh\", \"ad\", \"\\ud83d\\ude0f\", \"air\", \"spending\", \"including\", \"miracle\", \"shoot\", \"away\", \"calling\", \"\\ud83d\\udc96\", \"stocking\", \"meant\", \"god\", \"\\u2019\", \"\\ud83d\\ude02\", \"left\", \"mom\", \"take\", \"every\", \"going\", \"just\", \"put\", \"lol\", \"get\", \"saying\", \"house\", \"beautiful\", \"absolutely\", \"stunning\", \"intro\", \"amazing\", \"mask\", \"\\u2764\\ufe0f\", \"\\ud83c\\udf84\", \"social\", \"room\", \"holy\", \"grateful\", \"holiday\", \"mr\", \"notification\", \"\\u2728\", \"changed\", \"exact\", \"older\", \"lost\", \"vibe\", \"subscribed\", \"melted\", \"energy\", \"behind\", \"age\", \"\\ud83d\\ude14\", \"cuteee\", \"congrats\", \"frickin\", \"blossom\", \"happy\", \"new\", \"marry\", \"love\", \"family\", \"year\", \"always\", \"make\", \"hope\", \"video\", \"guy\", \"heart\", \"wish\", \"everyone\", \"christmas\", \"hi\", \"picture\", \"piece\", \"\\u2764\", \"merry\", \"imagine\", \"shout\", \"spirit\", \"awwww\", \"instead\", \"received\", \"\\ud83d\\udc93\", \"yup\", \"\\ud83c\\udf84\\ud83c\\udf81\", \"grand\", \"xx\", \"yr\", \"awful\", \"christmas\", \"bless\", \"where\", \"\\ud83d\\ude01\", \"role\", \"eve\", \"cuarto\", \"early\", \"fyi\", \"milk\", \"yes\", \"vids\", \"\\ud83c\\udf39\", \"eating\", \"min\", \"100\", \"ur\", \"god\", \"everyone\", \"funny\", \"hope\", \"laugh\", \"love\", \"everything\", \"thank\", \"guy\", \"day\", \"better\", \"way\", \"awesome\", \"baby\", \"good\", \"line\", \"lucky\", \"subscriber\", \"noticed\", \"mood\", \"\\u2764\\u2764\", \"point\", \"sugar\", \"spend\", \"goal\", \"close\", \"\\ud83e\\udd73\", \"angel\", \"soo\", \"half\", \"w\", \"freakin\", \"yummy\", \"sub\", \"number\", \"window\", \"nd\", \"blog\", \"besides\", \"bar\", \"eeeee\", \"one\", \"together\", \"look\", \"recipe\", \"try\", \"different\", \"doesnt\", \"santa\", \"get\", \"also\", \"cooky\", \"love\", \"care\", \"say\", \"man\", \"can\", \"hope\", \"put\", \"honestly\", \"day\", \"bad\", \"\\ud83e\\udd29\", \"\\u2764\\ufe0f\\u2764\\ufe0f\\u2764\\ufe0f\\u2764\\ufe0f\", \"given\", \"medium\", \"alone\", \"shoutout\", \"fine\", \"glad\", \"asf\", \"everybody\", \"wont\", \"wrong\", \"type\", \"\\ud83d\\ude2d\\ud83d\\ude2d\\ud83d\\ude2d\", \"playing\", \"anymore\", \"yea\", \"stfu\", \"hiding\", \"\\ud83e\\udd7a\\ud83d\\udc95\", \"hardest\", \"relaxing\", \"giving\", \"used\", \"staying\", \"happen\", \"hour\", \"simple\", \"sad\", \"omg\", \"im\", \"bit\", \"home\", \"sure\", \"wish\", \"forward\", \"hey\", \"now\", \"thing\", \"something\", \"little\", \"already\", \"one\", \"want\", \"feel\", \"vlogmas\", \"best\", \"ever\", \"she\", \"he\", \"another\", \"part\", \"n\", \"grow\", \"fr\", \"gotten\", \"morning\", \"sister\", \"\\ud83d\\udcaf\", \"secret\", \"white\", \"taste\", \"f\", \"appreciated\", \"martinez\", \"died\", \"move\", \"cry\", \"funniest\", \"\\ud83d\\ude18\\ud83d\\udc96\", \"taylor\", \"mama\", \"keeping\", \"dose\", \"creator\", \"sharing\", \"started\", \"made\", \"sweet\", \"gift\", \"come\", \"getting\", \"thing\", \"year\", \"see\", \"one\", \"s\", \"\\u2019\", \"just\", \"idea\", \"reaction\", \"time\", \"now\", \"gorgeous\", \"mommy\", \"wonderful\", \"\\u2764\\ufe0f\\u2764\\ufe0f\\u2764\\ufe0f\", \"\\ud83d\\ude0d\\ud83d\\ude0d\\ud83d\\ude0d\", \"proud\", \"loved\", \"hahaha\", \"success\", \"celebrate\", \"annoying\", \"born\", \"raw\", \"capture\", \"shy\", \"sm\", \"tradition\", \"notice\", \"vargas\", \"gilbert\", \"hi\", \"starting\", \"tiny\", \"cuteeee\", \"till\", \"shut\", \"personally\", \"guy\", \"problem\", \"great\", \"gift\", \"\\ud83d\\udc9c\", \"honestly\", \"love\", \"much\", \"really\", \"btw\", \"\\ud83d\\ude2d\", \"omg\", \"just\", \"damn\", \"u\", \"beautiful\", \"detail\", \"literally\", \"favorite\", \"pure\", \"million\", \"knew\", \"happiness\", \"haha\", \"plan\", \"stick\", \"r\", \"young\", \"delicious\", \"tho\", \"lonely\", \"swear\", \"absolute\", \"possible\", \"forever\", \"appreciates\", \"barely\", \"\\u2764\\ufe0f\\ud83d\\ude0a\", \"swearing\", \"empty\", \"baking\", \"le\", \"whitney\", \"school\", \"quit\", \"smiling\", \"easy\", \"stop\", \"cooky\", \"making\", \"give\", \"feel\", \"make\", \"everyday\", \"every\", \"last\", \"world\", \"look\", \"made\", \"great\", \"kid\", \"just\", \"thank\", \"watching\", \"right\", \"thoughtful\", \"truly\", \"ring\", \"seriously\", \"huge\", \"sooooo\", \"felt\", \"cozy\", \"xmas\", \"\\ud83e\\udd0d\", \"three\", \"\\ud83e\\udd70\\ud83e\\udd70\", \"awwwww\", \"vlog\", \"house\", \"mess\", \"hating\", \"question\", \"beat\", \"gasp\", \"scream\", \"reaction\", \"news\", \"covid19\", \"finished\", \"button\", \"seeing\", \"cutest\", \"disliked\", \"rhyme\", \"lol\", \"everything\", \"work\", \"minute\", \"dream\", \"blessed\", \"just\", \"home\", \"love\", \"vlogs\", \"anything\", \"youre\", \"watching\", \"say\", \"anyone\", \"present\", \"totally\", \"fact\", \"gave\", \"\\ud83d\\ude2d\\ud83d\\ude2d\", \"fan\", \"box\", \"\\ud83e\\udd23\", \"big\", \"december\", \"unique\", \"o\", \"we\", \"\\ud83d\\udd25\", \"run\", \"c\", \"\\ud83d\\ude0d\\ud83d\\ude0d\\ud83d\\ude0d\\ud83d\\ude0d\", \"e\", \"food\", \"simp\", \"g\", \"send\", \"p\", \"b\", \"virus\", \"regular\", \"attention\", \"stock\", \"enjoyed\", \"out\", \"drink\", \"family\", \"stay\", \"around\", \"safe\", \"2020\", \"fun\", \"christmas\", \"now\", \"blessed\", \"time\", \"everyone\", \"day\", \"facial\", \"soooo\", \"looked\", \"\\ud83e\\udd7a\\u2764\\ufe0f\", \"beautiful\", \"omggg\", \"\\u2764\\u2764\\u2764\", \"bought\", \"wanting\", \"ahhhh\", \"thankyou\", \"add\", \"\\ud83d\\udc9e\", \"bowl\", \"\\ud83d\\ude02\\ud83d\\ude02\\ud83d\\ude02\\ud83d\\ude02\", \"dm\", \"sooooooo\", \"\\u2763\\ufe0f\", \"lmaooo\", \"hii\", \"added\", \"lmaoo\", \"cap\", \"sit\", \"thingy\", \"lookin\", \"kissed\", \"cross\", \"stuff\", \"ly\", \"remember\", \"car\", \"2\", \"heart\", \"omg\", \"love\", \"really\", \"look\", \"wow\", \"done\", \"yall\", \"freaking\", \"tiktok\", \"mum\", \"camera\", \"theyre\", \"happened\", \"rich\", \"\\ud83e\\udd23\\ud83e\\udd23\", \"guess\", \"que\", \"birthday\", \"\\ud83d\\ude4c\", \"human\", \"tag\", \"\\ud83d\\udc9b\", \"man\", \"explain\", \"cake\", \"keeper\", \"17\", \"night\", \"\\ud83d\\ude05\", \"poor\", \"ofc\", \"\\ud83e\\udd7a\\ud83e\\udd7a\\ud83e\\udd7a\", \"\\ud83e\\udd70\", \"anyway\", \"play\", \"believe\", \"right\", \"better\", \"say\", \"guy\", \"just\", \"even\", \"work\", \"na\", \"adorable\", \"gon\", \"bro\", \"\\ud83d\\ude0d\\ud83d\\ude0d\", \"top\", \"gosh\", \"playlist\", \"wan\", \"drop\", \"vid\", \"nobody\", \"shocked\", \"\\ud83d\\ude44\", \"health\", \"kid\", \"ruin\", \"\\ud83d\\udd25\\ud83d\\udd25\", \"\\ud83c\\udf81\", \"matter\", \"mental\", \"shook\", \"isnt\", \"\\ud83d\\ude2c\", \"damm\", \"jakes\", \"spotify\", \"jk\", \"parent\", \"laughing\", \"ok\", \"keep\", \"finally\", \"need\", \"now\", \"\\ud83e\\udd70\", \"long\", \"just\", \"get\", \"watching\", \"im\", \"will\", \"love\", \"husband\", \"re\", \"you\", \"hair\", \"isn\", \"didn\", \"ugly\", \"they\", \"future\", \"ppl\", \"\\ud83d\\ude02\\ud83d\\ude02\\ud83d\\ude02\", \"female\", \"obsessed\", \"hot\", \"none\", \"la\", \"awww\", \"men\", \"wouldn\", \"dumb\", \"omgg\", \"leave\", \"manifesting\", \"tf\", \"depressed\", \"jealous\", \"bout\", \"heck\", \"yeah\", \"nah\", \"talking\", \"first\", \"ll\", \"grown\", \"already\", \"\\u2019\", \"idk\", \"yes\", \"t\", \"like\", \"time\", \"even\", \"since\", \"saw\", \"woman\", \"word\", \"whole\", \"call\", \"okay\", \"listen\", \"gone\", \"plz\", \"feeling\", \"perfect\", \"butter\", \"showing\", \"called\", \"candy\", \"everywhere\", \"\\ud83d\\udc41\\ud83d\\udc44\\ud83d\\udc41\", \"tomorrow\", \"yay\", \"shouldn\", \"ma\", \"routine\", \"mary\", \"shame\", \"yt\", \"girl\", \"speak\", \"fave\", \"magnificent\", \"english\", \"boy\", \"getting\", \"use\", \"think\", \"\\ud83d\\ude2d\", \"moment\", \"reaction\", \"lot\", \"first\", \"just\", \"say\", \"\\u201c\", \"\\u201d\", \"\\ud83e\\udd7a\", \"true\", \"cause\", \"account\", \"blessing\", \"looking\", \"\\ud83d\\ude18\", \"haven\", \"hurt\", \"sweetest\", \"\\ud83d\\ude02\\ud83d\\ude02\", \"cold\", \"walking\", \"everytime\", \"momma\", \"coming\", \"ima\", \"spell\", \"spanish\", \"admire\", \"xoxo\", \"won\", \"seem\", \"\\ud83e\\udd7a\\ud83e\\udd7a\\u2764\\ufe0f\", \"slap\", \"mercy\", \"14\", \"hill\", \"comment\", \"idea\", \"mean\", \"said\", \"shit\", \"that\", \"say\", \"almost\", \"saying\", \"fucking\", \"lockdown\", \"side\", \"head\", \"ya\", \"luv\", \"af\", \"putting\", \"wearing\", \"door\", \"soul\", \"shes\", \"walk\", \"copy\", \"rest\", \"cut\", \"outside\", \"aw\", \"create\", \"click\", \"broke\", \"l\", \"\\ud83d\\udc95\\ud83d\\udc95\", \"ton\", \"2016\", \"daily\", \"\\u263a\\ufe0f\", \"ily\", \"share\", \"vanessa\", \"least\", \"jake\", \"nat\", \"thinking\", \"smile\", \"enjoy\", \"couple\", \"jacob\", \"whats\", \"seen\", \"else\", \"child\", \"deserves\", \"amount\", \"miss\", \"perfection\", \"tree\", \"havent\", \"floor\", \"sometimes\", \"\\ud83e\\udd7a\\ud83e\\udd7a\", \"screen\", \"message\", \"\\ud83d\\ude04\", \"da\", \"seek\", \"etc\", \"favourite\", \"gold\", \"fill\", \"somewhere\", \"decorating\", \"catch\", \"light\", \"shot\", \"staring\", \"pressed\", \"bringing\", \"yo\", \"yet\", \"talk\", \"world\", \"old\", \"ive\", \"4\", \"life\", \"someone\", \"never\", \"waiting\", \"since\", \"far\", \"fast\", \"one\", \"watching\", \"saying\", \"everyone\", \"take\", \"y\", \"all\", \"\\ud83d\\ude0d\", \"cute\", \"beyond\", \"sooo\", \"aww\", \"1\", \"twin\", \"cost\", \"brings\", \"\\ud83d\\ude0a\", \"expensive\", \"\\ud83d\\ude29\\ud83d\\ude29\", \"tg\", \"ago\", \"bracelet\", \"\\ud83d\\udc95\", \"came\", \"shoe\", \"\\ud83d\\ude02\\ud83d\\ude2d\", \"\\ud83d\\ude0c\", \"leaving\", \"creasing\", \"heaven\", \"gonzalez\", \"picked\", \"ours\", \"yazmin\", \"awhhh\", \"black\", \"\\u2019\", \"love\", \"everything\", \"much\", \"name\", \"lmao\", \"got\", \"face\", \"hear\", \"hacked\", \"full\", \"cuz\", \"entire\", \"title\", \"makeup\", \"lay\", \"nail\", \"married\", \"wasnt\", \"crap\", \"paper\", \"posted\", \"sibling\", \"truth\", \"younger\", \"self\", \"starbucks\", \"telling\", \"asked\", \"trying\", \"19\", \"omgosh\", \"holding\", \"covid\", \"thought\", \"money\", \"saying\", \"lol\", \"back\", \"whats\", \"new\", \"just\", \"get\"], \"Freq\": [1285.0, 2386.0, 998.0, 1075.0, 796.0, 913.0, 518.0, 1699.0, 607.0, 658.0, 569.0, 523.0, 580.0, 453.0, 389.0, 522.0, 459.0, 448.0, 463.0, 610.0, 356.0, 564.0, 389.0, 262.0, 327.0, 270.0, 242.0, 266.0, 260.0, 220.0, 579.328112585737, 446.935468826382, 191.46006170577385, 53.573222143524305, 63.9727237377909, 42.04138387388132, 41.36060830069082, 43.3512956591097, 37.539919233054114, 29.231721766091756, 27.34950520674385, 26.743368272254052, 22.96519693871774, 496.06947040561795, 19.69912586612052, 19.699009247208792, 19.213358662488723, 16.946750958917487, 157.8892493870823, 13.69147981162393, 12.330829926615088, 10.246535609983294, 10.05367835230725, 9.641000784005145, 9.5168193893692, 8.716819992888123, 7.814320178577884, 7.690581175248391, 7.683618899458444, 20.415926542260557, 34.91144811677324, 1127.5268044179054, 26.3183709300052, 61.79578837175857, 27.119360319639114, 60.63281388011582, 131.262860024068, 36.17423825608163, 81.14613115723617, 40.6147390932053, 66.01805212674259, 49.907844114374164, 43.985286767146754, 39.673041380988366, 36.059639893757385, 28.304335222499034, 32.94172174014089, 130.9473228447909, 84.67015157681178, 74.95707472766982, 71.91657137588479, 59.68522919849418, 55.20808527367113, 52.79284360889083, 52.721570805388616, 59.21996902226341, 35.398338468759206, 33.71206887788635, 63.200717942205706, 32.64990717765973, 32.814841988399806, 29.433239067207662, 27.073064037821858, 25.973498632888, 25.30634681638597, 23.70546320547928, 23.049993261517272, 22.36097233329239, 33.39161393172535, 20.530927597501353, 20.4252618161136, 191.98145359870676, 18.61861364674321, 17.763387974368346, 16.088413974103673, 15.243306111152652, 14.124451856811888, 24.19008797267221, 225.46649221413014, 41.77294721243114, 89.84613758485877, 155.12823851512078, 284.4309496244333, 133.44249204812144, 266.2670339940395, 100.53774483362479, 40.3602283472636, 134.7380866969492, 80.80509535781478, 87.54779543647093, 44.15277717540762, 107.42839846633113, 62.95922356740608, 65.83888720187224, 51.896013100210155, 53.61515452606702, 54.37138346099502, 45.46784245337494, 86.85367742138233, 73.75847385532639, 50.51642693046271, 39.224731412633815, 37.8719108255745, 37.40095843778194, 79.1086210536717, 28.263401381116232, 26.30465408900178, 631.0685847431688, 25.783028821439693, 24.660070670368256, 24.192735594278325, 23.544342447943233, 20.961009131679376, 19.528844772484543, 18.423072959914638, 17.60447719951144, 17.056087111681045, 15.76621502512385, 14.419724146699293, 18.243390454015838, 10.345024388309808, 10.193076170384181, 10.17924071601991, 9.934351530606705, 9.612637311187076, 9.453425714458147, 9.046820865308366, 8.524237866938575, 24.69467104317609, 28.482583240694638, 300.6059357024717, 156.1369475083097, 17.859024677592068, 144.8695637992441, 51.406407673041784, 189.63830543526262, 51.62697683386371, 82.66963320804386, 83.79291999223558, 58.47675207624083, 96.19082980365705, 67.06900115426859, 214.5388181807127, 78.44412018968346, 47.660806989760765, 43.37079267940488, 38.58461277879178, 75.48986336530547, 43.75911965861788, 57.04179433552353, 39.650787821435706, 42.6765833813423, 37.836735344806165, 224.38113309821983, 114.77515124446899, 35.44913146545262, 24.16487207192903, 24.125981424684035, 26.475265602485607, 24.39935148177118, 23.320522258029463, 866.9194274969012, 20.809074961458993, 20.65891856377289, 19.73556144882213, 17.64757840189496, 17.048228581815703, 16.917723350182115, 16.910618393339416, 18.61810057737648, 13.146725093330916, 12.876185935157695, 12.565257551608857, 28.743750971493416, 12.099578638776485, 11.707187548046956, 11.582501323569636, 11.544272312706841, 11.522298067801268, 11.450176309134404, 11.120793360032824, 9.320749377128369, 8.823916438713288, 32.910309387694525, 39.71149256779153, 177.6639314070638, 73.6967337450858, 51.61578102859462, 22.684799401964657, 84.17639805775994, 120.02929962871356, 234.1916466489962, 144.81651932276569, 91.0826604053739, 44.5615157117932, 144.6839296537776, 63.292918974866076, 60.731451967801306, 40.122829079099226, 50.41657922338705, 63.540902552919285, 60.69878861956553, 48.13820210771477, 34.85974577618906, 35.82211342463526, 37.761185307477696, 28.430832023786163, 30.89358514463145, 144.63783353213475, 97.07814653231858, 93.60458919972913, 51.04481946454331, 37.072314188053284, 32.02245482998328, 23.42609401055626, 23.332234113587283, 23.43491695148996, 21.547214668190414, 52.65924951511197, 19.67934851538524, 129.21970442778976, 16.72936126758403, 15.782374088127453, 14.779703708981732, 13.7614427418822, 14.046239222186715, 13.204411631479175, 60.792841772872734, 11.674923404934715, 11.552197579722895, 9.38588350302459, 16.55870660777148, 237.89427496930347, 7.438861986077889, 6.907911427128459, 6.5799377349389525, 246.1836270900272, 39.492426089867394, 116.58227073280136, 147.5725189065739, 97.12432316801774, 72.16560378692404, 143.68553997759557, 26.783130116190804, 55.44371480695374, 42.14603840666788, 66.69917241423808, 64.22381536246021, 127.0803226659, 72.75774082178442, 150.9529796106553, 39.37509513463222, 45.13729414210871, 72.76312573608548, 90.14985473109753, 70.10580548322561, 58.79897658996321, 65.40142134191665, 62.92458642540866, 55.59521806551439, 61.15287439969991, 58.665393547441425, 45.64736986174521, 46.00829628700198, 325.330016909801, 42.155416940203885, 40.639238951396614, 964.9527533976974, 33.208214134575556, 29.19374826318166, 28.978912682919216, 26.728870084841017, 26.66048558543313, 20.710919056732703, 17.706694437529986, 17.10489971831987, 236.17534939679544, 12.129855461262212, 9.122238852739846, 9.102522735006538, 7.389849116106174, 36.11377856796343, 85.5991722247246, 11.073832422774501, 5.6470647591061764, 5.44751566732415, 4.373713215211425, 3.9969091859338466, 3.862783915293634, 3.8266173206612684, 27.82383339087875, 2.4982171562048494, 11.702021748160687, 2.3819811048942308, 5.553672849606721, 94.06652122433222, 1025.6110127147429, 40.0485628989018, 11.093523606461353, 54.6481490875455, 20.41302241371831, 25.168021792808027, 32.78161945178248, 38.97922603860897, 19.36325110787827, 21.527501406115928, 23.141081370393852, 16.2585902315517, 16.27963840276677, 20.66038541658294, 216.63032529135438, 126.38734698259098, 125.43820955215696, 599.6300120955151, 70.94125345062695, 181.22038035620668, 37.579132969537895, 28.98881768245784, 28.36786267980572, 27.08486229131488, 19.949008150449465, 69.30698617095896, 15.843426462259806, 14.31592458615038, 13.097565871484688, 12.494699226289093, 12.08876753592419, 11.954510129617724, 11.432903057816237, 24.370790047650157, 10.279966299062052, 8.89001454297733, 8.947679689745321, 8.286851697333718, 8.020585707539706, 7.812739744296249, 7.404883230307991, 7.103794516322044, 6.680348656424119, 6.324603770447925, 201.74857061894045, 118.73016088166706, 20.32422797623835, 679.9297273284106, 192.6939088871212, 99.16755723929597, 40.418508547065976, 47.10088267775113, 35.568953771124825, 58.6502385233578, 41.69819800886605, 20.72460854429108, 20.140516598043202, 23.845961196865556, 32.298026602344684, 19.392630596929887, 20.640409013699347, 141.99485747844898, 69.13893561947351, 511.03521917480515, 40.096218928387785, 32.030153200959745, 21.892181792253552, 17.039610098189527, 16.887919974758066, 16.15740161073278, 13.422210347163103, 13.091539485089521, 12.794938855339408, 10.754517086650274, 50.5635952203676, 7.69438851886418, 7.226833802004495, 924.3120067878513, 83.90666315877755, 4.921550653452892, 4.809840173470626, 4.800507595205926, 46.78611545647816, 4.044434497766277, 47.974053293945175, 3.8354936336398304, 3.68957495682597, 82.33910959376558, 17.98692959679535, 3.3155628533999386, 3.205700068240698, 10.86934391717881, 15.355570010207982, 48.54240117393355, 82.56213931109514, 92.48552854871271, 18.055696049658263, 52.38998173398839, 10.250928511273836, 159.2439825378525, 19.379524397452865, 17.933231339226058, 17.00903057383886, 15.16828586734836, 13.211525776387667, 204.08379983407107, 110.8665688480491, 87.40478837977193, 446.47427526066764, 53.73968955481516, 42.52339328187797, 30.261667582412286, 20.43684614010923, 19.54204148804694, 17.34450756540268, 14.705626803477953, 14.275709435938976, 20.66185196379428, 10.974806983367156, 10.436260239723675, 7.3344794294997575, 7.204002624604158, 38.85181686790412, 6.37011363509796, 6.328412456508635, 12.929401277612106, 10.465509693931718, 4.833958915884959, 4.617564926413247, 4.527066933264305, 4.509898028371904, 4.209128107778886, 3.722403416549182, 5.896477070628228, 2.5653528426662966, 349.115300369236, 36.73279022992389, 279.9725600219428, 16.551879498622036, 19.28022311551844, 25.689540998388093, 15.902577265190454, 8.812464179433912, 84.48644321760807, 45.12965931672375, 23.9234048483662, 104.43125654091055, 25.31082073469529, 32.95575285033833, 29.52862080919574, 38.19953378013635, 25.508129811438195, 17.012915439166314, 15.681262432129175, 15.89538284009951, 100.60722682945749, 76.52008164359671, 36.14966166610004, 31.444848142537392, 30.793968793218394, 28.841145070074525, 27.273120626094755, 26.268196332279857, 35.87800883121493, 23.336046399867467, 18.38399131024462, 14.235877161148183, 14.350145183920823, 12.585769229827681, 12.530133165557043, 10.654189006273295, 10.879760521639048, 9.972050988332581, 9.932367935387747, 9.68290516717653, 8.221628900901225, 7.556732329535733, 7.218560104392938, 17.00952572120275, 21.820625743626838, 6.301626403441539, 5.0542335249748245, 14.882389379889554, 4.909565581319736, 31.22483057347074, 348.9195264915967, 285.9159209885023, 21.08897768802007, 52.24635798617463, 43.38727794110742, 48.60438937823325, 28.606170611968377, 35.35189818922323, 91.03878226033187, 77.04501048811524, 43.09208952172467, 33.79014906473478, 26.08751681158784, 54.18817919993447, 38.0761897681847, 37.11173513773468, 32.09190860490485, 386.9413370613847, 267.65442795868694, 88.90377837091808, 68.96248790266509, 48.15325057745701, 47.81263624637561, 24.596903826189795, 24.15802513347125, 23.691911065095137, 22.686498095349375, 17.439751723614346, 14.037539034751509, 13.476224614178234, 12.080961851315424, 11.92189690561071, 9.340113403863997, 9.106393351747917, 8.370612025580586, 8.210447787841225, 7.814728178886899, 7.149487923983989, 79.86827214186881, 5.866957203132262, 5.297749485865273, 5.254288868432803, 52.45365727419373, 5.0058720178405345, 3.525023256307137, 3.2079279577791344, 18.205533275491835, 37.19754708333214, 87.26703462540299, 47.19358999973647, 165.21287055535242, 33.050905937437626, 22.00694092690666, 27.632915746365644, 24.744330047156176, 22.497818744573017, 26.19573268077334, 30.0630942928458, 36.27185296748564, 20.183438623824784, 13.747074263833932, 15.299129785625734, 14.96072234859662, 14.281103448851741, 138.20476790443143, 135.63796053001965, 48.050134848321626, 37.05372913015129, 32.48487244503467, 22.180932763828377, 103.48884996840556, 13.171600103176775, 11.260041406604572, 10.576113407949743, 7.89635920107203, 7.589067355676001, 6.14673933065051, 5.830386531448652, 5.797202675469159, 5.542390092989454, 4.574551042497781, 7.006135500880053, 4.249742402405904, 4.249741236485064, 74.00306637199803, 4.050764603019216, 3.7636146230896506, 3.7087545498186327, 10.373243181839673, 3.351373287747482, 11.86995092075022, 338.77036959115674, 3.1195797718864418, 152.9580876986256, 388.66196914108787, 10.626421726262521, 25.237347608302525, 202.74906361640612, 66.11106013638107, 48.10189240623817, 11.921054397075682, 12.0950401003027, 18.98284454627902, 11.08217318698131, 6.97206088137902, 8.129443682782842, 7.005037203449044, 170.81709744187808, 226.15152589008278, 60.813333198377585, 29.967429334720276, 29.70844860559148, 24.897695473178764, 24.34204530043817, 21.30499467274017, 19.80979096796599, 16.993915708713104, 16.946624940627, 14.234811174191705, 14.058541322551632, 26.614339453190237, 11.352455211614823, 18.302390649237292, 9.164738275562254, 8.966824012788813, 21.965724539713577, 7.760549676628481, 7.2686499230101385, 7.003619398641745, 6.339341633910471, 6.274180558866059, 19.402619417017178, 18.392668267650073, 5.441359390600067, 9.711584385530523, 5.1170382565202175, 4.085940895213275, 9.376315951009904, 102.5656829886337, 45.756480273043806, 38.29772974747823, 73.6147587935464, 74.42680821688126, 73.51915687565615, 16.30432953396563, 40.09972822214322, 16.228163925531515, 23.070154751020517, 67.0608644609954, 29.28197265350692, 30.74469202662066, 22.02412831125449, 24.268928845492688, 20.086846407442128, 19.58914868355947, 17.67218720199526, 87.3160568933322, 56.18783961944541, 47.066987834097546, 29.624590312765772, 27.02294429243868, 22.822593565889637, 21.22612220783788, 20.93776185436427, 21.759011572490166, 13.894109082287315, 12.240615198196698, 11.886060946280391, 9.956433051591967, 30.32234255343402, 108.69917895484333, 6.928513659371987, 6.773673929338762, 7.380090952179711, 5.975907748771033, 5.877366375709907, 5.875094800027636, 297.5822852618696, 5.525845019223378, 5.455210268392111, 17.00129725891071, 4.500748169792905, 60.67567631243133, 38.123778758943025, 3.8221067238756308, 3.8033415919803133, 146.73191377883276, 75.16684959907731, 83.52082087995079, 16.428761118496464, 12.24962073857633, 17.25275675650375, 118.88191995474614, 24.07460811936932, 80.55005000303481, 22.14292563051082, 17.221042997120694, 13.981649008106004, 16.30445817120694, 15.591082184829247, 12.253747156217695, 50.07421052182185, 38.124664098126594, 41.28498133086645, 28.88494353809056, 28.466805999842958, 29.316951893524184, 25.099885469417746, 25.020791434282202, 60.13581550640824, 23.78413877084698, 22.09574970199517, 21.51884222082463, 18.80011284989703, 17.39596643223649, 15.476991071949714, 15.587261287569607, 14.474983903467425, 14.214436518556381, 13.608114519139722, 13.23734826031336, 12.92341726845157, 14.817641648657798, 11.842907564055196, 10.473277746532922, 8.344565640153444, 8.195686462693118, 7.901407043066849, 7.60761697406231, 7.432932707149376, 6.18117542119006, 11.49207793088663, 566.8593105986514, 55.76440308292308, 33.111602304001764, 42.907178107094886, 29.78527166951851, 22.90046674407825, 80.03933004322904, 32.38960102646446, 16.327180820003598, 22.096444954244625, 17.576722390524846, 16.594752391871815, 86.5342094603856, 45.3534480917985, 33.60968135379117, 23.677115625307245, 1217.2908723205271, 16.140054699743168, 14.015036271986054, 11.239482545261438, 6.359545755332104, 6.073858067714991, 6.064234779853233, 13.446116225504674, 5.135870508497879, 4.822982934281707, 4.422688982904515, 4.053173440239707, 3.872919097353331, 3.6908453475449954, 3.6320920955928897, 3.283899295184886, 3.247961525578106, 3.235616793738806, 5.765136340229146, 2.3476612356676214, 2.3314360033057238, 2.327271975722441, 2.324323658120722, 2.0003655346303653, 17.099831482494746, 1.8830627751950608, 19.019467169493026, 44.521401419337344, 16.40490067955749, 26.176078958902696, 88.85531634677658, 87.52359260139706, 39.344075668248806, 3.2670607503910754, 516.8139817688226, 188.49428044599318, 93.25061401425242, 50.01386946269607, 49.067378685318324, 25.97801789370552, 18.555215376092825, 17.71415147771381, 15.764915999177298, 15.443615081493629, 15.081991434734567, 13.907564751893647, 12.221551874219209, 10.764161141592012, 9.073962891648021, 8.25821946170989, 7.835731188196789, 7.797608954774759, 187.30176342438943, 6.234216359049697, 5.87592250034418, 5.212557733171046, 4.049697928656582, 13.987431421649887, 3.184059613550927, 3.493053754705231, 3.0618614624791265, 2.857052175595717, 61.73826389545986, 5.65610135334858, 13.780977670397336, 28.817899803553214, 58.25126888801498, 31.290815834241332, 34.9902753428107, 42.147527755434005, 42.559543244935995, 13.077641170435351, 11.251301651156018, 93.73076999283565, 72.94302649815266, 66.5049424556095, 42.99108381700741, 34.186636203359306, 33.79552573560603, 26.03894870300718, 22.775549864646493, 26.77083618497741, 18.761617137622057, 15.920271161460601, 15.817412044333079, 14.14190920032726, 13.912799948865773, 12.256427972500054, 237.3916579395334, 9.660636706666141, 9.558156226350574, 8.953865466555811, 35.14954650898684, 8.313769256440478, 7.047479117822215, 13.534692257580593, 6.769431058415119, 6.205014152942236, 6.022674800098373, 5.883140338846396, 5.819360424167451, 18.872518888981023, 5.356313816460199, 68.38888389373473, 75.88243649602046, 19.443052720694276, 98.88713541753687, 47.74076612148404, 23.847899801020663, 17.648566656553232, 50.34804367481098, 27.476955004734826, 20.455651826414183, 17.450042521725393, 14.992332334303708, 16.628866654313672, 113.97845894825075, 84.87099870739083, 85.26397203438731, 52.48915003519454, 35.206762888650935, 32.23123294874734, 30.003410861681534, 29.608648519671373, 25.800378582974194, 23.65209885574736, 20.1700954180418, 17.548797889578584, 14.859271382602504, 14.357620042732417, 13.882394797814914, 13.002791720109466, 35.7921799283767, 9.716966238529718, 9.548629596093916, 9.538112159077425, 9.109564956616628, 14.589410927664845, 8.504012199572141, 8.494247004315561, 8.259122637665856, 7.736449906464297, 7.677464482135937, 6.722126745465222, 29.413391106613926, 6.6701388432186945, 32.19784792013448, 100.72094273286719, 24.402291245028266, 12.006263865415898, 22.45545423640514, 111.37900153654498, 12.168258059094784, 17.03029596234992, 25.03940189217112, 23.676962817008167, 16.873677182285423, 16.16860442113538, 14.171337459670829, 137.86887960850552, 98.34941000685257, 61.06974531870464, 60.37520528273688, 25.281437791962865, 43.76521273001366, 19.649040491975704, 17.78156792466571, 17.072730824877965, 53.43248385308692, 97.26717181996045, 13.476567182592229, 12.993130017793154, 12.37460594843905, 10.971303129104392, 10.438812702950187, 9.319617136915003, 8.956858338219709, 14.791050377664542, 8.140749908536602, 7.849940906571511, 7.597618078692625, 6.600547394809837, 5.71983720450772, 5.422838263989627, 217.83606629695538, 5.226031571921625, 4.297317397349184, 4.184590003556679, 3.8610375404543635, 38.31458808710113, 60.53846784270497, 21.753628447189236, 114.49697393917457, 20.724254007659233, 15.410507825875705, 42.86199218430909, 20.102998809839022, 21.116478382500844, 31.691880243370317, 11.213518039028868, 181.4346267878426, 158.5182270168674, 68.40696680913314, 49.32588922049052, 53.12844986449005, 35.74700758687771, 34.57349337545341, 81.76518071685075, 24.043768114048728, 23.279591475970808, 22.536719714242103, 20.133217496229747, 16.65599712873187, 14.398877753185158, 13.801975258300917, 12.943759107655398, 12.236961898350954, 12.183033048267646, 11.312869941298484, 9.649021707953642, 9.086085323467543, 8.11930424952494, 8.044842119400593, 7.660821723205958, 7.470743602264315, 6.995573872816424, 6.853082521217048, 6.55944427108925, 6.526635114241197, 5.67192774269309, 89.11174405018917, 41.554568733183096, 50.369722342679886, 94.89987684236684, 31.569534028593083, 37.64497930390801, 16.60015295615558, 10.771883046763064, 10.723912683827589, 56.69858819713614, 47.14680210167076, 36.71516666962125, 30.968771219153727, 29.410230231912948, 26.28605528348578, 20.755813321140927, 20.68251307064926, 20.478849897968868, 19.598528146374086, 19.406427331079342, 76.6745894345909, 20.525303478283913, 18.856833205261466, 18.26611197837362, 17.052020585772645, 16.405421099107297, 15.788328991446408, 11.940466549794696, 12.508705040166795, 10.932939464198443, 10.761332180785319, 10.6784351567916, 10.105201721280116, 8.471124104631185, 7.9028181264004225, 17.556823019795083, 7.198166427310352, 10.68896916793085, 6.977161405747958, 16.642443520325408, 75.35562697121513, 105.55970338702348, 44.05650268390009, 21.54944691828153, 23.332000354786427, 35.7393900907318, 29.805884552117757, 23.551533297431707, 142.67823801162058, 83.94779085596707, 65.66356276581043, 27.04469528930258, 25.470305088838327, 22.18933774496, 18.61904047277218, 17.75303262918171, 17.402404924308577, 15.145141275518641, 14.905834005256521, 10.774318127759326, 9.734267186174277, 8.828733602079332, 8.632404972657797, 7.833551098316498, 7.405478574939188, 7.078253861233037, 6.602478204561073, 6.002510803206644, 6.002492793173353, 5.698233803779392, 5.520078554462648, 5.507792361054168, 39.78951796508518, 4.965423559192961, 8.69520721525823, 3.663073236240642, 3.6250557313148115, 21.787166162483363, 28.369997514913635, 39.044612936048736, 41.335184256639856, 25.264523286128817, 48.52167674260119, 41.89119000440638, 77.6351451852957, 46.2566846953394, 56.958407310767704, 15.282089568665075, 32.556762310816524, 14.496967716451355, 9.72660580177979, 27.49508685114553, 20.16858017799842, 15.862865394776783, 14.96921591962614, 10.832094314557557, 153.62346704033862, 120.04475641743777, 218.36535158221218, 258.22351722320224, 58.10449851724364, 58.80686882229726, 56.391332118369135, 66.29882096922364, 21.42911362784646, 19.658746060418746, 15.808556561035509, 24.434473409575613, 9.489487183155884, 7.2031611347308315, 5.752393846546791, 14.492542298635657, 4.952023731723951, 27.985445878826923, 32.04807300761, 4.206832699015988, 2.523734608595869, 6.892066642701743, 16.148398994177025, 1.938812502270735, 1.8310481105605052, 1.6458430054083562, 7.738978140923118, 0.9877358969784589, 0.8018921063905857, 0.8010866530910891, 5.706299960394726, 82.88235426355223, 42.10442816261236, 8.80764497940107, 5.290722375261622, 101.55198941512944, 57.82731666559208, 236.06069674020907, 205.4555464929515, 26.563632168133303, 24.559192973180934, 25.172123055565283, 20.68171445830597, 16.376091902540452, 14.90360861043197, 14.749571398060876, 13.914062908412127, 11.442484408497082, 11.180062996031337, 10.653719238807579, 9.631694454774328, 9.288117558757085, 8.978317848357374, 8.760284459451809, 8.481569694286586, 8.259295116118308, 7.16382233868305, 6.848632352411875, 6.66757463335505, 6.570716897852382, 40.09183046873055, 6.065264495507506, 6.063725895030295, 5.209292246969371, 28.70277610392391, 69.76355812591396, 31.047094917663916, 40.0374558228639, 49.81585171447606, 21.812245139646755, 11.472482357537556, 17.632823421516942, 24.526751973288565, 17.528268130331142], \"Total\": [1285.0, 2386.0, 998.0, 1075.0, 796.0, 913.0, 518.0, 1699.0, 607.0, 658.0, 569.0, 523.0, 580.0, 453.0, 389.0, 522.0, 459.0, 448.0, 463.0, 610.0, 356.0, 564.0, 389.0, 262.0, 327.0, 270.0, 242.0, 266.0, 260.0, 220.0, 580.8268135128491, 448.7399677416393, 192.6594282172358, 54.72930494316849, 65.36617702689453, 43.193583746379666, 42.51610348674561, 44.614158986298115, 38.69211910555246, 30.386794202800008, 28.50785379293894, 27.900348819436836, 24.117396811216064, 522.5687596456128, 20.85381189408185, 20.853798257203774, 20.365646857916527, 18.10991324807335, 168.8151747100363, 14.843679684122256, 13.487199297948852, 11.39873548248162, 11.205878224805575, 10.793466682409257, 10.669019261867525, 9.869019865386448, 8.966520051076213, 8.842781047746719, 8.835818771956772, 23.708972212669533, 47.37257880737904, 2386.0907735276182, 37.155462642264105, 113.26741375016134, 41.40806974536769, 152.17241264247642, 562.482727787794, 82.70012988131666, 418.09280214738453, 138.36117363035277, 519.7993203300789, 306.04704191117173, 266.3924215306822, 237.16923616545853, 176.11850875180613, 128.4755941291311, 1285.1018022835804, 132.12736826665676, 85.82325023463213, 76.12177269467806, 73.10447031925773, 60.83832020545549, 56.365442050189934, 53.94575498215334, 53.87448217865113, 60.99972158232106, 36.55124984202172, 34.865290927354934, 65.40556985733645, 33.80408456004297, 33.98153110658568, 30.609296508316167, 28.22600681865977, 27.126410006150497, 26.45925818964847, 24.8584394341203, 24.20324020028579, 23.51388370655489, 35.1404425269304, 21.683869925477847, 21.5781731893761, 202.86628303484724, 19.771525020005708, 18.916844205384383, 17.24132534736617, 16.39641726772592, 15.277363230074384, 26.581828532257457, 275.4626653509785, 49.17538253782308, 117.86729069819938, 235.5006775364042, 554.7261953786258, 224.68850403511215, 562.482727787794, 192.44813577395655, 54.79667561241709, 375.0148238847437, 217.23932646911652, 310.12208999758826, 84.35223766585173, 776.5511858570721, 251.35374094842564, 454.538830705224, 209.3254828533806, 246.8773952124451, 418.09280214738453, 174.9669709011368, 88.03821263909977, 74.91109252586386, 51.669045601000185, 40.37769967189282, 39.024540453950344, 38.553577108319416, 81.94294157941874, 29.416020051653696, 27.457272759539244, 658.9293030144589, 26.935674418621534, 25.81268934090572, 25.345360473059152, 24.696970407924166, 22.11367334645439, 20.681463443022007, 19.575691630452102, 18.757095870048904, 18.209429958036537, 16.918920144427844, 15.572342817236754, 19.897358114947213, 11.497643058847268, 11.345705832282267, 11.331860426928825, 11.087463778681537, 10.765255981724536, 10.606117481597263, 10.19952255343662, 9.676856537476036, 28.090936114515557, 35.36397683311739, 474.2009778628172, 231.9321460828592, 21.713434954868557, 273.8748589658909, 86.68783533639808, 519.7993203300789, 97.35563980910085, 192.1116237149947, 214.4329431233454, 125.76810769901262, 306.04704191117173, 175.84318793252348, 1699.8181608023335, 310.12208999758826, 138.17911247170127, 112.9463366439576, 93.10479004128096, 776.5511858570721, 162.66413333150632, 554.7261953786258, 162.8457552969267, 418.09280214738453, 279.6180455875472, 225.6224436197046, 115.95676183729205, 36.61503198521286, 25.331015763737565, 25.297568103125414, 27.781898416512007, 25.634248514875683, 24.541215004367288, 913.4330076419403, 21.974965797791896, 21.824809400105792, 20.90145228515503, 18.813469238227864, 18.214625233754504, 18.083779043029814, 18.077259407752955, 20.023971834993564, 14.31266754212852, 14.042076771490596, 13.731148387941758, 31.415435676199316, 13.265469475109386, 12.873078384379857, 12.748833921706872, 12.710225939046216, 12.688188904134169, 12.616067145467305, 12.286684196365725, 10.489303250839932, 9.989901969882299, 37.76391930330807, 48.05904300450643, 233.46076410166683, 92.48083293431858, 66.99153637019151, 27.42837047492703, 152.17241264247642, 246.8773952124451, 610.6887979916505, 418.09280214738453, 234.3389750336344, 101.79074342809385, 776.5511858570721, 237.16923616545853, 279.6180455875472, 116.93942138769624, 251.35374094842564, 519.7993203300789, 562.482727787794, 454.538830705224, 162.8457552969267, 281.3923510519429, 564.3301313541842, 76.75016108819814, 143.57422447712906, 145.81627163064263, 98.23313506802178, 94.75957773543233, 52.209780852158076, 38.276587998314774, 33.26743497180426, 24.58108254625944, 24.487222649290466, 24.60932096248644, 22.718855467263644, 55.588949627260014, 20.838369392377516, 137.89740978002638, 17.88434980328721, 16.938470204615733, 15.934692244684914, 14.916584678387329, 15.237126001303395, 14.359475147845773, 66.26230097164584, 12.829911940637897, 12.707243233390471, 10.540872038727773, 18.89365246772645, 273.70067376442745, 8.593850521781071, 8.062926812004472, 7.734926270642137, 289.6140105230821, 46.511398483191364, 145.2419834246942, 195.83201349673448, 128.4755941291311, 94.02964386809816, 210.8588592367225, 33.810574793511734, 80.41029554220609, 58.73525974518375, 103.2620045250657, 99.8238569862886, 251.35374094842564, 138.36117363035277, 454.538830705224, 63.27751540050773, 82.33353834873859, 237.16923616545853, 554.7261953786258, 474.2009778628172, 306.04704191117173, 418.09280214738453, 375.0148238847437, 389.20341981971177, 776.5511858570721, 1699.8181608023335, 224.68850403511215, 519.7993203300789, 327.95329532269005, 43.32594336066688, 41.809870274618035, 998.6572378007404, 34.37876084479379, 30.36427468364465, 30.150019751826214, 27.901204267860454, 27.831217426802375, 21.883332848896497, 18.877229693486836, 18.27542613878286, 257.9434233372924, 13.300381881725196, 10.2932403369984, 10.273127091554125, 8.560381958242534, 42.41774243587316, 100.73802985100677, 13.32182834704141, 6.817651908607459, 6.618070680180117, 5.544239635674412, 5.167435606396833, 5.033310335756621, 4.997143741124255, 37.798225674292496, 3.6690448703345453, 17.258261137613104, 3.5525192847619373, 8.628126901840602, 177.74464029611337, 2386.0907735276182, 80.20033938292343, 20.07758731697287, 233.46076410166683, 69.55195089721751, 131.04594325501267, 235.5006775364042, 776.5511858570721, 138.17911247170127, 281.3923510519429, 454.538830705224, 105.32468056488369, 126.1034775886059, 1285.1018022835804, 217.79791143963905, 127.55493313087568, 126.60972408878632, 607.4545596054046, 72.24949097383315, 186.34470497182235, 38.74935809670678, 30.15643807244435, 29.535448828090384, 28.252448439599544, 21.138672815375713, 73.57187426395492, 17.01101261054447, 15.543619096601027, 14.265278082301997, 13.662285374573756, 13.256353684208852, 13.122096522470859, 12.6004892061009, 26.860302807669903, 11.447732831352075, 10.057600691261992, 10.124298861918398, 9.454438165968634, 9.188228192401898, 8.980325892580913, 8.572547438261493, 8.271394904383035, 7.851815721130555, 7.492415470625013, 240.8787341467836, 152.2988352098216, 25.656644503124905, 1699.8181608023335, 796.8008013260546, 375.0148238847437, 195.83201349673448, 310.12208999758826, 174.9669709011368, 554.7261953786258, 463.76604234632777, 74.93529491566484, 75.51820591890947, 209.3254828533806, 1075.6104469730492, 94.60135517343389, 257.9434233372924, 143.14620165278, 70.29030431474146, 523.6686374140086, 41.24768884626045, 33.19963774484859, 23.04352596658456, 18.190954272520536, 18.041956061924747, 17.308759282495515, 14.573630421947843, 14.24288365942053, 13.946860959460974, 11.905861260981283, 56.25830244530225, 8.845756065022329, 8.378177976335504, 1075.6104469730492, 100.91125398888421, 6.073046128875822, 5.961247488863057, 5.951851769536934, 60.09313210816038, 5.195851542146861, 61.74451773290864, 4.986837807970839, 4.840919131156978, 108.57339328864208, 24.163011027939184, 4.466907027730946, 4.357084558741426, 15.177315468170512, 22.01831235340801, 93.10479004128096, 177.74464029611337, 209.3254828533806, 33.56791038394165, 174.9669709011368, 19.037441311151852, 1699.8181608023335, 138.58246104830485, 231.9321460828592, 463.76604234632777, 306.04704191117173, 105.7892805089526, 205.59659877186056, 112.02757008580703, 88.58900304495874, 453.26861509054675, 54.907426858254844, 43.68684672545593, 31.422770422864154, 21.597742254697284, 20.70271266225022, 18.50517873960596, 15.868627907709245, 15.597793907918513, 22.668256231517688, 12.13851273161894, 11.596931413926955, 8.495150603703037, 8.364673798807438, 45.59211683947596, 7.53078480930124, 7.491837885980232, 15.511890436339167, 12.804584998470498, 5.994630090088239, 5.77831645437415, 5.6877381074675855, 5.670827418284782, 5.369799281982166, 4.8832860280179, 8.481884877283745, 3.726230015994789, 564.3301313541842, 62.52415530448706, 610.6887979916505, 29.217354788044616, 35.49574258906169, 54.138772172533955, 32.19539087378443, 14.71105832203748, 454.538830705224, 192.1116237149947, 73.53246589660857, 1699.8181608023335, 113.26741375016134, 212.44653972366999, 218.01753018452888, 562.482727787794, 174.9669709011368, 138.17911247170127, 62.15758253455267, 306.04704191117173, 101.83117611278183, 77.84918278934515, 37.31169713918368, 32.60295740033503, 31.952078051016024, 30.00036254206091, 28.431229883892385, 27.42630780121273, 37.51615858560372, 24.494247878083716, 19.5422327105678, 15.394358003083543, 15.518112803311972, 13.74395048389475, 13.688481989347954, 11.815881148413153, 12.090118688486784, 11.132940262336673, 11.090583729529378, 10.841014424974158, 9.379738158698853, 8.714862002809552, 8.376669362190567, 19.784888282861967, 25.608776599574878, 7.459845713259126, 6.2123427827724536, 18.347099545747547, 6.067676724032168, 39.811417976868746, 459.34113698595206, 389.20341981971177, 26.9353169023433, 78.20292158898305, 63.46447261823698, 75.51820591890947, 45.74673963164215, 60.92071153670523, 226.79668621756147, 205.26455718367663, 116.93942138769624, 88.38309571760294, 75.49868397185395, 564.3301313541842, 246.8773952124451, 234.3389750336344, 214.4329431233454, 389.4625199386366, 270.70062372290926, 90.08617821240738, 70.36041439099722, 49.327896741655834, 48.98237261345074, 25.762933278198332, 25.324110472976493, 24.8588337107461, 23.85255966340628, 18.605781175622884, 15.204256186645047, 14.64225406618677, 13.24699130332396, 13.088116862708326, 10.506142855872532, 10.272476366839392, 9.536959566609058, 9.376525013712202, 8.980757630895434, 8.315959489412212, 93.24978837162186, 7.0329866551408, 6.46377893787381, 6.42031832044134, 64.4776130130557, 6.171901469849072, 4.691120811926116, 4.37395740978767, 25.112440118233415, 52.11583354812701, 143.7041079364397, 76.75016108819814, 569.638238198371, 82.33353834873859, 95.57261678874232, 205.26455718367663, 375.0148238847437, 275.4626653509785, 564.3301313541842, 998.6572378007404, 2386.0907735276182, 776.5511858570721, 56.42393803832533, 356.81975421939694, 273.8748589658909, 226.79668621756147, 139.38596149380004, 136.80675888813388, 49.21893320643586, 38.2226051806013, 33.6536708031489, 23.35094615814047, 111.69955492087077, 14.340398461290993, 12.42883976471879, 11.752679538184617, 9.065239621709685, 8.75789534919309, 7.315537688764731, 6.999184889562874, 6.966086905606273, 6.711222272999883, 5.7439248503833475, 8.914180456760736, 5.423585593952866, 5.4235849584414995, 94.60135517343389, 5.2195792281283575, 4.932412981203872, 4.878201195296846, 13.784879996515604, 4.567393431316939, 16.17773291432155, 463.76604234632777, 4.2883781300006625, 210.8637719726449, 569.638238198371, 15.893779391277148, 62.15758253455267, 1699.8181608023335, 474.2009778628172, 519.7993203300789, 38.07994676022254, 40.06739935177096, 459.34113698595206, 776.5511858570721, 48.05904300450643, 658.9293030144589, 1285.1018022835804, 171.97455409288168, 229.46858376420377, 62.188659193818644, 31.124885985723868, 30.86595332135055, 26.059875765212684, 25.49950195144176, 22.463137822501576, 20.967247618969584, 18.151464931274198, 18.10414125481625, 15.392412016815438, 15.216828038653583, 29.137757982264247, 12.535889061184765, 20.575010812363626, 10.339219532142643, 10.124291409961577, 25.021452983814118, 8.91800632763207, 8.426106574013728, 8.161076049645338, 7.496798284914062, 7.431644576638649, 23.371684337552733, 22.23120751221604, 6.5988160416036585, 11.80557692194684, 6.274494907523809, 5.243424115151694, 12.657063344821008, 176.11850875180613, 73.53246589660857, 64.11042898962765, 162.66413333150632, 234.3389750336344, 310.12208999758826, 30.242843375368253, 131.04594325501267, 31.9342139844987, 65.51378379749374, 610.6887979916505, 143.7041079364397, 210.8637719726449, 260.54508771984973, 776.5511858570721, 231.9321460828592, 192.44813577395655, 136.04446010714153, 88.48060993369013, 57.35245371983138, 48.47968870430365, 30.793476218813996, 28.187504958181712, 23.987146606247567, 22.390683515067746, 22.1023148947222, 23.025465024266417, 15.128342348979492, 13.405168238554628, 13.05071174509511, 11.121010689005141, 34.92554518727878, 126.1034775886059, 8.093072830421928, 7.938232242777909, 8.670387469410286, 7.140487367844449, 7.041945743050463, 7.039647840385568, 356.81975421939694, 6.691687922854344, 6.619783140525428, 20.958878869503216, 5.665390878585679, 78.29450014792747, 49.5538552324504, 4.986683497611268, 4.967898003013622, 281.3923510519429, 138.58246104830485, 175.84318793252348, 27.94513732911119, 21.344156361441833, 36.22307102224301, 776.5511858570721, 78.20292158898305, 1699.8181608023335, 103.2620045250657, 64.6348704158896, 40.56819302666365, 192.44813577395655, 212.44653972366999, 99.8238569862886, 51.52101600564081, 39.28679282849681, 42.5915719720363, 30.054742105418224, 29.6289594884727, 30.52097029959911, 26.26418096677644, 26.18300616937983, 63.035859054933944, 25.00349555388021, 23.257878432365377, 22.680970951194837, 19.962241580267236, 18.558342716402834, 16.639119802319918, 16.829474446409336, 15.637162711618029, 15.376565248926587, 14.770243249509928, 14.399524409306421, 14.085895126129152, 16.239672053053955, 13.056140216751801, 11.682743827691441, 9.506707954926569, 9.357815193063324, 9.06355364382806, 8.769771504684071, 8.595061437519583, 7.343304151560269, 13.74864213858746, 796.8008013260546, 71.37269883473236, 42.74250837064231, 61.12383486354327, 45.68139161010111, 36.99733917314298, 1075.6104469730492, 226.79668621756147, 36.22307102224301, 273.8748589658909, 209.3254828533806, 306.04704191117173, 87.70896377491079, 46.531530218887674, 34.79767640151214, 24.854900627453084, 1285.1018022835804, 17.315253744668787, 15.18986722203128, 12.416611708398365, 7.534284592506496, 7.248719538538365, 7.238973617027624, 16.065871589040466, 6.310609345672271, 5.998499354478942, 5.597449265065908, 5.228413239992391, 5.047695134752606, 4.865584184719387, 4.806853358423505, 4.4586605025366834, 4.422700362752497, 4.410449342932048, 8.030702295506233, 3.522400072842014, 3.5061748404801167, 3.502010812896834, 3.499062495295115, 3.175120523031239, 27.21630293306116, 3.182973373347981, 33.602092717327956, 101.79074342809385, 36.302297255000305, 74.93529491566484, 459.34113698595206, 1699.8181608023335, 519.7993203300789, 610.6887979916505, 518.0913512218348, 189.73099425460765, 94.75982471465065, 51.18564799889929, 50.23747789690008, 27.206839717146895, 19.726850453177352, 18.884470410063166, 16.93574224235183, 16.613336900916362, 16.251738361993965, 15.077468986109144, 13.391495053182567, 12.018745410771302, 10.243684711070758, 9.428218257366215, 9.00793344991946, 8.967330774197496, 218.01753018452888, 7.403938178472433, 7.045862320718177, 6.382279552593783, 5.219474246710749, 19.116919441967276, 4.35379476198121, 4.778064086558308, 4.23178473862932, 4.026843208258557, 87.12009065497433, 8.131202925282624, 20.02953946145139, 48.8059092304522, 136.04446010714153, 105.7892805089526, 212.44653972366999, 463.76604234632777, 776.5511858570721, 237.16923616545853, 175.84318793252348, 95.14473940259438, 74.11479519324554, 67.67712888390197, 44.162815819431366, 35.352221500291556, 34.96214703402685, 27.20453399993943, 24.072234661445698, 28.408284077574127, 19.935636694481694, 17.08629200136766, 16.983210121497432, 15.308812972327619, 15.078407795157629, 13.422013269432304, 260.54508771984973, 10.82625053916318, 10.723741523282824, 10.11945076348806, 39.8642752762118, 9.479354553372728, 8.213079762019012, 15.779519705790952, 7.935030293366239, 7.370610524357623, 7.188559660368647, 7.049357398189909, 6.984970997532831, 22.91033965052263, 6.521899113392448, 83.80353717378316, 101.78054115713617, 25.273885926640904, 217.23932646911652, 226.79668621756147, 87.12009065497433, 63.20170498787356, 776.5511858570721, 454.538830705224, 192.44813577395655, 389.20341981971177, 273.70067376442745, 1699.8181608023335, 115.14030771317135, 86.04904990544748, 86.49776109209907, 53.65744081553812, 36.37021185446055, 33.39388045557165, 31.165259626602143, 30.77104717478215, 26.962554719977913, 24.81394762066797, 21.332147855079263, 18.7106876218977, 16.021264807076218, 15.519468807653027, 15.044243562735524, 14.164640485030075, 39.15998385453859, 10.879139245816019, 10.710486905430692, 10.69996111504917, 10.271574119975524, 16.494082840190316, 9.665860964492751, 9.656169533424006, 9.420971402586465, 8.898298671384905, 8.83934034267456, 7.883975510385831, 34.51312888007865, 7.894492421503822, 41.48805721272686, 152.0315000311731, 33.01712326181112, 15.889300847159888, 75.49868397185395, 2386.0907735276182, 25.982967601245086, 108.57339328864208, 522.5687596456128, 913.4330076419403, 273.8748589658909, 237.16923616545853, 112.9463366439576, 139.1418841009487, 99.88420460382113, 62.24025551944427, 62.745941515153255, 26.45575953018095, 45.88666850620454, 20.816252773048266, 18.947732291337626, 18.239104195639406, 57.32930350904318, 104.9268792721139, 14.642293048637194, 14.15891455981457, 13.563699652905385, 12.137028995149358, 11.605474763744029, 10.485529725920284, 10.122584204264674, 16.807374916966833, 9.306475774581568, 9.0156805713188, 8.76334394473759, 7.766273260854802, 6.885563070552685, 6.588564130034592, 266.3924215306822, 6.39185910267784, 5.463183800217071, 5.350315869601644, 5.026784493300334, 50.386935870400436, 95.57261678874232, 35.44828628433959, 279.6180455875472, 40.06739935177096, 30.739620088866225, 356.81975421939694, 86.68783533639808, 152.0315000311731, 776.5511858570721, 212.44653972366999, 182.61396804359975, 159.69068789431202, 69.60492449324649, 50.53556584378615, 54.633310852133334, 36.91004472446173, 35.73756956598721, 84.67769774224948, 25.207156232588304, 24.442696549575054, 23.699756851826123, 21.304575857883602, 17.822237622839626, 15.56191489076918, 14.96501239588494, 14.107110402127143, 13.40102571169139, 13.34607018585167, 12.476159307210944, 10.81206481387664, 10.250022045706281, 9.28237107781241, 9.207879256984617, 8.824130795694561, 8.633809849753964, 8.158611010400447, 8.01611965880107, 7.722481408673271, 7.689672251825218, 6.834964880277112, 123.47228375968402, 56.42393803832533, 70.024761806467, 143.57422447712906, 57.428665920357325, 289.6140105230821, 212.44653972366999, 41.0418176122779, 105.32468056488369, 57.850512193651845, 48.29917304799698, 37.86709685854598, 32.120695215669436, 30.562245327764455, 27.43871914367165, 21.907737317656636, 21.834607998401488, 21.631668053222757, 20.750494598551676, 20.55835132759505, 81.22662826343017, 21.755737449995813, 20.008800482573687, 19.41810088971324, 18.204064914416975, 17.557725081350494, 16.940252987962115, 13.092390546310407, 13.719848701944578, 12.084963372647168, 11.91325617730103, 11.83041297453824, 11.257125717795827, 9.623055021010872, 9.054963751831714, 20.23083072008362, 8.35098885052291, 12.433863109965467, 8.129085402263668, 19.546832134033565, 97.40423094874973, 141.11125843417966, 56.78415731946317, 26.675561157766577, 32.797277342686165, 62.19275253258821, 49.069917982266645, 36.491311620410215, 143.87628654387748, 85.38504447585832, 66.82384301070758, 28.204942757887988, 26.63613966691063, 23.39879511002175, 19.77931103958596, 18.916171551703126, 18.563063549656317, 16.305391125753868, 16.066976374810906, 11.93465304366978, 10.894585415381163, 9.988981070664742, 9.792675579892954, 8.99384084539474, 8.56572927088765, 8.238503294300305, 7.762725673146482, 7.16276103647791, 7.1627402617587625, 6.858533019278018, 6.680329845823563, 6.668039829639578, 48.85184837772796, 6.12567102777837, 11.434634526111168, 4.823423370137286, 4.785305467776959, 29.869070392765522, 42.50797513997568, 59.717126421048526, 65.51378379749374, 40.56845864572829, 88.92105868500761, 74.8807995490802, 162.8457552969267, 91.32207102828632, 125.76810769901262, 30.152042643516218, 112.9463366439576, 30.219350092407495, 14.248425194229316, 564.3301313541842, 192.44813577395655, 105.32468056488369, 209.3254828533806, 69.55195089721751, 154.90452376837968, 121.28214800470042, 220.6626812498014, 262.9917045011451, 59.26997746041032, 60.004872436876134, 57.557230021941336, 68.60405346397809, 22.606168862456204, 20.82422500358542, 16.974035504202185, 27.29579388946319, 10.655007297870712, 8.368640077897508, 6.9179022960014676, 17.56194952821072, 6.117646988174122, 34.98987383674568, 40.78723147623115, 5.372585103893901, 3.689213551762544, 10.141382377211377, 25.724881049087692, 3.1043776948167285, 2.9965270537271804, 2.8113525739133913, 14.498645783640393, 2.153214840145134, 1.9675117528094563, 1.9668019052794494, 17.312570660315036, 2386.0907735276182, 1699.8181608023335, 138.58246104830485, 474.2009778628172, 102.93540658882853, 59.04166388985718, 242.76055305083878, 211.49369139083794, 27.73391984463207, 25.725815554366022, 26.4169944139498, 21.850796326335253, 17.54311213484276, 16.070231191617058, 15.91638320667255, 15.080685489597215, 12.60910698968217, 12.347020935238078, 11.821899128154266, 10.798339958947814, 10.454928695044309, 10.146195385881837, 9.926937457557614, 9.64823437681063, 9.425917697303396, 8.349223288928089, 8.0294841980823, 7.834197214540138, 7.737441936985832, 47.65672817081646, 7.231887076692594, 7.230348476215383, 6.375914828154459, 36.50715840141689, 113.3410425379844, 61.60128828685491, 105.32468056488369, 281.3923510519429, 84.35223766585173, 36.491311620410215, 152.2988352098216, 776.5511858570721, 454.538830705224], \"Category\": [\"Default\", \"Default\", \"Default\", \"Default\", \"Default\", \"Default\", \"Default\", \"Default\", \"Default\", \"Default\", \"Default\", \"Default\", \"Default\", \"Default\", \"Default\", \"Default\", \"Default\", \"Default\", \"Default\", \"Default\", \"Default\", \"Default\", \"Default\", \"Default\", \"Default\", \"Default\", \"Default\", \"Default\", \"Default\", \"Default\", \"Topic1\", \"Topic1\", \"Topic1\", \"Topic1\", \"Topic1\", \"Topic1\", \"Topic1\", \"Topic1\", \"Topic1\", \"Topic1\", \"Topic1\", \"Topic1\", \"Topic1\", \"Topic1\", \"Topic1\", \"Topic1\", \"Topic1\", \"Topic1\", \"Topic1\", \"Topic1\", \"Topic1\", \"Topic1\", \"Topic1\", \"Topic1\", \"Topic1\", \"Topic1\", \"Topic1\", \"Topic1\", \"Topic1\", \"Topic1\", \"Topic1\", \"Topic1\", \"Topic1\", \"Topic1\", \"Topic1\", \"Topic1\", \"Topic1\", \"Topic1\", \"Topic1\", \"Topic1\", \"Topic1\", \"Topic1\", \"Topic1\", \"Topic1\", \"Topic1\", \"Topic1\", \"Topic1\", \"Topic2\", \"Topic2\", \"Topic2\", \"Topic2\", \"Topic2\", \"Topic2\", \"Topic2\", \"Topic2\", \"Topic2\", \"Topic2\", \"Topic2\", \"Topic2\", \"Topic2\", \"Topic2\", \"Topic2\", \"Topic2\", \"Topic2\", \"Topic2\", \"Topic2\", \"Topic2\", \"Topic2\", \"Topic2\", \"Topic2\", \"Topic2\", \"Topic2\", \"Topic2\", \"Topic2\", \"Topic2\", \"Topic2\", \"Topic2\", \"Topic2\", \"Topic2\", \"Topic2\", \"Topic2\", \"Topic2\", \"Topic2\", \"Topic2\", \"Topic2\", \"Topic2\", \"Topic2\", \"Topic2\", \"Topic2\", \"Topic2\", \"Topic2\", \"Topic2\", \"Topic2\", \"Topic2\", \"Topic2\", \"Topic2\", \"Topic2\", \"Topic2\", \"Topic3\", \"Topic3\", \"Topic3\", \"Topic3\", \"Topic3\", \"Topic3\", \"Topic3\", \"Topic3\", \"Topic3\", \"Topic3\", \"Topic3\", \"Topic3\", \"Topic3\", \"Topic3\", \"Topic3\", \"Topic3\", \"Topic3\", \"Topic3\", \"Topic3\", \"Topic3\", \"Topic3\", \"Topic3\", \"Topic3\", \"Topic3\", \"Topic3\", \"Topic3\", \"Topic3\", \"Topic3\", \"Topic3\", \"Topic3\", \"Topic3\", \"Topic3\", \"Topic3\", \"Topic3\", \"Topic3\", \"Topic3\", \"Topic3\", \"Topic3\", \"Topic3\", \"Topic3\", \"Topic3\", \"Topic3\", \"Topic3\", \"Topic3\", \"Topic3\", \"Topic3\", \"Topic3\", \"Topic3\", \"Topic3\", \"Topic3\", \"Topic3\", \"Topic3\", \"Topic3\", \"Topic3\", \"Topic3\", \"Topic4\", \"Topic4\", \"Topic4\", \"Topic4\", \"Topic4\", \"Topic4\", \"Topic4\", \"Topic4\", \"Topic4\", \"Topic4\", \"Topic4\", \"Topic4\", \"Topic4\", \"Topic4\", \"Topic4\", \"Topic4\", \"Topic4\", \"Topic4\", \"Topic4\", \"Topic4\", \"Topic4\", \"Topic4\", \"Topic4\", \"Topic4\", \"Topic4\", \"Topic4\", \"Topic4\", \"Topic4\", \"Topic4\", \"Topic4\", \"Topic4\", \"Topic4\", \"Topic4\", \"Topic4\", \"Topic4\", \"Topic4\", \"Topic4\", \"Topic4\", \"Topic4\", \"Topic4\", \"Topic4\", \"Topic4\", \"Topic4\", \"Topic4\", \"Topic4\", \"Topic4\", \"Topic4\", \"Topic4\", \"Topic4\", \"Topic4\", \"Topic4\", \"Topic4\", \"Topic4\", \"Topic4\", \"Topic4\", \"Topic5\", \"Topic5\", \"Topic5\", \"Topic5\", \"Topic5\", \"Topic5\", \"Topic5\", \"Topic5\", \"Topic5\", \"Topic5\", \"Topic5\", \"Topic5\", \"Topic5\", \"Topic5\", \"Topic5\", \"Topic5\", \"Topic5\", \"Topic5\", \"Topic5\", \"Topic5\", \"Topic5\", \"Topic5\", \"Topic5\", \"Topic5\", \"Topic5\", \"Topic5\", \"Topic5\", \"Topic5\", \"Topic5\", \"Topic5\", \"Topic5\", \"Topic5\", \"Topic5\", \"Topic5\", \"Topic5\", \"Topic5\", \"Topic5\", \"Topic5\", \"Topic5\", \"Topic5\", \"Topic5\", \"Topic5\", \"Topic5\", \"Topic5\", \"Topic5\", \"Topic5\", \"Topic5\", \"Topic5\", \"Topic5\", \"Topic5\", \"Topic5\", \"Topic5\", \"Topic5\", \"Topic5\", \"Topic5\", \"Topic5\", \"Topic6\", \"Topic6\", \"Topic6\", \"Topic6\", \"Topic6\", \"Topic6\", \"Topic6\", \"Topic6\", \"Topic6\", \"Topic6\", \"Topic6\", \"Topic6\", \"Topic6\", \"Topic6\", \"Topic6\", \"Topic6\", \"Topic6\", \"Topic6\", \"Topic6\", \"Topic6\", \"Topic6\", \"Topic6\", \"Topic6\", \"Topic6\", \"Topic6\", \"Topic6\", \"Topic6\", \"Topic6\", \"Topic6\", \"Topic6\", \"Topic6\", \"Topic6\", \"Topic6\", \"Topic6\", \"Topic6\", \"Topic6\", \"Topic6\", \"Topic6\", \"Topic6\", \"Topic6\", \"Topic6\", \"Topic6\", \"Topic6\", \"Topic6\", \"Topic6\", \"Topic6\", \"Topic7\", \"Topic7\", \"Topic7\", \"Topic7\", \"Topic7\", \"Topic7\", \"Topic7\", \"Topic7\", \"Topic7\", \"Topic7\", \"Topic7\", \"Topic7\", \"Topic7\", \"Topic7\", \"Topic7\", \"Topic7\", \"Topic7\", \"Topic7\", \"Topic7\", \"Topic7\", \"Topic7\", \"Topic7\", \"Topic7\", \"Topic7\", \"Topic7\", \"Topic7\", \"Topic7\", \"Topic7\", \"Topic7\", \"Topic7\", \"Topic7\", \"Topic7\", \"Topic7\", \"Topic7\", \"Topic7\", \"Topic7\", \"Topic7\", \"Topic7\", \"Topic7\", \"Topic7\", \"Topic7\", \"Topic7\", \"Topic7\", \"Topic7\", \"Topic7\", \"Topic7\", \"Topic7\", \"Topic8\", \"Topic8\", \"Topic8\", \"Topic8\", \"Topic8\", \"Topic8\", \"Topic8\", \"Topic8\", \"Topic8\", \"Topic8\", \"Topic8\", \"Topic8\", \"Topic8\", \"Topic8\", \"Topic8\", \"Topic8\", \"Topic8\", \"Topic8\", \"Topic8\", \"Topic8\", \"Topic8\", \"Topic8\", \"Topic8\", \"Topic8\", \"Topic8\", \"Topic8\", \"Topic8\", \"Topic8\", \"Topic8\", \"Topic8\", \"Topic8\", \"Topic8\", \"Topic8\", \"Topic8\", \"Topic8\", \"Topic8\", \"Topic8\", \"Topic8\", \"Topic8\", \"Topic8\", \"Topic8\", \"Topic8\", \"Topic8\", \"Topic8\", \"Topic9\", \"Topic9\", \"Topic9\", \"Topic9\", \"Topic9\", \"Topic9\", \"Topic9\", \"Topic9\", \"Topic9\", \"Topic9\", \"Topic9\", \"Topic9\", \"Topic9\", \"Topic9\", \"Topic9\", \"Topic9\", \"Topic9\", \"Topic9\", \"Topic9\", \"Topic9\", \"Topic9\", \"Topic9\", \"Topic9\", \"Topic9\", \"Topic9\", \"Topic9\", \"Topic9\", \"Topic9\", \"Topic9\", \"Topic9\", \"Topic9\", \"Topic9\", \"Topic9\", \"Topic9\", \"Topic9\", \"Topic9\", \"Topic9\", \"Topic9\", \"Topic9\", \"Topic9\", \"Topic9\", \"Topic9\", \"Topic9\", \"Topic9\", \"Topic9\", \"Topic9\", \"Topic9\", \"Topic9\", \"Topic9\", \"Topic9\", \"Topic10\", \"Topic10\", \"Topic10\", \"Topic10\", \"Topic10\", \"Topic10\", \"Topic10\", \"Topic10\", \"Topic10\", \"Topic10\", \"Topic10\", \"Topic10\", \"Topic10\", \"Topic10\", \"Topic10\", \"Topic10\", \"Topic10\", \"Topic10\", \"Topic10\", \"Topic10\", \"Topic10\", \"Topic10\", \"Topic10\", \"Topic10\", \"Topic10\", \"Topic10\", \"Topic10\", \"Topic10\", \"Topic10\", \"Topic10\", \"Topic10\", \"Topic10\", \"Topic10\", \"Topic10\", \"Topic10\", \"Topic10\", \"Topic10\", \"Topic10\", \"Topic10\", \"Topic10\", \"Topic10\", \"Topic10\", \"Topic10\", \"Topic10\", \"Topic10\", \"Topic10\", \"Topic10\", \"Topic11\", \"Topic11\", \"Topic11\", \"Topic11\", \"Topic11\", \"Topic11\", \"Topic11\", \"Topic11\", \"Topic11\", \"Topic11\", \"Topic11\", \"Topic11\", \"Topic11\", \"Topic11\", \"Topic11\", \"Topic11\", \"Topic11\", \"Topic11\", \"Topic11\", \"Topic11\", \"Topic11\", \"Topic11\", \"Topic11\", \"Topic11\", \"Topic11\", \"Topic11\", \"Topic11\", \"Topic11\", \"Topic11\", \"Topic11\", \"Topic11\", \"Topic11\", \"Topic11\", \"Topic11\", \"Topic11\", \"Topic11\", \"Topic11\", \"Topic11\", \"Topic11\", \"Topic11\", \"Topic11\", \"Topic11\", \"Topic11\", \"Topic11\", \"Topic11\", \"Topic11\", \"Topic11\", \"Topic12\", \"Topic12\", \"Topic12\", \"Topic12\", \"Topic12\", \"Topic12\", \"Topic12\", \"Topic12\", \"Topic12\", \"Topic12\", \"Topic12\", \"Topic12\", \"Topic12\", \"Topic12\", \"Topic12\", \"Topic12\", \"Topic12\", \"Topic12\", \"Topic12\", \"Topic12\", \"Topic12\", \"Topic12\", \"Topic12\", \"Topic12\", \"Topic12\", \"Topic12\", \"Topic12\", \"Topic12\", \"Topic12\", \"Topic12\", \"Topic12\", \"Topic12\", \"Topic12\", \"Topic12\", \"Topic12\", \"Topic12\", \"Topic12\", \"Topic12\", \"Topic12\", \"Topic12\", \"Topic12\", \"Topic12\", \"Topic12\", \"Topic13\", \"Topic13\", \"Topic13\", \"Topic13\", \"Topic13\", \"Topic13\", \"Topic13\", \"Topic13\", \"Topic13\", \"Topic13\", \"Topic13\", \"Topic13\", \"Topic13\", \"Topic13\", \"Topic13\", \"Topic13\", \"Topic13\", \"Topic13\", \"Topic13\", \"Topic13\", \"Topic13\", \"Topic13\", \"Topic13\", \"Topic13\", \"Topic13\", \"Topic13\", \"Topic13\", \"Topic13\", \"Topic13\", \"Topic13\", \"Topic13\", \"Topic13\", \"Topic13\", \"Topic13\", \"Topic13\", \"Topic13\", \"Topic13\", \"Topic13\", \"Topic13\", \"Topic13\", \"Topic13\", \"Topic13\", \"Topic13\", \"Topic13\", \"Topic13\", \"Topic13\", \"Topic13\", \"Topic13\", \"Topic13\", \"Topic14\", \"Topic14\", \"Topic14\", \"Topic14\", \"Topic14\", \"Topic14\", \"Topic14\", \"Topic14\", \"Topic14\", \"Topic14\", \"Topic14\", \"Topic14\", \"Topic14\", \"Topic14\", \"Topic14\", \"Topic14\", \"Topic14\", \"Topic14\", \"Topic14\", \"Topic14\", \"Topic14\", \"Topic14\", \"Topic14\", \"Topic14\", \"Topic14\", \"Topic14\", \"Topic14\", \"Topic14\", \"Topic14\", \"Topic14\", \"Topic14\", \"Topic14\", \"Topic14\", \"Topic14\", \"Topic14\", \"Topic14\", \"Topic14\", \"Topic14\", \"Topic14\", \"Topic14\", \"Topic14\", \"Topic14\", \"Topic14\", \"Topic14\", \"Topic14\", \"Topic15\", \"Topic15\", \"Topic15\", \"Topic15\", \"Topic15\", \"Topic15\", \"Topic15\", \"Topic15\", \"Topic15\", \"Topic15\", \"Topic15\", \"Topic15\", \"Topic15\", \"Topic15\", \"Topic15\", \"Topic15\", \"Topic15\", \"Topic15\", \"Topic15\", \"Topic15\", \"Topic15\", \"Topic15\", \"Topic15\", \"Topic15\", \"Topic15\", \"Topic15\", \"Topic15\", \"Topic15\", \"Topic15\", \"Topic15\", \"Topic15\", \"Topic15\", \"Topic15\", \"Topic15\", \"Topic15\", \"Topic15\", \"Topic15\", \"Topic15\", \"Topic15\", \"Topic15\", \"Topic15\", \"Topic15\", \"Topic15\", \"Topic16\", \"Topic16\", \"Topic16\", \"Topic16\", \"Topic16\", \"Topic16\", \"Topic16\", \"Topic16\", \"Topic16\", \"Topic16\", \"Topic16\", \"Topic16\", \"Topic16\", \"Topic16\", \"Topic16\", \"Topic16\", \"Topic16\", \"Topic16\", \"Topic16\", \"Topic16\", \"Topic16\", \"Topic16\", \"Topic16\", \"Topic16\", \"Topic16\", \"Topic16\", \"Topic16\", \"Topic16\", \"Topic16\", \"Topic16\", \"Topic16\", \"Topic16\", \"Topic16\", \"Topic16\", \"Topic16\", \"Topic16\", \"Topic16\", \"Topic16\", \"Topic17\", \"Topic17\", \"Topic17\", \"Topic17\", \"Topic17\", \"Topic17\", \"Topic17\", \"Topic17\", \"Topic17\", \"Topic17\", \"Topic17\", \"Topic17\", \"Topic17\", \"Topic17\", \"Topic17\", \"Topic17\", \"Topic17\", \"Topic17\", \"Topic17\", \"Topic17\", \"Topic17\", \"Topic17\", \"Topic17\", \"Topic17\", \"Topic17\", \"Topic17\", \"Topic17\", \"Topic17\", \"Topic17\", \"Topic17\", \"Topic17\", \"Topic17\", \"Topic17\", \"Topic17\", \"Topic17\", \"Topic17\", \"Topic17\", \"Topic17\", \"Topic17\", \"Topic18\", \"Topic18\", \"Topic18\", \"Topic18\", \"Topic18\", \"Topic18\", \"Topic18\", \"Topic18\", \"Topic18\", \"Topic18\", \"Topic18\", \"Topic18\", \"Topic18\", \"Topic18\", \"Topic18\", \"Topic18\", \"Topic18\", \"Topic18\", \"Topic18\", \"Topic18\", \"Topic18\", \"Topic18\", \"Topic18\", \"Topic18\", \"Topic18\", \"Topic18\", \"Topic18\", \"Topic18\", \"Topic18\", \"Topic18\", \"Topic18\", \"Topic18\", \"Topic18\", \"Topic18\", \"Topic18\", \"Topic18\", \"Topic18\", \"Topic18\", \"Topic18\", \"Topic18\", \"Topic18\", \"Topic18\", \"Topic18\", \"Topic19\", \"Topic19\", \"Topic19\", \"Topic19\", \"Topic19\", \"Topic19\", \"Topic19\", \"Topic19\", \"Topic19\", \"Topic19\", \"Topic19\", \"Topic19\", \"Topic19\", \"Topic19\", \"Topic19\", \"Topic19\", \"Topic19\", \"Topic19\", \"Topic19\", \"Topic19\", \"Topic19\", \"Topic19\", \"Topic19\", \"Topic19\", \"Topic19\", \"Topic19\", \"Topic19\", \"Topic19\", \"Topic19\", \"Topic19\", \"Topic19\", \"Topic19\", \"Topic19\", \"Topic19\", \"Topic19\", \"Topic19\", \"Topic19\", \"Topic19\", \"Topic19\", \"Topic19\", \"Topic19\", \"Topic19\", \"Topic19\", \"Topic20\", \"Topic20\", \"Topic20\", \"Topic20\", \"Topic20\", \"Topic20\", \"Topic20\", \"Topic20\", \"Topic20\", \"Topic20\", \"Topic20\", \"Topic20\", \"Topic20\", \"Topic20\", \"Topic20\", \"Topic20\", \"Topic20\", \"Topic20\", \"Topic20\", \"Topic20\", \"Topic20\", \"Topic20\", \"Topic20\", \"Topic20\", \"Topic20\", \"Topic20\", \"Topic20\", \"Topic20\", \"Topic20\", \"Topic20\", \"Topic20\", \"Topic20\", \"Topic20\", \"Topic20\", \"Topic20\", \"Topic20\", \"Topic20\", \"Topic20\", \"Topic20\", \"Topic20\", \"Topic20\", \"Topic21\", \"Topic21\", \"Topic21\", \"Topic21\", \"Topic21\", \"Topic21\", \"Topic21\", \"Topic21\", \"Topic21\", \"Topic21\", \"Topic21\", \"Topic21\", \"Topic21\", \"Topic21\", \"Topic21\", \"Topic21\", \"Topic21\", \"Topic21\", \"Topic21\", \"Topic21\", \"Topic21\", \"Topic21\", \"Topic21\", \"Topic21\", \"Topic21\", \"Topic21\", \"Topic21\", \"Topic21\", \"Topic21\", \"Topic21\", \"Topic21\", \"Topic21\", \"Topic21\", \"Topic21\", \"Topic21\", \"Topic21\", \"Topic21\", \"Topic21\", \"Topic21\", \"Topic22\", \"Topic22\", \"Topic22\", \"Topic22\", \"Topic22\", \"Topic22\", \"Topic22\", \"Topic22\", \"Topic22\", \"Topic22\", \"Topic22\", \"Topic22\", \"Topic22\", \"Topic22\", \"Topic22\", \"Topic22\", \"Topic22\", \"Topic22\", \"Topic22\", \"Topic22\", \"Topic22\", \"Topic22\", \"Topic22\", \"Topic22\", \"Topic22\", \"Topic22\", \"Topic22\", \"Topic22\", \"Topic22\", \"Topic22\", \"Topic22\", \"Topic22\", \"Topic22\", \"Topic22\", \"Topic22\", \"Topic22\", \"Topic22\", \"Topic22\", \"Topic22\", \"Topic23\", \"Topic23\", \"Topic23\", \"Topic23\", \"Topic23\", \"Topic23\", \"Topic23\", \"Topic23\", \"Topic23\", \"Topic23\", \"Topic23\", \"Topic23\", \"Topic23\", \"Topic23\", \"Topic23\", \"Topic23\", \"Topic23\", \"Topic23\", \"Topic23\", \"Topic23\", \"Topic23\", \"Topic23\", \"Topic23\", \"Topic23\", \"Topic23\", \"Topic23\", \"Topic23\", \"Topic23\", \"Topic23\", \"Topic23\", \"Topic23\", \"Topic23\", \"Topic23\", \"Topic23\", \"Topic23\", \"Topic23\", \"Topic23\", \"Topic23\", \"Topic23\", \"Topic23\", \"Topic23\", \"Topic23\", \"Topic23\", \"Topic23\", \"Topic23\", \"Topic23\", \"Topic23\", \"Topic23\", \"Topic24\", \"Topic24\", \"Topic24\", \"Topic24\", \"Topic24\", \"Topic24\", \"Topic24\", \"Topic24\", \"Topic24\", \"Topic24\", \"Topic24\", \"Topic24\", \"Topic24\", \"Topic24\", \"Topic24\", \"Topic24\", \"Topic24\", \"Topic24\", \"Topic24\", \"Topic24\", \"Topic24\", \"Topic24\", \"Topic24\", \"Topic24\", \"Topic24\", \"Topic24\", \"Topic24\", \"Topic24\", \"Topic24\", \"Topic24\", \"Topic24\", \"Topic24\", \"Topic24\", \"Topic24\", \"Topic24\", \"Topic25\", \"Topic25\", \"Topic25\", \"Topic25\", \"Topic25\", \"Topic25\", \"Topic25\", \"Topic25\", \"Topic25\", \"Topic25\", \"Topic25\", \"Topic25\", \"Topic25\", \"Topic25\", \"Topic25\", \"Topic25\", \"Topic25\", \"Topic25\", \"Topic25\", \"Topic25\", \"Topic25\", \"Topic25\", \"Topic25\", \"Topic25\", \"Topic25\", \"Topic25\", \"Topic25\", \"Topic25\", \"Topic25\", \"Topic25\", \"Topic25\", \"Topic25\", \"Topic25\", \"Topic25\", \"Topic25\", \"Topic25\", \"Topic25\", \"Topic25\", \"Topic25\"], \"logprob\": [30.0, 29.0, 28.0, 27.0, 26.0, 25.0, 24.0, 23.0, 22.0, 21.0, 20.0, 19.0, 18.0, 17.0, 16.0, 15.0, 14.0, 13.0, 12.0, 11.0, 10.0, 9.0, 8.0, 7.0, 6.0, 5.0, 4.0, 3.0, 2.0, 1.0, -2.2405, -2.4999, -3.3476, -4.6213, -4.4439, -4.8637, -4.88, -4.833, -4.9769, -5.2271, -5.2936, -5.316, -5.4683, -2.3956, -5.6217, -5.6218, -5.6467, -5.7722, -3.5404, -5.9855, -6.0902, -6.2754, -6.2944, -6.3363, -6.3493, -6.4371, -6.5464, -6.5623, -6.5632, -5.586, -5.0495, -1.5745, -5.3321, -4.4785, -5.3021, -4.4975, -3.7251, -5.014, -4.2061, -4.8982, -4.4124, -4.6921, -4.8185, -4.9217, -5.0171, -5.2593, -5.1076, -3.7234, -4.1594, -4.2813, -4.3227, -4.5091, -4.5871, -4.6318, -4.6332, -4.5169, -5.0315, -5.0803, -4.4519, -5.1123, -5.1073, -5.2161, -5.2996, -5.3411, -5.3671, -5.4325, -5.4605, -5.4909, -5.0899, -5.5762, -5.5814, -3.3408, -5.674, -5.721, -5.8201, -5.874, -5.9503, -5.4122, -3.18, -4.8659, -4.1001, -3.5539, -2.9477, -3.7045, -3.0137, -3.9876, -4.9003, -3.6948, -4.2061, -4.126, -4.8105, -3.9214, -4.4557, -4.411, -4.6489, -4.6163, -4.6023, -4.7812, -4.0611, -4.2246, -4.6031, -4.856, -4.8911, -4.9037, -4.1545, -5.1838, -5.2556, -2.0779, -5.2756, -5.3202, -5.3393, -5.3665, -5.4827, -5.5535, -5.6117, -5.6572, -5.6888, -5.7675, -5.8568, -5.6215, -6.1888, -6.2036, -6.205, -6.2294, -6.2623, -6.279, -6.3229, -6.3824, -5.3188, -5.1761, -2.8196, -3.4746, -5.6428, -3.5495, -4.5856, -3.2802, -4.5813, -4.1105, -4.097, -4.4567, -3.959, -4.3196, -3.1569, -4.163, -4.6612, -4.7556, -4.8725, -4.2014, -4.7467, -4.4816, -4.8452, -4.7717, -4.8921, -3.075, -3.7453, -4.9202, -5.3034, -5.305, -5.2121, -5.2937, -5.339, -1.7234, -5.4529, -5.4602, -5.5059, -5.6177, -5.6523, -5.6599, -5.6604, -5.5642, -5.9121, -5.9329, -5.9574, -5.1299, -5.9951, -6.0281, -6.0388, -6.0421, -6.044, -6.0503, -6.0795, -6.2561, -6.3108, -4.9945, -4.8067, -3.3084, -4.1883, -4.5445, -5.3666, -4.0554, -3.7006, -3.0322, -3.5128, -3.9765, -4.6914, -3.5138, -4.3405, -4.3818, -4.7964, -4.568, -4.3366, -4.3824, -4.6142, -4.937, -4.9097, -4.857, -5.1408, -5.0578, -3.4919, -3.8906, -3.927, -4.5334, -4.8532, -4.9997, -5.3123, -5.3163, -5.3119, -5.3959, -4.5023, -5.4865, -3.6046, -5.649, -5.7072, -5.7729, -5.8442, -5.8238, -5.8856, -4.3586, -6.0087, -6.0192, -6.2269, -5.6592, -2.9943, -6.4594, -6.5335, -6.5821, -2.96, -4.79, -3.7075, -3.4718, -3.8901, -4.1872, -3.4985, -5.1783, -4.4507, -4.725, -4.2659, -4.3037, -3.6213, -4.179, -3.4491, -4.793, -4.6564, -4.1789, -3.9646, -4.2161, -4.392, -4.2856, -4.3242, -4.448, -4.3527, -4.3943, -4.6452, -4.6373, -2.5385, -4.582, -4.6186, -1.4513, -4.8205, -4.9494, -4.9568, -5.0376, -5.0402, -5.2927, -5.4494, -5.484, -2.8588, -5.8277, -6.1126, -6.1148, -6.3232, -4.7367, -3.8737, -5.9188, -6.5922, -6.6282, -6.8477, -6.9378, -6.9719, -6.9814, -4.9974, -7.4078, -5.8636, -7.4554, -6.6089, -3.7793, -1.3903, -4.6332, -5.917, -4.3224, -5.3072, -5.0978, -4.8335, -4.6603, -5.36, -5.254, -5.1817, -5.5347, -5.5334, -5.2951, -2.9447, -3.4835, -3.4911, -1.9266, -4.061, -3.1232, -4.6964, -4.956, -4.9776, -5.0239, -5.3297, -4.0843, -5.5601, -5.6615, -5.7505, -5.7976, -5.8306, -5.8418, -5.8864, -5.1295, -5.9927, -6.138, -6.1315, -6.2082, -6.2409, -6.2671, -6.3208, -6.3623, -6.4237, -6.4784, -3.0159, -3.546, -5.3111, -1.8009, -3.0618, -3.7261, -4.6236, -4.4706, -4.7514, -4.2513, -4.5924, -5.2916, -5.3202, -5.1513, -4.8479, -5.358, -5.2956, -3.2154, -3.9351, -1.9348, -4.4799, -4.7045, -5.0851, -5.3357, -5.3446, -5.3888, -5.5743, -5.5992, -5.6222, -5.7959, -4.248, -6.1307, -6.1934, -1.3422, -3.7415, -6.5776, -6.6005, -6.6025, -4.3256, -6.7739, -4.3006, -6.8269, -6.8657, -3.7604, -5.2816, -6.9726, -7.0063, -5.7853, -5.4397, -4.2888, -3.7577, -3.6442, -5.2778, -4.2125, -5.8438, -3.1008, -5.207, -5.2846, -5.3375, -5.452, -5.5901, -2.7124, -3.3226, -3.5604, -1.9296, -4.0468, -4.2809, -4.6211, -5.0136, -5.0584, -5.1777, -5.3427, -5.3724, -5.0026, -5.6353, -5.6856, -6.0383, -6.0563, -4.3712, -6.1793, -6.1859, -5.4714, -5.6828, -6.4553, -6.5011, -6.5209, -6.5247, -6.5937, -6.7166, -6.2566, -7.0888, -2.1755, -4.4273, -2.3962, -5.2244, -5.0719, -4.7848, -5.2645, -5.8548, -3.5943, -4.2214, -4.8561, -3.3824, -4.7997, -4.5358, -4.6456, -4.3881, -4.7919, -5.197, -5.2785, -5.2649, -3.2876, -3.5613, -4.3112, -4.4506, -4.4715, -4.537, -4.5929, -4.6305, -4.3187, -4.7488, -4.9874, -5.2431, -5.2351, -5.3663, -5.3707, -5.5329, -5.5119, -5.5991, -5.603, -5.6285, -5.7921, -5.8764, -5.9222, -5.0651, -4.816, -6.058, -6.2786, -5.1987, -6.3077, -4.4576, -2.044, -2.2431, -4.8501, -3.9429, -4.1287, -4.0151, -4.5452, -4.3335, -3.3876, -3.5544, -4.1355, -4.3787, -4.6374, -3.9064, -4.2592, -4.2849, -4.4302, -1.8853, -2.2539, -3.356, -3.61, -3.9692, -3.9763, -4.641, -4.659, -4.6785, -4.7218, -4.9848, -5.2019, -5.2427, -5.352, -5.3652, -5.6093, -5.6346, -5.7189, -5.7382, -5.7876, -5.8766, -3.4632, -6.0743, -6.1763, -6.1846, -3.8837, -6.233, -6.5837, -6.678, -4.9419, -4.2274, -3.3746, -3.9893, -2.7364, -4.3456, -4.7522, -4.5246, -4.635, -4.7302, -4.578, -4.4403, -4.2526, -4.8387, -5.2228, -5.1158, -5.1382, -5.1847, -2.8968, -2.9156, -3.9533, -4.2132, -4.3448, -4.7263, -3.1861, -5.2475, -5.4043, -5.467, -5.7592, -5.7989, -6.0096, -6.0625, -6.0682, -6.1131, -6.3051, -5.8788, -6.3787, -6.3787, -3.5215, -6.4267, -6.5002, -6.5149, -5.4863, -6.6162, -5.3516, -2.0002, -6.6879, -2.7954, -1.8629, -5.4622, -4.5972, -2.5136, -3.6342, -3.9522, -5.3473, -5.3328, -4.882, -5.4202, -5.8837, -5.7301, -5.8789, -2.6178, -2.3372, -3.6506, -4.3583, -4.3669, -4.5436, -4.5662, -4.6994, -4.7722, -4.9255, -4.9283, -5.1027, -5.1151, -4.4769, -5.3289, -4.8513, -5.543, -5.5648, -4.6689, -5.7093, -5.7748, -5.8119, -5.9116, -5.9219, -4.793, -4.8464, -6.0643, -5.485, -6.1258, -6.3508, -5.5202, -3.1279, -3.935, -4.113, -3.4595, -3.4486, -3.4608, -4.9669, -4.067, -4.9716, -4.6198, -3.5528, -4.3814, -4.3327, -4.6662, -4.5692, -4.7583, -4.7834, -4.8864, -3.2765, -3.7174, -3.8945, -4.3575, -4.4494, -4.6183, -4.6908, -4.7045, -4.666, -5.1146, -5.2413, -5.2707, -5.4479, -4.3342, -3.0575, -5.8104, -5.833, -5.7473, -5.9583, -5.975, -5.9754, -2.0504, -6.0366, -6.0495, -4.9128, -6.2418, -3.6405, -4.1052, -6.4053, -6.4102, -2.7575, -3.4264, -3.321, -4.947, -5.2406, -4.8981, -2.9679, -4.5649, -3.3572, -4.6486, -4.8999, -5.1083, -4.9546, -4.9994, -5.2402, -3.8258, -4.0985, -4.0189, -4.376, -4.3906, -4.3612, -4.5165, -4.5196, -3.6427, -4.5703, -4.644, -4.6704, -4.8055, -4.8831, -5.0, -4.9929, -5.0669, -5.0851, -5.1287, -5.1563, -5.1803, -5.0435, -5.2676, -5.3905, -5.6177, -5.6357, -5.6723, -5.7102, -5.7334, -5.9178, -5.2977, -1.3992, -3.7182, -4.2395, -3.9803, -4.3453, -4.6082, -3.3568, -4.2615, -4.9465, -4.6439, -4.8728, -4.9303, -3.2503, -3.8963, -4.196, -4.5463, -0.6064, -4.9295, -5.0707, -5.2914, -5.8608, -5.9068, -5.9084, -5.1121, -6.0746, -6.1374, -6.2241, -6.3113, -6.3568, -6.4049, -6.421, -6.5218, -6.5328, -6.5366, -5.959, -6.8574, -6.8643, -6.8661, -6.8674, -7.0175, -4.8717, -7.0779, -4.7653, -3.9148, -4.9132, -4.446, -3.2238, -3.2389, -4.0385, -6.5269, -1.4088, -2.4174, -3.1212, -3.7442, -3.7633, -4.3992, -4.7357, -4.7821, -4.8987, -4.9193, -4.943, -5.0241, -5.1533, -5.2803, -5.4511, -5.5453, -5.5978, -5.6027, -2.4238, -5.8264, -5.8856, -6.0054, -6.2579, -5.0183, -6.4983, -6.4057, -6.5375, -6.6067, -3.5336, -5.9238, -5.0332, -4.2955, -3.5917, -4.2132, -4.1014, -3.9153, -3.9056, -5.0856, -5.236, -3.1021, -3.3528, -3.4452, -3.8815, -4.1106, -4.1222, -4.3829, -4.5168, -4.3552, -4.7107, -4.8749, -4.8814, -4.9933, -5.0097, -5.1364, -2.1728, -5.3744, -5.3851, -5.4504, -4.0829, -5.5246, -5.6898, -5.0372, -5.7301, -5.8171, -5.847, -5.8704, -5.8813, -4.7048, -5.9642, -3.4173, -3.3133, -4.675, -3.0485, -3.7767, -4.4708, -4.7718, -3.7235, -4.3291, -4.6242, -4.7831, -4.9349, -4.8313, -2.8633, -3.1582, -3.1536, -3.6387, -4.0381, -4.1264, -4.198, -4.2112, -4.3489, -4.4359, -4.5951, -4.7343, -4.9007, -4.935, -4.9687, -5.0341, -4.0216, -5.3254, -5.3429, -5.344, -5.39, -4.919, -5.4588, -5.4599, -5.488, -5.5534, -5.561, -5.6939, -4.2179, -5.7017, -4.1274, -2.987, -4.4046, -5.1139, -4.4878, -2.8864, -5.1005, -4.7643, -4.3789, -4.4348, -4.7736, -4.8162, -4.9481, -2.6233, -2.961, -3.4376, -3.449, -4.3195, -3.7707, -4.5715, -4.6714, -4.7121, -3.5711, -2.9721, -4.9486, -4.9851, -5.0339, -5.1543, -5.204, -5.3174, -5.3571, -4.8555, -5.4527, -5.4891, -5.5217, -5.6624, -5.8056, -5.8589, -2.1658, -5.8959, -6.0916, -6.1182, -6.1986, -3.9037, -3.4463, -4.4698, -2.809, -4.5183, -4.8145, -3.7916, -4.5487, -4.4995, -4.0935, -5.1324, -2.3454, -2.4804, -3.3208, -3.6478, -3.5736, -3.9698, -4.0032, -3.1424, -4.3664, -4.3987, -4.4311, -4.5439, -4.7335, -4.8791, -4.9215, -4.9857, -5.0418, -5.0462, -5.1203, -5.2794, -5.3395, -5.452, -5.4613, -5.5102, -5.5353, -5.601, -5.6216, -5.6654, -5.6704, -5.8108, -3.0564, -3.8193, -3.6269, -2.9935, -4.0941, -3.9181, -4.7369, -5.1694, -5.1738, -3.4642, -3.6487, -3.8988, -4.069, -4.1206, -4.2329, -4.4691, -4.4727, -4.4826, -4.5265, -4.5364, -3.1624, -4.4803, -4.5651, -4.5969, -4.6657, -4.7044, -4.7427, -5.022, -4.9755, -5.1102, -5.126, -5.1337, -5.1889, -5.3653, -5.4348, -4.6365, -5.5281, -5.1328, -5.5593, -4.69, -3.1798, -2.8427, -3.7165, -4.4316, -4.3521, -3.9257, -4.1073, -4.3428, -2.5343, -3.0647, -3.3104, -4.1974, -4.2574, -4.3953, -4.5707, -4.6184, -4.6383, -4.7772, -4.7932, -5.1178, -5.2193, -5.3169, -5.3394, -5.4365, -5.4927, -5.5379, -5.6075, -5.7028, -5.7028, -5.7548, -5.7865, -5.7888, -3.8113, -5.8924, -5.3322, -6.1966, -6.2071, -4.4136, -4.1496, -3.8302, -3.7732, -4.2655, -3.6129, -3.7599, -3.1429, -3.6607, -3.4526, -4.7682, -4.0119, -4.821, -5.2201, -4.1809, -4.4908, -4.7309, -4.7889, -5.1124, -2.4571, -2.7037, -2.1054, -1.9378, -3.4293, -3.4173, -3.4593, -3.2974, -4.4268, -4.5131, -4.731, -4.2956, -5.2414, -5.5171, -5.742, -4.818, -5.8918, -4.1599, -4.0244, -6.0549, -6.5658, -5.5612, -4.7098, -6.8295, -6.8867, -6.9933, -5.4453, -7.5039, -7.7124, -7.7134, -5.75, -3.0742, -3.7514, -5.316, -5.8256, -2.8626, -3.4257, -2.0191, -2.1579, -4.2036, -4.2821, -4.2574, -4.4539, -4.6873, -4.7816, -4.7919, -4.8503, -5.0458, -5.069, -5.1172, -5.2181, -5.2544, -5.2883, -5.3129, -5.3453, -5.3718, -5.5141, -5.5591, -5.5859, -5.6005, -3.792, -5.6806, -5.6808, -5.8327, -4.1262, -3.238, -4.0477, -3.7933, -3.5748, -4.4007, -5.0432, -4.6134, -4.2834, -4.6193], \"loglift\": [30.0, 29.0, 28.0, 27.0, 26.0, 25.0, 24.0, 23.0, 22.0, 21.0, 20.0, 19.0, 18.0, 17.0, 16.0, 15.0, 14.0, 13.0, 12.0, 11.0, 10.0, 9.0, 8.0, 7.0, 6.0, 5.0, 4.0, 3.0, 2.0, 1.0, 2.6132, 2.6117, 2.6095, 2.5944, 2.5942, 2.5887, 2.5882, 2.587, 2.5855, 2.577, 2.5743, 2.5734, 2.5668, 2.5637, 2.5588, 2.5588, 2.5575, 2.5494, 2.5489, 2.535, 2.5261, 2.5092, 2.5073, 2.5028, 2.5015, 2.4916, 2.4782, 2.4762, 2.476, 2.4662, 2.3105, 1.8661, 2.2709, 2.0098, 2.1925, 1.6956, 1.1606, 1.7889, 0.9763, 1.39, 0.5522, 0.8022, 0.8146, 0.8277, 1.0298, 1.103, -1.0481, 2.6109, 2.6064, 2.6045, 2.6035, 2.6008, 2.5992, 2.5983, 2.5983, 2.5903, 2.5879, 2.5863, 2.5856, 2.5852, 2.585, 2.5807, 2.5782, 2.5765, 2.5754, 2.5724, 2.5711, 2.5696, 2.5689, 2.5653, 2.565, 2.5648, 2.5598, 2.557, 2.5507, 2.547, 2.5414, 2.5256, 2.4196, 2.4568, 2.3484, 2.2024, 1.9519, 2.0989, 1.872, 1.9706, 2.3141, 1.5963, 1.6309, 1.3551, 1.9726, 0.6419, 1.2355, 0.6878, 1.2253, 1.0928, 0.58, 1.2723, 2.6792, 2.6772, 2.6702, 2.6638, 2.6628, 2.6624, 2.6575, 2.6528, 2.6498, 2.6495, 2.649, 2.6471, 2.6462, 2.6449, 2.6392, 2.6354, 2.632, 2.6293, 2.6273, 2.6222, 2.6158, 2.6059, 2.5871, 2.5856, 2.5855, 2.5829, 2.5795, 2.5777, 2.5728, 2.5659, 2.5639, 2.4763, 2.2369, 2.297, 2.4973, 2.0559, 2.1702, 1.6844, 2.0584, 1.8495, 1.7531, 1.9269, 1.5353, 1.7289, 0.6229, 1.3182, 1.6283, 1.7356, 1.8119, 0.3619, 1.3797, 0.418, 1.28, 0.4107, 0.6926, 2.7243, 2.7195, 2.6974, 2.6827, 2.6824, 2.6816, 2.6804, 2.6788, 2.6775, 2.6753, 2.6749, 2.6724, 2.6658, 2.6636, 2.6631, 2.6631, 2.657, 2.6448, 2.6431, 2.641, 2.6409, 2.6378, 2.6348, 2.6338, 2.6336, 2.6334, 2.6328, 2.6301, 2.6117, 2.6057, 2.5922, 2.539, 2.4567, 2.5027, 2.469, 2.5399, 2.1377, 2.0086, 1.7713, 1.6695, 1.7848, 1.9037, 1.0495, 1.4088, 1.2028, 1.6601, 1.1232, 0.628, 0.5033, 0.4846, 1.1883, 0.6686, 0.0254, 1.7367, 1.1935, 2.7439, 2.7401, 2.7397, 2.7294, 2.72, 2.7138, 2.7038, 2.7037, 2.7031, 2.699, 2.6978, 2.6947, 2.687, 2.6852, 2.6813, 2.6767, 2.6714, 2.6706, 2.6681, 2.6658, 2.6576, 2.6567, 2.6359, 2.6201, 2.6118, 2.6076, 2.5974, 2.5902, 2.5895, 2.5884, 2.5322, 2.469, 2.4722, 2.4873, 2.3684, 2.519, 2.3802, 2.4201, 2.3149, 2.3109, 2.0699, 2.1092, 1.6497, 2.2776, 2.1509, 1.5704, 0.935, 0.8403, 1.1024, 0.8968, 0.9669, 0.806, 0.2105, -0.6145, 1.1582, 0.3273, 2.8867, 2.8674, 2.8663, 2.8604, 2.8601, 2.8554, 2.8551, 2.8518, 2.8518, 2.8397, 2.8307, 2.8286, 2.8066, 2.8026, 2.774, 2.7738, 2.7477, 2.7339, 2.7319, 2.7099, 2.7064, 2.7001, 2.6576, 2.6379, 2.6301, 2.6279, 2.5884, 2.5104, 2.5062, 2.495, 2.4542, 2.2584, 2.0504, 2.2003, 2.3015, 1.4426, 1.6688, 1.2448, 0.9229, -0.0971, 0.9296, 0.3243, -0.0829, 1.0263, 0.8476, -1.2356, 2.8898, 2.886, 2.8859, 2.8822, 2.8769, 2.8673, 2.8645, 2.8557, 2.8549, 2.853, 2.8373, 2.8355, 2.8241, 2.8129, 2.8098, 2.8059, 2.803, 2.802, 2.7979, 2.7979, 2.7876, 2.7718, 2.7716, 2.7634, 2.7593, 2.7559, 2.7488, 2.743, 2.7336, 2.7257, 2.7179, 2.6462, 2.6622, 1.9789, 1.4757, 1.565, 1.3172, 1.0105, 1.3021, 0.6483, 0.4863, 1.6099, 1.5735, 0.7229, -0.6104, 1.3104, 0.3697, 3.0388, 3.0304, 3.0225, 3.0186, 3.011, 2.9956, 2.9815, 2.9808, 2.978, 2.9646, 2.9626, 2.9607, 2.9452, 2.9402, 2.9074, 2.899, 2.8953, 2.8623, 2.8366, 2.8323, 2.8319, 2.7966, 2.7964, 2.7945, 2.7844, 2.7753, 2.7703, 2.7517, 2.7488, 2.74, 2.713, 2.6865, 2.3956, 2.2801, 2.23, 2.4268, 1.841, 2.4278, 0.679, 1.0796, 0.4871, -0.2588, 0.0423, 0.9665, 3.1798, 3.1767, 3.1737, 3.172, 3.1657, 3.1602, 3.1495, 3.1319, 3.1295, 3.1224, 3.111, 3.0986, 3.0945, 3.0864, 3.0817, 3.0402, 3.0378, 3.0272, 3.0198, 3.0184, 3.005, 2.9854, 2.972, 2.9629, 2.9589, 2.9581, 2.9436, 2.9157, 2.8236, 2.8139, 2.7069, 2.6553, 2.4073, 2.6189, 2.5768, 2.4417, 2.4818, 2.6747, 1.5045, 1.7386, 2.0643, 0.3974, 1.6886, 1.3236, 1.1879, 0.4976, 1.2616, 1.0926, 1.8099, 0.2294, 3.3072, 3.302, 3.2876, 3.2831, 3.2823, 3.2798, 3.2777, 3.2761, 3.2746, 3.2708, 3.2581, 3.241, 3.241, 3.2312, 3.2308, 3.2158, 3.2138, 3.2091, 3.2089, 3.2063, 3.1875, 3.1767, 3.1705, 3.1681, 3.1592, 3.1505, 3.1129, 3.11, 3.1075, 3.0763, 3.0443, 3.0108, 3.0746, 2.9159, 2.9389, 2.8786, 2.8497, 2.775, 2.4065, 2.3393, 2.3209, 2.3577, 2.2566, 0.9761, 1.4499, 1.4764, 1.4199, 3.368, 3.3632, 3.3613, 3.3544, 3.3504, 3.3503, 3.3282, 3.3273, 3.3264, 3.3244, 3.3098, 3.2946, 3.2915, 3.2823, 3.2812, 3.2568, 3.254, 3.244, 3.2417, 3.2354, 3.2233, 3.2196, 3.1932, 3.1756, 3.1741, 3.1681, 3.1651, 3.0887, 3.0644, 3.0528, 3.0373, 2.8757, 2.8882, 2.1367, 2.4618, 1.906, 1.3692, 0.6561, 0.8695, 0.3044, -0.1286, -0.8119, -0.2755, 1.9624, 0.2251, 0.4672, 0.6094, 3.384, 3.3839, 3.3685, 3.3615, 3.3572, 3.3411, 3.3162, 3.3075, 3.2938, 3.287, 3.2545, 3.2493, 3.2184, 3.2098, 3.2088, 3.2012, 3.1649, 3.1517, 3.1486, 3.1486, 3.147, 3.139, 3.1221, 3.1184, 3.1082, 3.0829, 3.0829, 3.0785, 3.0743, 3.0715, 3.0102, 2.9899, 2.4912, 1.2662, 1.4222, 1.0124, 2.2311, 2.1948, 0.2063, -0.857, 1.462, -1.0026, -1.8194, 3.453, 3.4452, 3.4374, 3.4218, 3.4215, 3.4141, 3.4133, 3.4068, 3.4029, 3.3938, 3.3936, 3.3815, 3.3805, 3.3691, 3.3606, 3.3427, 3.3391, 3.3383, 3.3295, 3.3207, 3.312, 3.3068, 3.292, 3.2904, 3.2736, 3.2702, 3.2669, 3.2645, 3.2558, 3.2103, 3.1597, 2.9191, 2.9853, 2.9445, 2.6669, 2.3128, 2.0203, 2.8419, 2.2755, 2.7828, 2.416, 1.2507, 1.8689, 1.5342, 0.9891, -0.0059, 1.0133, 1.1749, 1.4187, 3.4588, 3.4515, 3.4424, 3.4333, 3.4298, 3.4222, 3.4186, 3.4179, 3.4154, 3.3869, 3.3811, 3.3785, 3.3614, 3.3307, 3.3235, 3.3166, 3.3134, 3.3109, 3.294, 3.2912, 3.2912, 3.2905, 3.2806, 3.2785, 3.2627, 3.2419, 3.2171, 3.2098, 3.206, 3.2049, 2.8209, 2.8603, 2.7275, 2.9408, 2.9167, 2.7303, 1.5953, 2.2939, 0.4226, 1.9323, 2.1494, 2.4068, 1.0036, 0.86, 1.3744, 3.4502, 3.4487, 3.4476, 3.439, 3.4387, 3.4385, 3.4334, 3.4333, 3.4316, 3.4287, 3.4275, 3.4261, 3.4188, 3.414, 3.4063, 3.4021, 3.4015, 3.4001, 3.3968, 3.3946, 3.3926, 3.3871, 3.3812, 3.3694, 3.3483, 3.3461, 3.3415, 3.3366, 3.3335, 3.3064, 3.2994, 3.1382, 3.232, 3.2234, 3.1249, 3.0511, 2.999, 0.8806, 1.5325, 2.6819, 0.9615, 1.0014, 0.5641, 3.4938, 3.4816, 3.4725, 3.4587, 3.4531, 3.437, 3.4268, 3.4077, 3.3378, 3.3304, 3.3302, 3.3293, 3.3013, 3.2892, 3.2717, 3.2527, 3.2424, 3.2309, 3.227, 3.2015, 3.1986, 3.1975, 3.1758, 3.1016, 3.0992, 3.0986, 3.0982, 3.0453, 3.0425, 2.9824, 2.9382, 2.6803, 2.713, 2.4555, 1.8645, 0.5409, 0.9262, -1.7234, 3.5591, 3.5551, 3.5455, 3.5384, 3.538, 3.5154, 3.5004, 3.4976, 3.49, 3.4886, 3.4869, 3.4808, 3.4702, 3.4513, 3.4403, 3.4291, 3.4222, 3.4218, 3.4097, 3.3896, 3.38, 3.3591, 3.3078, 3.2492, 3.2487, 3.2483, 3.238, 3.2184, 3.2172, 3.1986, 3.1877, 3.0347, 2.7134, 2.3435, 1.758, 1.1634, 0.6576, 0.6637, 0.8125, 3.5606, 3.5597, 3.5581, 3.5487, 3.5421, 3.5417, 3.5318, 3.5202, 3.5162, 3.5149, 3.5049, 3.5045, 3.4963, 3.4951, 3.4848, 3.4825, 3.4617, 3.4605, 3.4532, 3.4497, 3.4444, 3.4225, 3.4221, 3.4167, 3.4035, 3.3986, 3.3948, 3.393, 3.3817, 3.3787, 3.3723, 3.282, 3.3133, 2.7886, 2.0173, 2.28, 2.2999, 0.8397, 0.7697, 1.334, 0.4708, 0.6711, -1.0515, 3.6086, 3.605, 3.6044, 3.5968, 3.5863, 3.5833, 3.5808, 3.5803, 3.5747, 3.5708, 3.5628, 3.5547, 3.5435, 3.541, 3.5384, 3.5332, 3.5288, 3.5058, 3.5039, 3.5038, 3.4987, 3.4961, 3.4907, 3.4906, 3.4872, 3.4789, 3.4779, 3.4593, 3.4589, 3.4502, 3.3653, 3.207, 3.3164, 3.3386, 2.4062, 0.5543, 2.8602, 1.7663, 0.5805, -0.0339, 0.8319, 0.9331, 1.5431, 3.6593, 3.653, 3.6495, 3.63, 3.6231, 3.6212, 3.6108, 3.605, 3.6024, 3.5981, 3.5927, 3.5856, 3.5826, 3.5768, 3.5675, 3.5626, 3.5506, 3.5462, 3.5407, 3.5347, 3.5301, 3.5258, 3.5059, 3.483, 3.4738, 3.4673, 3.4671, 3.4285, 3.4228, 3.4047, 3.3946, 3.2119, 3.1802, 2.7756, 3.0093, 2.978, 1.5493, 2.2071, 1.6945, 0.4697, 0.7269, 3.6653, 3.6644, 3.6544, 3.6476, 3.6439, 3.6398, 3.6387, 3.6368, 3.6245, 3.623, 3.6215, 3.6152, 3.6041, 3.5941, 3.5909, 3.5857, 3.5809, 3.5806, 3.5739, 3.558, 3.5513, 3.5379, 3.5368, 3.5304, 3.5271, 3.518, 3.515, 3.5086, 3.5078, 3.4853, 3.3457, 3.3659, 3.3423, 3.2578, 3.0734, 1.6314, 1.1225, 2.3341, 1.3872, 3.696, 3.692, 3.6852, 3.6796, 3.6777, 3.6732, 3.6621, 3.6619, 3.6613, 3.659, 3.6584, 3.6584, 3.6579, 3.6568, 3.655, 3.6507, 3.6482, 3.6457, 3.624, 3.6237, 3.6159, 3.6144, 3.6137, 3.6082, 3.5886, 3.58, 3.5743, 3.5676, 3.5649, 3.5633, 3.5553, 3.4595, 3.4258, 3.4623, 3.5027, 3.3756, 3.1621, 3.2176, 3.2782, 3.7148, 3.7062, 3.7056, 3.6812, 3.6784, 3.6701, 3.6627, 3.6597, 3.6586, 3.6493, 3.6481, 3.6209, 3.6105, 3.5997, 3.597, 3.585, 3.5776, 3.5714, 3.5613, 3.5464, 3.5464, 3.5378, 3.5324, 3.532, 3.518, 3.5132, 3.4493, 3.448, 3.4455, 3.4077, 3.3188, 3.2982, 3.2626, 3.2496, 3.1174, 3.1423, 2.9824, 3.043, 2.931, 3.0436, 2.4792, 2.9886, 3.3414, 0.7015, 1.4675, 1.8301, 1.0853, 1.8636, 3.7182, 3.7162, 3.716, 3.7082, 3.7066, 3.7063, 3.706, 3.6923, 3.673, 3.6689, 3.6554, 3.6158, 3.6107, 3.5765, 3.542, 3.5344, 3.5151, 3.5031, 3.4854, 3.4819, 3.3468, 3.3402, 3.2609, 3.2558, 3.2339, 3.1911, 3.0987, 2.9472, 2.8289, 2.8283, 2.6166, 0.3665, 0.0284, 0.9707, -0.7692, 3.7214, 3.7141, 3.7069, 3.706, 3.6918, 3.6885, 3.6867, 3.6799, 3.6661, 3.6596, 3.6588, 3.6544, 3.6378, 3.6356, 3.6309, 3.6206, 3.6166, 3.6126, 3.6099, 3.606, 3.6028, 3.5818, 3.5759, 3.5737, 3.5715, 3.5621, 3.559, 3.559, 3.5328, 3.4944, 3.2496, 3.0498, 2.7677, 2.0035, 2.3824, 2.5778, 1.5788, 0.2798, 0.4795]}, \"token.table\": {\"Topic\": [4, 24, 3, 8, 4, 21, 17, 25, 4, 16, 19, 22, 2, 4, 15, 23, 2, 8, 5, 14, 22, 2, 23, 2, 13, 7, 21, 3, 6, 19, 16, 20, 16, 21, 18, 22, 7, 14, 24, 3, 16, 1, 6, 24, 2, 4, 21, 10, 1, 2, 4, 10, 19, 25, 2, 3, 4, 8, 9, 18, 2, 5, 7, 14, 19, 5, 7, 13, 14, 23, 9, 12, 11, 10, 1, 4, 5, 6, 14, 17, 2, 5, 14, 2, 17, 3, 11, 13, 2, 4, 15, 10, 3, 25, 5, 15, 22, 6, 8, 9, 6, 9, 8, 24, 24, 19, 22, 8, 14, 15, 9, 2, 5, 23, 25, 6, 10, 4, 13, 18, 9, 14, 13, 14, 1, 6, 7, 11, 12, 16, 1, 7, 6, 17, 25, 9, 7, 11, 12, 2, 3, 4, 6, 8, 17, 21, 23, 24, 4, 3, 15, 17, 10, 12, 3, 17, 24, 6, 8, 15, 14, 15, 20, 21, 9, 7, 12, 16, 19, 16, 15, 2, 20, 24, 2, 23, 24, 18, 22, 3, 4, 2, 5, 12, 1, 20, 14, 4, 15, 17, 20, 20, 6, 23, 24, 17, 1, 2, 3, 4, 5, 6, 9, 13, 17, 21, 20, 2, 4, 22, 25, 16, 21, 12, 4, 16, 19, 21, 1, 1, 3, 9, 13, 19, 3, 5, 23, 21, 12, 2, 7, 5, 1, 1, 23, 2, 1, 2, 3, 5, 6, 7, 8, 9, 15, 22, 9, 21, 2, 2, 5, 11, 21, 5, 10, 19, 21, 3, 7, 2, 9, 11, 13, 22, 24, 1, 2, 5, 19, 20, 22, 7, 25, 14, 14, 25, 5, 19, 24, 22, 11, 16, 1, 11, 8, 22, 9, 17, 24, 7, 12, 14, 22, 25, 1, 23, 5, 19, 22, 18, 4, 12, 1, 1, 2, 3, 5, 7, 8, 9, 11, 15, 20, 22, 4, 15, 5, 23, 5, 13, 19, 3, 23, 13, 19, 4, 18, 11, 2, 5, 9, 13, 14, 14, 16, 1, 4, 9, 18, 1, 17, 2, 4, 5, 10, 13, 20, 22, 11, 2, 14, 4, 15, 18, 6, 19, 15, 8, 10, 3, 13, 8, 9, 23, 2, 13, 5, 7, 20, 1, 22, 15, 3, 5, 25, 6, 23, 8, 15, 1, 2, 3, 4, 5, 14, 15, 17, 19, 2, 5, 11, 3, 4, 5, 6, 10, 13, 22, 10, 3, 13, 2, 6, 7, 8, 15, 23, 3, 6, 8, 14, 24, 21, 20, 7, 4, 2, 3, 5, 12, 24, 17, 5, 11, 6, 18, 25, 16, 15, 3, 6, 2, 3, 4, 6, 7, 10, 15, 15, 8, 14, 23, 25, 17, 23, 20, 13, 23, 1, 4, 10, 13, 14, 9, 20, 14, 19, 23, 8, 18, 5, 11, 18, 10, 14, 18, 6, 2, 3, 5, 8, 10, 19, 20, 23, 1, 3, 15, 13, 17, 2, 4, 7, 10, 19, 11, 9, 10, 17, 7, 4, 4, 22, 25, 2, 11, 15, 11, 4, 8, 19, 8, 15, 14, 15, 1, 2, 3, 4, 5, 6, 7, 9, 10, 12, 15, 18, 19, 21, 22, 25, 4, 11, 19, 20, 4, 11, 12, 18, 12, 1, 6, 9, 20, 2, 3, 4, 5, 7, 8, 13, 19, 10, 1, 10, 10, 21, 2, 9, 6, 8, 2, 3, 4, 6, 19, 21, 23, 18, 20, 24, 3, 4, 9, 12, 18, 2, 4, 14, 19, 25, 11, 8, 7, 1, 5, 7, 12, 13, 11, 13, 19, 17, 2, 3, 7, 8, 9, 12, 13, 15, 17, 19, 20, 6, 25, 13, 12, 19, 9, 6, 1, 10, 17, 13, 1, 2, 5, 7, 14, 15, 3, 11, 10, 4, 10, 18, 14, 21, 23, 11, 22, 18, 25, 5, 7, 15, 16, 24, 19, 4, 6, 1, 2, 3, 1, 3, 5, 2, 10, 15, 18, 3, 7, 12, 10, 16, 21, 25, 7, 15, 7, 10, 14, 23, 9, 11, 12, 19, 1, 2, 3, 7, 8, 9, 5, 19, 9, 10, 6, 14, 14, 17, 21, 19, 1, 11, 21, 11, 12, 14, 19, 22, 4, 3, 18, 22, 2, 3, 4, 5, 10, 12, 18, 22, 25, 21, 8, 6, 5, 3, 1, 8, 7, 1, 2, 19, 7, 18, 6, 11, 19, 2, 3, 5, 23, 5, 4, 9, 10, 15, 18, 21, 22, 3, 18, 19, 21, 22, 18, 19, 6, 18, 1, 2, 3, 4, 5, 6, 7, 11, 12, 13, 14, 17, 18, 19, 20, 23, 25, 3, 18, 17, 11, 1, 13, 18, 4, 16, 13, 1, 2, 3, 4, 5, 6, 19, 21, 2, 22, 19, 4, 13, 15, 17, 1, 4, 6, 3, 4, 8, 18, 25, 13, 19, 3, 22, 15, 19, 6, 24, 5, 6, 4, 2, 3, 5, 6, 18, 19, 3, 4, 13, 17, 23, 4, 23, 2, 4, 5, 9, 13, 19, 20, 21, 9, 20, 4, 13, 2, 4, 5, 10, 11, 12, 2, 8, 3, 12, 13, 19, 25, 16, 16, 22, 1, 2, 4, 6, 14, 25, 13, 2, 3, 18, 19, 1, 4, 6, 9, 10, 13, 16, 18, 19, 23, 16, 16, 9, 14, 21, 7, 3, 8, 13, 20, 2, 3, 4, 5, 7, 8, 9, 10, 11, 12, 13, 14, 16, 18, 19, 24, 1, 2, 7, 12, 13, 2, 9, 22, 16, 1, 6, 20, 3, 11, 13, 20, 1, 2, 3, 7, 9, 10, 11, 13, 25, 25, 3, 10, 13, 14, 3, 11, 9, 17, 19, 3, 25, 7, 9, 11, 20, 7, 13, 18, 6, 4, 1, 10, 18, 21, 6, 11, 10, 7, 19, 18, 21, 8, 15, 14, 23, 2, 8, 13, 8, 18, 19, 1, 8, 14, 15, 19, 6, 23, 4, 6, 4, 6, 20, 22, 21, 12, 3, 4, 13, 25, 9, 11, 11, 7, 2, 3, 4, 5, 7, 8, 11, 12, 13, 18, 24, 17, 5, 4, 7, 11, 18, 19, 25, 25, 2, 3, 4, 5, 8, 9, 15, 18, 21, 22, 9, 2, 3, 4, 18, 19, 25, 2, 1, 3, 5, 23, 2, 7, 9, 10, 25, 14, 2, 5, 1, 3, 4, 6, 13, 2, 7, 17, 18, 19, 1, 5, 12, 9, 7, 1, 4, 10, 11, 13, 14, 15, 18, 9, 15, 19, 1, 17, 2, 6, 9, 3, 4, 18, 5, 20, 3, 18, 23, 7, 6, 10, 12, 16, 19, 16, 25, 1, 2, 3, 4, 5, 6, 7, 9, 10, 11, 13, 19, 22, 23, 25, 3, 3, 24, 15, 22, 15, 2, 5, 25, 4, 18, 11, 5, 8, 3, 2, 3, 4, 5, 23, 25, 7, 13, 20, 23, 1, 1, 2, 3, 6, 10, 12, 3, 7, 12, 4, 5, 17, 24, 6, 7, 8, 13, 5, 17, 10, 18, 1, 2, 3, 5, 18, 20, 9, 17, 13, 25, 19, 1, 15, 23, 1, 4, 19, 1, 12, 12, 13, 3, 4, 5, 6, 9, 17, 18, 22, 17, 2, 14, 13, 13, 12, 19, 11, 14, 20, 5, 4, 1, 2, 3, 4, 5, 6, 7, 9, 12, 15, 16, 25, 2, 17, 8, 2, 5, 9, 11, 22, 15, 4, 10, 2, 16, 19, 3, 22, 14, 17, 2, 6, 8, 10, 13, 17, 14, 6, 8, 7, 20, 18, 15, 6, 11, 19, 10, 23, 7, 15, 4, 6, 11, 12, 21, 6, 9, 11, 23, 20, 2, 3, 4, 6, 9, 10, 11, 14, 17, 18, 19, 20, 21, 22, 2, 4, 6, 21, 23, 25, 3, 13, 14, 23, 11, 2, 4, 5, 6, 9, 11, 19, 2, 10, 14, 23, 21, 3, 23, 25, 15, 3, 14, 20, 5, 22, 2, 11, 11, 2, 22, 1, 4, 21, 18, 24, 18, 6, 23, 20, 8, 10, 2, 20, 12, 12, 3, 25, 22, 15, 10, 1, 3, 7, 19, 23, 11, 16, 21, 12, 1, 3, 4, 18, 22, 13, 7, 2, 3, 4, 9, 18, 22, 23, 2, 4, 7, 10, 23, 23, 9, 12, 18, 1, 2, 24, 16, 14, 16, 4, 6, 22, 4, 8, 21, 20, 21, 3, 9, 6, 8, 18, 25, 5, 13, 23, 2, 13, 3, 11, 12, 7, 15, 19, 10, 10, 13, 1, 5, 7, 15, 15, 6, 1, 2, 13, 25, 1, 2, 16, 25, 7, 4, 9, 5, 7, 9, 12, 9, 5, 3, 5, 8, 1, 3, 10, 13, 14, 19, 2, 13, 22, 13, 4, 11, 21, 1, 19, 17, 2, 6, 13, 15, 23, 3, 6, 4, 23, 2, 19, 11, 11, 3, 4, 5, 18, 25, 3, 19, 24, 1, 2, 3, 8, 11, 13, 22, 1, 2, 3, 5, 11, 16, 5, 7, 21, 4, 19, 17, 2, 3, 4, 5, 10, 11, 14, 16, 1, 3, 4, 5, 12, 20, 23, 3, 22, 10, 13, 5, 14, 3, 4, 6, 14, 25, 14, 14, 1, 2, 17, 12, 25, 1, 3, 5, 6, 10, 11, 13, 14, 15, 18, 19, 20, 23, 25, 12, 6, 25, 2, 9, 14, 2, 20, 22, 2, 18, 15, 12, 23, 21, 14, 25, 5, 7, 9, 1, 25, 24, 10, 3, 5, 8, 12, 13, 15, 19, 5, 15, 5, 5, 2, 3, 5, 8, 1, 20, 10, 23, 4, 22, 12, 1, 11, 7, 21, 18, 1, 2, 3, 4, 5, 7, 8, 9, 10, 11, 12, 13, 15, 18, 19, 20, 23, 3, 8, 5, 15, 8, 14, 1, 2, 3, 5, 7, 10, 11, 20, 22, 5, 14, 22, 23, 4, 9, 2, 1, 2, 4, 6, 23, 22, 21, 5, 18, 1, 2, 4, 5, 7, 9, 10, 25, 16, 25, 3, 5, 15, 1, 2, 18, 2, 3, 4, 11, 13, 14, 18, 19, 23, 4, 9, 15, 22, 2, 4, 2, 14, 18, 6, 4, 22, 25, 8, 11, 13, 4, 20, 2, 5, 13, 18, 23, 9, 7, 9, 10, 1, 3, 20, 21, 4, 12, 1, 10, 20, 3, 14, 17, 18, 3, 13, 23, 2, 19, 17, 10, 4, 14, 21, 8, 9, 24, 22, 17, 8, 20, 24, 10, 4, 19, 2, 3, 4, 5, 6, 7, 8, 10, 11, 13, 15, 21, 5, 8, 9, 19, 5, 23, 18, 23, 19, 13, 25, 2, 9, 14, 3, 13, 8, 20, 5, 9, 8, 1, 3, 6, 11, 19, 24, 21, 21, 3, 22, 3, 7, 16, 8, 9, 16, 5, 7, 11, 20, 2, 12, 10, 13, 8, 18, 7, 8, 20, 8, 8, 24, 22, 5, 6, 5, 17, 7, 12, 16, 11, 15, 18, 8, 4, 6, 13, 22, 21, 19, 16, 24, 23, 17, 14, 24, 22, 24, 12, 24, 18, 12, 15, 6, 7, 21, 11, 24, 18, 6, 12, 20, 15, 10, 3, 3, 18, 17, 14, 15, 17, 10, 17, 18, 14, 4, 9, 21, 16, 10, 23, 21, 17], \"Freq\": [0.014576398179228137, 0.962042279829057, 0.2725004488852805, 0.6812511222132013, 0.9467525681549092, 0.9103118794612451, 0.7663607120048064, 0.8296589723223415, 0.41319699121613823, 0.4407434572972141, 0.11018586432430352, 0.8313368241720419, 0.24079826844783928, 0.0656722550312289, 0.656722550312289, 0.021890751677076298, 0.8540858826608179, 0.12201226895154542, 0.9354780499922406, 0.03625883914698607, 0.02175530348819164, 0.42734586426291804, 0.56089144684508, 0.957559595123932, 0.8704718931657011, 0.9963364596365278, 0.9753442530006309, 0.07506477143747958, 0.8257124858122755, 0.07506477143747958, 0.8091686733552702, 0.06224374410425155, 0.6783186184769998, 0.8618487596474511, 0.984958533713291, 0.9585654463309161, 0.8706792901177085, 0.11388257304733113, 0.7971780113313179, 0.9737462519216769, 0.827732397163464, 0.9329436051089302, 0.7555071925982997, 0.9894283864048093, 0.6091348155234018, 0.09746157048374428, 0.2680193188302968, 0.9666549848969862, 0.10596211190889651, 0.09271684792028445, 0.10596211190889651, 0.3443768637039137, 0.29139580774946544, 0.039735791965836195, 0.14574859895796374, 0.4320404897682497, 0.10410614211283126, 0.046847763950774064, 0.23423881975387031, 0.026026535528207814, 0.005106417393888845, 0.7557497742955491, 0.2042566957555538, 0.02042566957555538, 0.01021283478777769, 0.0016462136701214135, 0.9877282020728481, 0.008231068350607067, 0.0016462136701214135, 0.9385744448193007, 0.8368527175558238, 0.8824918406835469, 0.9730802075626617, 0.9098339134151854, 0.1001764538247962, 0.0500882269123981, 0.6411293044786956, 0.0500882269123981, 0.12021174458975545, 0.02003529076495924, 0.20112982228249549, 0.5105603181017193, 0.2630159214463403, 0.12298303328412408, 0.7378981997047445, 0.9195077415297581, 0.8388417654626237, 0.8970614850555034, 0.9584755223453785, 0.21056321547524454, 0.77206512340923, 0.9389959681341881, 0.9658796889597986, 0.9046917646695638, 0.9505517498251648, 0.8826559994431875, 0.9444959299822578, 0.7407755126199876, 0.2116501464628536, 0.0264562683078567, 0.9677001659423512, 0.9908275250010335, 0.8355038553456107, 0.5084396132196735, 0.9729446670496876, 0.9193057927123647, 0.05107254403957582, 0.9345304124963029, 0.8991988479865921, 0.8559633034405105, 0.9820632020866932, 0.5216222025347941, 0.13040555063369852, 0.07113030034565374, 0.26081110126739704, 0.9302108673637854, 0.9918377048708416, 0.9441216904835358, 0.8129495386633955, 0.1283604534731677, 0.7073899359409193, 0.11789832265681988, 0.8307514198299049, 0.8402787780312625, 0.025678899478127078, 0.016341117849717233, 0.0038907423451707696, 0.000778148469034154, 0.005447039283239077, 0.9470066868145653, 0.8922078972030844, 0.8461634482730129, 0.24587186652620868, 0.5941903441050044, 0.14342525547362173, 0.8191205628853117, 0.002567641169059244, 0.9936771324259274, 0.002567641169059244, 0.12288579653304148, 0.23631883948661822, 0.09452753579464729, 0.01890550715892946, 0.12288579653304148, 0.2930353609634066, 0.047263767897323644, 0.05671652147678837, 0.9785730058483891, 0.9009097413701687, 0.03172797245861371, 0.9518391737584114, 0.9152369589376363, 0.7796455514571301, 0.1856298932040786, 0.5198534739055458, 0.0577614971006162, 0.3465689826036972, 0.14864546229553655, 0.8324145888550046, 0.009909697486369103, 0.46931415587488534, 0.4417074408234215, 0.05521343010292769, 0.9793615073732048, 0.7449068000402933, 0.8008098354294124, 0.913461474592418, 0.8859099614558942, 0.9050449117088077, 0.833541808463581, 0.9518667279830428, 0.2183105562976275, 0.7541637399372586, 0.8173077017463383, 0.9711157480365723, 0.8358923013243339, 0.9426161501806068, 0.9736697989506427, 0.9102220388104072, 0.8990297840414638, 0.9404080351200281, 0.21008432733305765, 0.44642919558274746, 0.31512649099958645, 0.9590579017465638, 0.8878390807244465, 0.8825516380342341, 0.9474550970970943, 0.9507129917187457, 0.851563616614698, 0.9449738145480115, 0.8847143704947465, 0.5451009924055901, 0.19613981411467013, 0.7845592564586805, 0.9631542574470989, 0.23289604023080676, 0.4729034099343099, 0.05333497104522292, 0.10844777445861993, 0.007111329472696389, 0.0035556647363481947, 0.0675576299906157, 0.028445317890785558, 0.010666994209044585, 0.012444826577218682, 0.9063173536452966, 0.7635706179965236, 0.17816647753252218, 0.033936471910956605, 0.008484117977739151, 0.7471326640208591, 0.12452211067014318, 0.8572426782077367, 0.4420834202059691, 0.4420834202059691, 0.029472228013731273, 0.08841668404119382, 0.8772902937671205, 0.5473772018557428, 0.14125863273696587, 0.22071661365150919, 0.008828664546060367, 0.07062931636848294, 0.9496386995952008, 0.9353142917521354, 0.8998146611737191, 0.9701041209720213, 0.9359567717524203, 0.9502859869038699, 0.8783303576964248, 0.994402053889361, 0.9590572745923658, 0.9643404883700537, 0.9876714212534055, 0.9356174536946924, 0.0018594092365208429, 0.026961433929552223, 0.0009297046182604214, 0.0018594092365208429, 0.0009297046182604214, 0.029750547784333486, 0.8590470672726295, 0.0037188184730416857, 0.07437636946083372, 0.9475323148539859, 0.8622970717918387, 0.8996322173888988, 0.944848862383475, 0.036437156232651605, 0.546557343489774, 0.40080871855916766, 0.8991410829474991, 0.12958373744136006, 0.11338577026119005, 0.02429695077025501, 0.7208095395175653, 0.9469258009598585, 0.8462901458483962, 0.013599435131225779, 0.32638644314941867, 0.013599435131225779, 0.6255740160363857, 0.9495821609370195, 0.9604198954129862, 0.954361944417545, 0.19294852714087793, 0.16079043928406495, 0.016079043928406492, 0.04823713178521948, 0.5788455814226338, 0.19174321712555753, 0.7943647566630241, 0.7553117517386133, 0.9501267220210757, 0.9260682695689455, 0.92058378754614, 0.06036615000302557, 0.644251504364089, 0.9165629422337805, 0.6858777347229891, 0.6298973489329566, 0.1286866191285844, 0.8579107941905626, 0.7698449363984811, 0.9338573598766176, 0.007604802606963186, 0.003802401303481593, 0.981019536298251, 0.8165600774347649, 0.819974379871102, 0.7668424549764526, 0.2018006460464349, 0.9610633720790374, 0.9866743247712388, 0.889497617038261, 0.8385041360150483, 0.1290006363100074, 0.8834933213710207, 0.8140438271933956, 0.8323095405010303, 0.1456541695876803, 0.926486391651867, 0.163373577106856, 0.06534943084274239, 0.3136772680451635, 0.19278082098609006, 0.062081959300605276, 0.04901207313205679, 0.05227954467419391, 0.032674715421371195, 0.055547016216331034, 0.006534943084274239, 0.006534943084274239, 0.9622077157703932, 0.9598657894966017, 0.9385526447139492, 0.8981592434018967, 0.9874468521526072, 0.9200340546950644, 0.8491693327721654, 0.9456868324583655, 0.9572790213321385, 0.9943331494707331, 0.9582594045209537, 0.8738499766127094, 0.10592120928638901, 0.8907934418003387, 0.07388420238369031, 0.27706575893883867, 0.480247315493987, 0.07388420238369031, 0.09235525297961289, 0.8021363300710961, 0.7650504687356773, 0.9638195805328561, 0.27954311955033234, 0.49696554586725744, 0.18636207970022156, 0.9913867271765974, 0.990876586814884, 0.25064277842965044, 0.19892284002353208, 0.5052640136597715, 0.007956913600941284, 0.027849197603294493, 0.003978456800470642, 0.9638324477044485, 0.8526746933975571, 0.3748098479287746, 0.5622147718931618, 0.0727344555134912, 0.8000790106484031, 0.953067127535451, 0.9701336303742902, 0.9345828356268794, 0.9104764148142458, 0.7773969538095027, 0.21054500832340697, 0.15801453666725593, 0.7110654150026516, 0.6885338027193512, 0.8051032778767127, 0.9837788399085517, 0.9684618138815562, 0.8073583092039924, 0.9768284633183234, 0.8889504471122102, 0.7957373158390169, 0.24392268652092886, 0.7012777237476705, 0.8144211709113861, 0.7917661560556948, 0.16966417629764888, 0.9120388604381117, 0.9693960879367575, 0.8496688961504517, 0.782119326305137, 0.1996900407587584, 0.16865593804119872, 0.08432796902059936, 0.008432796902059937, 0.26563310241488797, 0.30779708692518765, 0.029514789157209776, 0.012649195353089905, 0.054813179863389586, 0.06746237521647949, 0.0036941178274624365, 0.0036941178274624365, 0.990023577759933, 0.12972549609504777, 0.05341638074501968, 0.23655825758508714, 0.19077278837507028, 0.06104729228002249, 0.30523646140011246, 0.015261823070005622, 0.9210820619419904, 0.4298537620502988, 0.5290507840619062, 0.24841695951764622, 0.038217993771945576, 0.11465398131583672, 0.4395069283773741, 0.08599048598687754, 0.07165873832239796, 0.2236935306639887, 0.021647761031998905, 0.13710248653599308, 0.5411940257999727, 0.06494328309599672, 0.9215211074012573, 0.8616622933204252, 0.9052263002227047, 0.9556328866782644, 0.11698438436532266, 0.10634944033211151, 0.7657159703912029, 0.010634944033211151, 0.844673283499163, 0.8103795379390795, 0.9919841587142456, 0.8761275936397307, 0.0047282734223594945, 0.018913093689437978, 0.9692960515836964, 0.9919168606673976, 0.9626317626153538, 0.9878376820422249, 0.9598949813514706, 0.012550188181735969, 0.021335319908951145, 0.002510037636347194, 0.005020075272694388, 0.2422186319075042, 0.0037650564545207905, 0.7115956699044294, 0.9501663844671712, 0.13236552036256352, 0.23163966063448616, 0.4632793212689723, 0.13236552036256352, 0.2105495841894875, 0.7018319472982916, 0.7321737921102098, 0.9808862385967506, 0.9017451208169095, 0.09814841938563074, 0.388326354960539, 0.15789093553340597, 0.31578187106681194, 0.029871258073887616, 0.05232925949513371, 0.9244835844140289, 0.937890082090085, 0.9620170227701327, 0.8376682360008878, 0.19783265677912865, 0.7517640957606889, 0.7150730273810353, 0.11917883789683922, 0.1532299344387933, 0.947994902866595, 0.8111120879054419, 0.14313742727743092, 0.9596344462246279, 0.0591982582435522, 0.09866376373925367, 0.006577584249283578, 0.019732752747850735, 0.006577584249283578, 0.6643360091776415, 0.13812926923495514, 0.9199411338442509, 0.9054056230069472, 0.9596368288942946, 0.9478516882560154, 0.879245502418719, 0.07993140931079264, 0.9515329197920117, 0.871904046892464, 0.3278922196594046, 0.6339249580081823, 0.021859481310626976, 0.9654515686158341, 0.838066775506959, 0.06446667503899685, 0.9768363194517966, 0.8915135363100568, 0.9321779640960435, 0.9400689955096778, 0.9852981043485873, 0.9463604984069822, 0.2973186787439323, 0.05405794158980587, 0.6216663282827675, 0.8531226197641464, 0.417064983785746, 0.5362264077245306, 0.9643003146410044, 0.8021115091424266, 0.922909043663485, 0.8520372378502439, 0.9649059671941728, 0.019800288538685158, 0.14520211595035784, 0.0022000320598539068, 0.10560153887298751, 0.3322048410379399, 0.05060073737663985, 0.011000160299269533, 0.18480269302772814, 0.015400224418977346, 0.0044000641197078135, 0.011000160299269533, 0.059400865616055475, 0.0022000320598539068, 0.0022000320598539068, 0.011000160299269533, 0.039600577077370316, 0.11509572898181554, 0.23019145796363108, 0.010463248089255958, 0.6382581334446135, 0.024577001790256636, 0.2896575210994532, 0.6828895497435593, 0.001755500127875474, 0.7375195614432534, 0.165169863869165, 0.0037538605424810227, 0.007507721084962045, 0.818341598260863, 0.09836218760894458, 0.2704960159245976, 0.10450982433450362, 0.012295273451118072, 0.01844291017667711, 0.030738183627795183, 0.4549251176913687, 0.012295273451118072, 0.9508339878296269, 0.10108725262464265, 0.8592416473094625, 0.9595865183759639, 0.026655181065998998, 0.9914675643551643, 0.9062065710362283, 0.5288485764937882, 0.46696204094664284, 0.6581722040949958, 0.10615680711209609, 0.07643290112070918, 0.14012698538796683, 0.008492544568967687, 0.004246272284483843, 0.8376658064458248, 0.989994716160853, 0.9499817562985675, 0.7114013441636771, 0.0022061973114997956, 0.006618591934499388, 0.9839640009289089, 0.9900566636772693, 0.9557230423449962, 0.01235785617678891, 0.00411928539226297, 0.00411928539226297, 0.00411928539226297, 0.9721513525740609, 0.9642570996389019, 0.923914680246608, 0.9461331926880729, 0.01422719498913823, 0.09959036492396761, 0.009484796659425487, 0.7255869444460498, 0.14701434822109505, 0.9477134458724835, 0.188806293546656, 0.755225174186624, 0.9285378078308889, 0.00215625964104812, 0.0107812982052406, 0.09056290492402104, 0.03665641389781804, 0.00215625964104812, 0.7309720183153128, 0.0107812982052406, 0.015093817487336842, 0.09056290492402104, 0.00862503856419248, 0.00215625964104812, 0.8177205216012483, 0.9717864900013697, 0.9348649403274402, 0.9065299011802825, 0.9691106994603783, 0.7967297103735358, 0.9806296869782518, 0.943162362562653, 0.8048493418401798, 0.9447474914909968, 0.9411948533623427, 0.09133226342261465, 0.004151466519209756, 0.01245439955762927, 0.8385962368803709, 0.01245439955762927, 0.041514665192097566, 0.9640854779838913, 0.024407227290731425, 0.917972080042221, 0.7762174569732344, 0.16419984666741497, 0.059709035151787264, 0.8818084160196372, 0.9409763752273014, 0.9157971126115519, 0.9806650599947108, 0.965109870501099, 0.8940536534358196, 0.9735371037075338, 0.18682784949009884, 0.2802417742351483, 0.17348300309794892, 0.34696600619589785, 0.6674393269743162, 0.8878769335062825, 0.9082863108316631, 0.8760720975991035, 0.7388240387400693, 0.21109258249716265, 0.042218516499432535, 0.21794022584442876, 0.015567158988887768, 0.7550072109610568, 0.92686252095923, 0.5745172555792001, 0.22980690223168004, 0.16414778730834287, 0.8813907347700404, 0.20084278882862783, 0.7822298091220241, 0.9224229032444846, 0.6728478201677831, 0.8778391849991101, 0.784201190693646, 0.9378583961643774, 0.04077645200714684, 0.9556693841145438, 0.664936794475535, 0.3068939051425546, 0.012787246047606443, 0.2574102683466782, 0.1447932759450065, 0.4022035442916847, 0.17696955948834125, 0.05715364419065352, 0.25719139885794084, 0.02857682209532676, 0.20575311908635266, 0.2971989497913983, 0.14859947489569916, 0.8681710950889526, 0.902092730976479, 0.10900905590080345, 0.8175679192560259, 0.12687992675505472, 0.8643695010188103, 0.9578712284062224, 0.8485166318407663, 0.9704740915191201, 0.9900963638553755, 0.9968548051323587, 0.24812163926755088, 0.7443649178026526, 0.19243375417057454, 0.11546025250234473, 0.03848675083411491, 0.46184101000937894, 0.11546025250234473, 0.94886270099501, 0.9046427116612086, 0.0502579284256227, 0.8382240864280024, 0.035970906952680765, 0.0025693504966200543, 0.030832205959440653, 0.14388362781072306, 0.7348342420333356, 0.0025693504966200543, 0.043678958442540924, 0.0025693504966200543, 0.0025693504966200543, 0.8816815919978068, 0.9697513028933361, 0.7740783445948218, 0.9445953387006579, 0.8823942447156555, 0.9536684319637513, 0.9422481654235006, 0.9872859363656974, 0.8435625053924715, 0.08435625053924715, 0.9623259864434223, 0.06337328503306779, 0.8872259904629491, 0.9909947685697619, 0.0030492146725223444, 0.0030492146725223444, 0.12370522981475295, 0.08996743986527488, 0.2249185996631872, 0.5510505691748085, 0.9413423095763469, 0.040758168797485644, 0.12227450639245693, 0.020379084398742822, 0.040758168797485644, 0.12227450639245693, 0.020379084398742822, 0.6113725319622846, 0.010266494486529653, 0.14373092281141514, 0.030799483459588956, 0.04106597794611861, 0.7699870864897239, 0.8346595539964268, 0.8990482670273084, 0.9535297441557591, 0.8589871027552249, 0.015452941439727138, 0.13778872783756696, 0.0965808839982946, 0.1867230423967029, 0.07855245231861295, 0.050222059679113196, 0.002575490239954523, 0.02575490239954523, 0.014165196319749876, 0.030905882879454276, 0.1532416692772941, 0.05537304015902224, 0.06438725599886307, 0.011589706079795353, 0.04120784383927237, 0.0012877451199772615, 0.03219362799943153, 0.24562651874097613, 0.7467046169725674, 0.7834191465286069, 0.8101231078341032, 0.9821121426907544, 0.0844383603334538, 0.9096314272285705, 0.9412625557517174, 0.5715816744311444, 0.9593292088280977, 0.19373689186700271, 0.12915792791133515, 0.1028479796331002, 0.3468129545767333, 0.1554678761895701, 0.031093575237914017, 0.016742694358876778, 0.019134507838716317, 0.9654668815234628, 0.9233411786241023, 0.9177783236884178, 0.15657188250905651, 0.5010300240289809, 0.21920063551267913, 0.0939431295054339, 0.699762515416109, 0.21531154320495663, 0.05382788580123916, 0.052528067383415374, 0.3676964716839076, 0.5252806738341538, 0.7666478602425341, 0.9283397634449255, 0.8096726185525013, 0.13494543642541687, 0.10231836986606853, 0.8697061438615825, 0.06062780269075341, 0.9094170403613011, 0.31098297343861625, 0.6219659468772325, 0.3984542501895677, 0.5478745940106556, 0.9568713086125946, 0.18488913467463394, 0.5341241668378314, 0.04108647437214087, 0.1129878045233874, 0.10271618593035219, 0.010271618593035218, 0.24563121051000397, 0.21492730919625347, 0.030703901313750497, 0.0245631210510004, 0.4789808604945078, 0.16376043620996905, 0.8188021810498453, 0.001094771035898446, 0.9491664881239525, 0.005473855179492229, 0.009852939323086013, 0.002189542071796892, 0.0262745048615627, 0.001094771035898446, 0.002189542071796892, 0.9834735133263959, 0.96078771804188, 0.008715790053662206, 0.9848842760638293, 0.16971571179094266, 0.045257523144251376, 0.31680266200975965, 0.38468894672613674, 0.05657190393031422, 0.022628761572125688, 0.9632207186240636, 0.015289217755937516, 0.030287314617643828, 0.030287314617643828, 0.15143657308821912, 0.7268955508234518, 0.9823571386504212, 0.680202801741197, 0.8321452105441121, 0.9731015467551394, 0.007107513734908932, 0.08884392168636164, 0.12793524722836078, 0.07818265108399824, 0.5224022595158064, 0.17768784337272328, 0.8774806434798165, 0.4588483808397922, 0.1424012216399355, 0.284802443279871, 0.094934147759957, 0.001637495240274036, 0.3831738862241244, 0.001637495240274036, 0.45849866727673005, 0.009824971441644216, 0.10971218109836041, 0.004912485720822108, 0.003274990480548072, 0.018012447643014396, 0.004912485720822108, 0.9770767337362365, 0.5711004639490581, 0.011809484984392242, 0.011809484984392242, 0.9683777687201638, 0.8729819787214312, 0.5883178395456642, 0.10382079521394073, 0.05767821956330041, 0.23071287825320164, 0.00823617509380641, 0.126484117512027, 0.012942560861695788, 0.03470959503818416, 0.4000427902705971, 0.09353941713680138, 0.06118301498256191, 0.0017648946629585166, 0.006471280430847894, 0.11942453886019296, 0.0005882982209861722, 0.04765215589987995, 0.05177024344678315, 0.010001069756764928, 0.0011765964419723444, 0.024708525281419234, 0.03581034859837754, 0.008952587149594385, 0.008952587149594385, 0.9221164764082218, 0.008952587149594385, 0.9837681562163086, 0.9842779514444628, 0.9475660967941548, 0.6283433021295803, 0.9961225478746722, 0.0022284620757822646, 0.887342884069125, 0.1809273261102584, 0.6054106681381723, 0.20180355604605746, 0.7476194111690491, 0.006449073008683624, 0.28375921238207946, 0.25151384733866133, 0.15155321570406516, 0.009673609513025436, 0.019347219026050872, 0.019347219026050872, 0.23861570132129406, 0.016122682521709057, 0.9424251606176219, 0.2807655522459879, 0.06239234494355287, 0.5927272769637523, 0.046794258707664654, 0.17060184901343467, 0.8064814680635094, 0.13760361368468013, 0.8577291919678395, 0.9311120895553152, 0.9882072499204888, 0.890903162608746, 0.7795251634547946, 0.15590503269095893, 0.8531945457726422, 0.9013332089771895, 0.9827058854395849, 0.10034046705439341, 0.8779790867259424, 0.955069742391064, 0.9362474576179863, 0.014280662642791696, 0.08568397585675018, 0.17136795171350036, 0.7140331321395847, 0.6954000640301251, 0.23180002134337505, 0.9702029379905778, 0.8948456273293061, 0.9191903673671495, 0.8439393162220757, 0.9064443965042327, 0.9758079126591023, 0.021005649783268347, 0.8649372304777664, 0.9009927975968296, 0.9148340003230722, 0.8262893660535083, 0.9719447083867793, 0.7247658535574968, 0.06588780486886334, 0.06588780486886334, 0.9723666423840159, 0.03578440099338046, 0.5725504158940874, 0.2862752079470437, 0.03578440099338046, 0.7947056178086244, 0.9402193530288812, 0.7624407496691181, 0.23558562489776122, 0.13012522563506843, 0.13012522563506843, 0.48796959613150664, 0.19518783845260265, 0.8954538449643373, 0.9941029310635626, 0.2435014009796423, 0.22726797424766615, 0.016233426731976152, 0.5032362286912607, 0.9660569765076457, 0.9136945038498699, 0.8417549422784374, 0.940567170591727, 0.01476167348188187, 0.6347519597209204, 0.012652862984470175, 0.1476167348188187, 0.016870483979293565, 0.0021088104974116956, 0.004217620994823391, 0.13918149282917192, 0.010544052487058479, 0.0021088104974116956, 0.010544052487058479, 0.9556420470112046, 0.9346052268187477, 0.8385478102326526, 0.14583440177959175, 0.9703863970006879, 0.9879684425036833, 0.8866941186659053, 0.8723853329978978, 0.9909126837904767, 0.007086606774656771, 0.06377946097191094, 0.014173213549313541, 0.007086606774656771, 0.03543303387328386, 0.007086606774656771, 0.007086606774656771, 0.08503928129588126, 0.014173213549313541, 0.7511803181136177, 0.8817055486256214, 0.3728606662363006, 0.041428962915144515, 0.10127079823701991, 0.45571859206658966, 0.02761930861009634, 0.004603218101682724, 0.9609779711365186, 0.023853424010954985, 0.4611661975451297, 0.04770684802190997, 0.45321505620814473, 0.0722264223810073, 0.7813585693945335, 0.013132076796546781, 0.0065660383982733906, 0.11818869116892103, 0.8966347607915188, 0.9852634449387109, 0.9443432992978313, 0.4008610952585558, 0.019714480094683073, 0.552005442651126, 0.013142986729788714, 0.006571493364894357, 0.10461936642414311, 0.10461936642414311, 0.7323355649690018, 0.9421069329965552, 0.9305884966312227, 0.9372932745319256, 0.11218081178080427, 0.7852656824656299, 0.9260227186779307, 0.9006911397527378, 0.11464012298247923, 0.013227706497978373, 0.4012404304386773, 0.061729296990565743, 0.008818470998652248, 0.03968311949393512, 0.14109553597843597, 0.21164330396765396, 0.8653039409454688, 0.9699761111347412, 0.9362556689890583, 0.9471074250664069, 0.7089207474602557, 0.06948716398715675, 0.853699443270783, 0.06948716398715675, 0.8485668780886081, 0.16705738769675366, 0.811421597384232, 0.021792822023346183, 0.958884169027232, 0.2957963008846913, 0.049299383480781875, 0.6162422935097734, 0.9144880148877634, 0.0021770312290374785, 0.75978389893408, 0.041363593351712094, 0.19375577938433558, 0.8762045519875434, 0.9240407467275066, 0.8298355217230982, 0.003544024833833943, 0.062020434592094005, 0.008860062084584858, 0.06733647184284491, 0.003544024833833943, 0.02126414900300366, 0.005316037250750915, 0.618432333504023, 0.09568867051351646, 0.04607232283984126, 0.003544024833833943, 0.01063207450150183, 0.003544024833833943, 0.04784433525675823, 0.0017720124169169715, 0.9469188660982272, 0.933582217520062, 0.4644218409402178, 0.817070882012309, 0.9112797885755096, 0.9191077761713442, 0.9824684077094441, 0.9053255683896132, 0.8608380088011549, 0.13094524331644136, 0.829319874337462, 0.979944364451203, 0.8997730867040595, 0.05292782862965056, 0.9652626325934994, 0.5919305955199917, 0.08456151364571311, 0.08011090766435978, 0.2047278751422528, 0.026703635888119928, 0.008901211962706643, 0.009530446411225413, 0.047652232056127064, 0.924453301888865, 0.9605996873184177, 0.9119446634782491, 0.43530765975414754, 0.20556195043945855, 0.10882691493853688, 0.060459397188076046, 0.12091879437615209, 0.060459397188076046, 0.9300540898943018, 0.18544007469329715, 0.7417602987731886, 0.9257889848881679, 0.9683586407642997, 0.41383175294689417, 0.5517756705958589, 0.9149293164625534, 0.08141320188861705, 0.9919927903112632, 0.9538686413902753, 0.2496313012899243, 0.6989676436117881, 0.9309504608107264, 0.955457618433614, 0.0569101058567717, 0.16598780874891744, 0.03794007057118113, 0.6829212702812604, 0.052167597035374054, 0.9320633194290512, 0.9452613097514719, 0.6278693516145224, 0.8889511014217395, 0.8870320014261959, 0.9671979794142057, 0.9046927608864099, 0.9704777560001091, 0.8292865239167572, 0.16219577099455026, 0.8001658035731147, 0.03243915419891005, 0.9790996339539265, 0.6995651757042088, 0.94214597776932, 0.9638589524074137, 0.3473752229363195, 0.10855475716759985, 0.2171095143351997, 0.13750269241229315, 0.1230287247899465, 0.007236983811173324, 0.050658886678213264, 0.9617759110462349, 0.896091134884012, 0.9565646381885915, 0.8073456952986788, 0.7968768918761016, 0.9390116747723389, 0.8201721124634289, 0.9878086985666873, 0.04203803131027601, 0.8351555553641501, 0.1205090230894579, 0.9619016322455135, 0.9917489776177558, 0.12697207829761917, 0.04617166483549787, 0.36552567994769153, 0.12312443956132767, 0.08849569093470426, 0.007695277472582979, 0.028857290522186173, 0.023085832417748937, 0.09234332967099575, 0.015390554945165958, 0.07502895535768404, 0.005771458104437234, 0.9028724254569482, 0.03761968439403951, 0.9243874583304724, 0.2738098660209138, 0.06845246650522845, 0.5818459652944418, 0.06845246650522845, 0.03422623325261422, 0.8549004051640352, 0.9371989119490205, 0.8356543271954383, 0.3571206145089835, 0.5654409729725572, 0.059520102418163925, 0.9289142791380288, 0.9269701554355153, 0.8051695098356535, 0.9028890516975326, 0.1543613020586174, 0.07350538193267496, 0.08085592012594245, 0.12495914928554742, 0.1323096874788149, 0.4263312152095147, 0.9694781723263769, 0.9022297334551026, 0.8400746849226405, 0.9480133572024794, 0.912893531333324, 0.9236808222593521, 0.9014899933534115, 0.9662975077666678, 0.030040337029015582, 0.0020026891352677052, 0.7786710842103549, 0.1758289544991124, 0.2781239108762053, 0.703489892216284, 0.21591619326446862, 0.04875526944681549, 0.027860153969608854, 0.034825192462011066, 0.6616786567782103, 0.1359521494795488, 0.6117846726579697, 0.0679760747397744, 0.1359521494795488, 0.9917933833631271, 0.03765653237000532, 0.0941413309250133, 0.12238373020251729, 0.0658989316475093, 0.15533319602627194, 0.01882826618500266, 0.04236359891625598, 0.07531306474001064, 0.16474732911877327, 0.051777732008757314, 0.03765653237000532, 0.051777732008757314, 0.0800201312862613, 0.004707066546250665, 0.12342786069017836, 0.0854500574008927, 0.1519112131571426, 0.10443895904553553, 0.1519112131571426, 0.3797780328928565, 0.08470572904751288, 0.8470572904751288, 0.8523153623649695, 0.917887153914258, 0.905866073678854, 0.8168076051733475, 0.007260512045985311, 0.061714352390875145, 0.0036302560229926556, 0.0036302560229926556, 0.07986563250583842, 0.018151280114963277, 0.14049518138843603, 0.07663373530278328, 0.7791096422449634, 0.8172100446591168, 0.8107660606168524, 0.9685158981238797, 0.9939094442529259, 0.8384013407909099, 0.9236639724617575, 0.951862282893226, 0.9742323272249074, 0.8713884309127963, 0.08042552754167948, 0.8846808029584742, 0.2389254079552219, 0.7167762238656658, 0.9879428983007098, 0.036933700981290875, 0.9479649918531324, 0.27860650676073456, 0.13930325338036728, 0.5572130135214691, 0.9145059140317774, 0.7445205469338979, 0.8522990404124845, 0.8004572626322096, 0.8162371073024104, 0.8596164857431965, 0.9638659387169148, 0.9496599376904464, 0.9904076082835194, 0.9181494771425652, 0.6568297750375744, 0.8613156972203762, 0.8824676287254812, 0.906624025635226, 0.9771015754974549, 0.9028075949229332, 0.8240386275354066, 0.12395267005544772, 0.38071177231316083, 0.07083009717454156, 0.12395267005544772, 0.29217415084498394, 0.9207947977288867, 0.5677946736999467, 0.8732404577212803, 0.894024926597764, 0.6520468151747277, 0.2897985845221012, 0.024149882043508434, 0.14994998516968036, 0.824724918433242, 0.7628602821658799, 0.961652033649788, 0.22995536307422781, 0.043801021537948154, 0.010950255384487038, 0.07665178769140926, 0.032850766153461115, 0.09855229846038334, 0.5037117476864038, 0.25654308567629397, 0.34205744756839196, 0.0171028723784196, 0.36771175613602136, 0.9335919621763019, 0.874822645474645, 0.8554110382133392, 0.06580084909333378, 0.06580084909333378, 0.028457239809476936, 0.9390889137127388, 0.9832534859909379, 0.9670861841060622, 0.958846851505445, 0.7924408850409, 0.11787520298985653, 0.848701461526967, 0.9241986235781802, 0.9231130931591925, 0.06366297194201329, 0.8780468919840115, 0.782245027570347, 0.9248927168070243, 0.044114553399551365, 0.9264056213905786, 0.7214695364648379, 0.9547150046352377, 0.8511414106398753, 0.8717870073985357, 0.9049860018147109, 0.17490720804700566, 0.7870824362115255, 0.967217529351796, 0.01639351744664061, 0.2686323722918396, 0.7099569839141476, 0.7663452981887823, 0.18214247481522672, 0.784613737665592, 0.028021919202342573, 0.8043061787907494, 0.9016657954057341, 0.9365635261047017, 0.2963259050514854, 0.5276046602136204, 0.07227461098816718, 0.09395699428461732, 0.9122244514269358, 0.56298075807181, 0.20440781752662218, 0.20440781752662218, 0.5848334779233912, 0.005677994931295061, 0.8897325334122536, 0.18371341663478552, 0.6246256165582708, 0.1469707333078284, 0.9878096982005371, 0.9558915588039061, 0.834079822250784, 0.9356788887029698, 0.8735354106633981, 0.9547216746417463, 0.8850383630518132, 0.8975628273234613, 0.966648333483356, 0.08872963616624766, 0.7985667254962289, 0.08872963616624766, 0.15756847236648155, 0.031513694473296314, 0.6775444311758707, 0.09454108341988894, 0.015756847236648157, 0.015756847236648157, 0.9862205234690172, 0.87484765690542, 0.04860264760585667, 0.8003416621298061, 0.3648200811959671, 0.6123765648646591, 0.938765462096686, 0.9491573899985319, 0.047840594253958264, 0.8881060283667536, 0.23004387071247623, 0.2875548383905953, 0.21566612879294647, 0.08626645151717859, 0.15815516111482741, 0.8899667813875963, 0.0711973425110077, 0.33491229733637334, 0.653078979805928, 0.1928265755848872, 0.7713063023395488, 0.8566416927187834, 0.7787775855413185, 0.1492346212519688, 0.06218109218832033, 0.6839920140715237, 0.0746173106259844, 0.8935184816394611, 0.8697434725376298, 0.8284858682636717, 0.8673149378631709, 0.11210175234058042, 0.03880445273327784, 0.6726105140434825, 0.07760890546655567, 0.004311605859253093, 0.08623211718506187, 0.004311605859253093, 0.06321360715069897, 0.07901700893837371, 0.1422306160890727, 0.616332669719315, 0.07901700893837371, 0.8288467837328083, 0.8494064204825268, 0.017264358139888757, 0.13120912186315456, 0.9928090326756708, 0.9749424460466835, 0.953164140118441, 0.07307642491137702, 0.13153756484047863, 0.12666580317972018, 0.11692227985820323, 0.375125647878402, 0.1364093265012371, 0.034102331625309276, 0.5704222096711329, 0.028610456750707936, 0.1358996695658627, 0.218154732724148, 0.16451012631657064, 0.014305228375353968, 0.40769900869758813, 0.028610456750707936, 0.2113265489261195, 0.7748640127291049, 0.03431973045450808, 0.926632722271718, 0.9534269014863624, 0.035978373640994814, 0.22057323137487161, 0.08822929254994864, 0.04411464627497432, 0.026468787764984594, 0.6176050478496405, 0.9832662779472278, 0.895177127690705, 0.8923887801907202, 0.9280029045124539, 0.9753674358525781, 0.7254325030415711, 0.14508650060831424, 0.007302605312337506, 0.5294388851444691, 0.12049298765356885, 0.03651302656168753, 0.03651302656168753, 0.054769539842531294, 0.02555911859318127, 0.003651302656168753, 0.08032865843571256, 0.010953907968506258, 0.0620721451548688, 0.003651302656168753, 0.010953907968506258, 0.021907815937012517, 0.8109621021684411, 0.8743602311169274, 0.9334028752383265, 0.3518640098832517, 0.5917712893491052, 0.04798145589317069, 0.9163885016781025, 0.8891010258238478, 0.8883262256005101, 0.9762133904672154, 0.9724803218437803, 0.9672461726740028, 0.8704849262897828, 0.9515667560320556, 0.9696141555329005, 0.97641855522977, 0.8291672535679551, 0.3098963198868177, 0.1126895708679337, 0.5352754616226851, 0.12590037609158025, 0.8393358406105351, 0.9289499750166118, 0.9458706952730573, 0.9576141129455187, 0.003035226982394671, 0.012140907929578684, 0.012140907929578684, 0.010623294438381349, 0.0015176134911973355, 0.9626103026073463, 0.9188084418808659, 0.9459160285826015, 0.9392653601190023, 0.8538193013759658, 0.03222175785660281, 0.41888285213583654, 0.021481171904401873, 0.5262887116578459, 0.36673140968575296, 0.6206223856220435, 0.8590804763537675, 0.11714733768460465, 0.9567613379580763, 0.8611054815650901, 0.7375194750240283, 0.9359348190788365, 0.05923638095435674, 0.8935118926934379, 0.03722966219555991, 0.9364231864186385, 0.02343498487776823, 0.5119642850220136, 0.10275339523329147, 0.01261883801110597, 0.1622422029999339, 0.10635877752217889, 0.01261883801110597, 0.00540807343333113, 0.01081614686666226, 0.00540807343333113, 0.00180269114444371, 0.01081614686666226, 0.00180269114444371, 0.01081614686666226, 0.00540807343333113, 0.00360538228888742, 0.01442152915554968, 0.2069278532472052, 0.7449402716899387, 0.8145359268535722, 0.8415110717537334, 0.08589701274277359, 0.8589701274277359, 0.03730770040962533, 0.12125002633128235, 0.391730854301066, 0.14923080163850133, 0.06528847571684433, 0.14923080163850133, 0.032644237858422166, 0.032644237858422166, 0.013990387653609502, 0.6488349737946109, 0.21305028990270805, 0.08715693677838057, 0.03873641634594692, 0.9358611715514392, 0.8008715740136387, 0.975775191313605, 0.16582624464665185, 0.23215674250531262, 0.03316524892933037, 0.03316524892933037, 0.4974787339399556, 0.9652626139779068, 0.9355154295662128, 0.03520099972491521, 0.9504269925727107, 0.04455652973223483, 0.21873205504915283, 0.48607123344256187, 0.05265771695627754, 0.016202374448085394, 0.016202374448085394, 0.15392255725681125, 0.004050593612021348, 0.7963596180010939, 0.9304765571720296, 0.130816170035651, 0.8055522049563771, 0.05508049264658989, 0.09124641128534054, 0.7299712902827243, 0.14599425805654487, 0.5248167231852606, 0.03117723108031251, 0.02078482072020834, 0.01039241036010417, 0.1039241036010417, 0.08313928288083336, 0.1039241036010417, 0.01039241036010417, 0.1039241036010417, 0.9457614550560531, 0.9922343133038294, 0.9517969173753305, 0.9245704007102834, 0.9474245836431118, 0.9487077928662595, 0.9464362294596748, 0.03450548753238397, 0.014788066085307418, 0.9618567496375667, 0.9333159360586999, 0.6576908018449079, 0.30144161751224946, 0.8233100644874481, 0.9168622289881386, 0.7577116816829598, 0.01593728575669708, 0.9562371454018248, 0.021921758238579146, 0.8695630767969728, 0.04384351647715829, 0.05480439559644786, 0.003653626373096524, 0.8790840762227369, 0.26483680003568616, 0.07945104001070585, 0.6488501600874311, 0.9387123928828631, 0.9597034250815556, 0.981136110446145, 0.9066048753383542, 0.9046042450677042, 0.975234465133095, 0.967729836452453, 0.9094240888249937, 0.9800730972407913, 0.38102129964630754, 0.4776983458252214, 0.06255573576282661, 0.07392950590152236, 0.9019195191624921, 0.351071158873896, 0.6258225006012929, 0.9751818813398733, 0.9336643691641653, 0.9978935158456882, 0.9021715576788456, 0.8952781583865961, 0.9554638734468257, 0.8688211233799159, 0.9065328632975606, 0.08887577091152554, 0.9941607659584418, 0.9488831625094893, 0.9814285777759721, 0.05949769103981328, 0.8924653655971992, 0.5082561761433325, 0.898235305710795, 0.11589792434927111, 0.8402599515322156, 0.3599857696331776, 0.08266339895280374, 0.018665928795794394, 0.16799335916214952, 0.0053331225130841126, 0.2639895643976636, 0.007999683769626169, 0.018665928795794394, 0.0666640314135514, 0.0026665612565420563, 0.0026665612565420563, 0.0026665612565420563, 0.06447251751071754, 0.7552494908398342, 0.009210359644388221, 0.15657611395459978, 0.3058249647787725, 0.6586999241388947, 0.23435613857254306, 0.7365478640851354, 0.9826843946804089, 0.909539062799625, 0.848723727164377, 0.5422967689376845, 0.07394955940059333, 0.3450979438694356, 0.8289798476110785, 0.13816330793517972, 0.9043884933288409, 0.7588906932251032, 0.07809702541077665, 0.7809702541077665, 0.9127365153615882, 0.4727397685429857, 0.0004190955394884625, 0.4299920235151625, 0.01508743942158465, 0.04651960488321934, 0.03478492977754239, 0.9911618587510544, 0.9956748392569444, 0.0988590151176814, 0.8897311360591327, 0.9870513265105242, 0.9113036510748609, 0.822100666259604, 0.9816432105776094, 0.91866175621506, 0.9216670425989304, 0.0053663987938439815, 0.9713181816857606, 0.016099196381531945, 0.0053663987938439815, 0.9848918908182448, 0.9680135570345217, 0.9648448813708297, 0.8577300294002534, 0.6716056504815837, 0.8893763318136647, 0.9806614061880301, 0.9321093856020223, 0.858325734154561, 0.8920220716193021, 0.17147818331653764, 0.8002315221438423, 0.9298069326636798, 0.23177306033933487, 0.6953191810180046, 0.9597679944821315, 0.8921272340058111, 0.2516707890255031, 0.6920946698201335, 0.7923165143202742, 0.8878414444413164, 0.9160300712075174, 0.9325103536194458, 0.8387506154275792, 0.2618442784853277, 0.49875100663871946, 0.14962530199161583, 0.07481265099580792, 0.9538645124007376, 0.9375520991074476, 0.7146112113894973, 0.8131814431199658, 0.9190542387087208, 0.689054069842015, 0.07327136217760079, 0.8792563461312095, 0.19721177307091634, 0.6902412057482071, 0.004531803902391401, 0.9879332507213255, 0.9617500274974119, 0.9508620972487147, 0.8953030839538648, 0.8800683989783707, 0.8908362676024032, 0.952110574415861, 0.7735413057991577, 0.836456094997772, 0.8821642440170728, 0.14974767759003063, 0.29949535518006126, 0.5241168715651072, 0.9450213737979407, 0.9497035544274585, 0.9670495540656754, 0.9717791131295789, 0.9284799953809476, 0.8785901024729258, 0.9254153348099234, 0.9548177867076502, 0.9229781864491949, 0.9890919498584464, 0.7116613347607893, 0.2754818070041765, 0.9194900810302546, 0.8580169516292061, 0.8239995176717291, 0.9769423714639299, 0.9656043433740863, 0.8529022734585324, 0.9216857800348435, 0.8579891835848686, 0.7450004494457027], \"Term\": [\"1\", \"1\", \"100\", \"100\", \"11\", \"14\", \"17\", \"19\", \"2\", \"2\", \"2\", \"2016\", \"2020\", \"2020\", \"2020\", \"2020\", \"2021\", \"2021\", \"3\", \"3\", \"3\", \"4\", \"4\", \"able\", \"absolute\", \"absolutely\", \"account\", \"ad\", \"ad\", \"ad\", \"add\", \"add\", \"added\", \"admire\", \"adorable\", \"af\", \"age\", \"ago\", \"ago\", \"agree\", \"ahhhh\", \"ain\", \"air\", \"all\", \"almost\", \"almost\", \"almost\", \"alone\", \"already\", \"already\", \"already\", \"already\", \"already\", \"already\", \"also\", \"also\", \"also\", \"also\", \"also\", \"also\", \"always\", \"always\", \"always\", \"always\", \"always\", \"amazing\", \"amazing\", \"amazing\", \"amazing\", \"amount\", \"angel\", \"annoying\", \"another\", \"anymore\", \"anyone\", \"anyone\", \"anyone\", \"anyone\", \"anyone\", \"anyone\", \"anything\", \"anything\", \"anything\", \"anyway\", \"anyway\", \"apart\", \"appreciated\", \"appreciates\", \"arent\", \"around\", \"around\", \"asf\", \"ask\", \"asked\", \"asking\", \"attention\", \"aw\", \"away\", \"away\", \"away\", \"awe\", \"awesome\", \"awful\", \"awhhh\", \"aww\", \"awww\", \"awww\", \"awwww\", \"awwwww\", \"b\", \"baby\", \"back\", \"back\", \"back\", \"back\", \"background\", \"bad\", \"bag\", \"baking\", \"baking\", \"bar\", \"bar\", \"barely\", \"beat\", \"beautiful\", \"beautiful\", \"beautiful\", \"beautiful\", \"beautiful\", \"beautiful\", \"beginning\", \"behind\", \"believe\", \"believe\", \"believe\", \"besides\", \"best\", \"best\", \"best\", \"better\", \"better\", \"better\", \"better\", \"better\", \"better\", \"better\", \"better\", \"beyond\", \"bf\", \"big\", \"big\", \"birthday\", \"bit\", \"bit\", \"black\", \"black\", \"black\", \"bless\", \"bless\", \"bless\", \"blessed\", \"blessed\", \"blessed\", \"blessing\", \"blog\", \"blossom\", \"born\", \"bought\", \"bout\", \"bowl\", \"box\", \"boy\", \"boy\", \"bracelet\", \"bring\", \"bringing\", \"brings\", \"bro\", \"broke\", \"brought\", \"bruh\", \"btw\", \"btw\", \"btw\", \"buti\", \"butter\", \"button\", \"bye\", \"c\", \"cake\", \"call\", \"called\", \"calling\", \"came\", \"came\", \"camera\", \"can\", \"can\", \"can\", \"can\", \"can\", \"can\", \"can\", \"can\", \"can\", \"can\", \"candy\", \"cant\", \"cant\", \"cant\", \"cant\", \"cap\", \"cap\", \"capture\", \"car\", \"car\", \"car\", \"car\", \"card\", \"care\", \"care\", \"care\", \"care\", \"care\", \"caring\", \"carry\", \"catch\", \"cause\", \"celebrate\", \"change\", \"changed\", \"channel\", \"channel\\u2764\\ufe0f\", \"check\", \"child\", \"chill\", \"christmas\", \"christmas\", \"christmas\", \"christmas\", \"christmas\", \"christmas\", \"christmas\", \"christmas\", \"christmas\", \"click\", \"close\", \"cold\", \"color\", \"come\", \"come\", \"come\", \"coming\", \"comment\", \"comment\", \"comment\", \"comment\", \"completely\", \"congrats\", \"cooky\", \"cooky\", \"cooky\", \"cooky\", \"copy\", \"cost\", \"couldn\", \"couple\", \"couple\", \"couple\", \"couple\", \"couple\", \"covid\", \"covid\", \"covid19\", \"cozy\", \"crap\", \"crazy\", \"crazy\", \"creasing\", \"create\", \"creator\", \"cross\", \"cry\", \"cry\", \"cuarto\", \"cut\", \"cute\", \"cute\", \"cute\", \"cuteee\", \"cuteeee\", \"cutest\", \"cutest\", \"cuz\", \"d\", \"da\", \"dad\", \"dad\", \"daily\", \"damm\", \"damn\", \"damn\", \"dang\", \"day\", \"day\", \"day\", \"day\", \"day\", \"day\", \"day\", \"day\", \"day\", \"day\", \"day\", \"de\", \"december\", \"decided\", \"decorating\", \"definitely\", \"delicious\", \"depressed\", \"deserve\", \"deserves\", \"detail\", \"didn\", \"didnt\", \"didnt\", \"died\", \"different\", \"different\", \"different\", \"different\", \"different\", \"disliked\", \"dm\", \"doesn\", \"doesnt\", \"doesnt\", \"doesnt\", \"don\", \"done\", \"dont\", \"dont\", \"dont\", \"dont\", \"dont\", \"dont\", \"door\", \"dose\", \"dream\", \"dream\", \"drink\", \"drink\", \"drop\", \"dude\", \"dumb\", \"e\", \"early\", \"early\", \"easy\", \"easy\", \"eating\", \"eeeee\", \"else\", \"emotional\", \"empty\", \"end\", \"energy\", \"english\", \"enjoy\", \"enjoy\", \"enjoyed\", \"enough\", \"enough\", \"entire\", \"especially\", \"etc\", \"eve\", \"eve\", \"even\", \"even\", \"even\", \"even\", \"even\", \"even\", \"even\", \"even\", \"even\", \"ever\", \"ever\", \"ever\", \"every\", \"every\", \"every\", \"every\", \"every\", \"every\", \"every\", \"everybody\", \"everyday\", \"everyday\", \"everyone\", \"everyone\", \"everyone\", \"everyone\", \"everyone\", \"everyone\", \"everything\", \"everything\", \"everything\", \"everything\", \"everything\", \"everytime\", \"everywhere\", \"exact\", \"exactly\", \"excited\", \"excited\", \"excited\", \"excited\", \"expensive\", \"explain\", \"eye\", \"f\", \"face\", \"face\", \"face\", \"facial\", \"fact\", \"fake\", \"fam\", \"family\", \"family\", \"family\", \"family\", \"family\", \"family\", \"family\", \"fan\", \"far\", \"far\", \"far\", \"far\", \"fast\", \"fast\", \"fave\", \"favorite\", \"favourite\", \"feel\", \"feel\", \"feel\", \"feel\", \"feel\", \"feeling\", \"feeling\", \"felt\", \"female\", \"fill\", \"finally\", \"finally\", \"find\", \"find\", \"find\", \"fine\", \"finished\", \"finished\", \"fire\", \"first\", \"first\", \"first\", \"first\", \"first\", \"first\", \"first\", \"floor\", \"flower\", \"following\", \"food\", \"forever\", \"forever\", \"forget\", \"forgot\", \"forward\", \"forward\", \"forward\", \"fr\", \"freakin\", \"freakin\", \"freaking\", \"frickin\", \"front\", \"fuck\", \"fucking\", \"full\", \"fun\", \"fun\", \"fun\", \"funniest\", \"funny\", \"funny\", \"future\", \"fyi\", \"g\", \"gasp\", \"gave\", \"get\", \"get\", \"get\", \"get\", \"get\", \"get\", \"get\", \"get\", \"get\", \"get\", \"get\", \"get\", \"get\", \"get\", \"get\", \"get\", \"getting\", \"getting\", \"getting\", \"getting\", \"gift\", \"gift\", \"gift\", \"gift\", \"gilbert\", \"girl\", \"girl\", \"girl\", \"girl\", \"give\", \"give\", \"give\", \"give\", \"give\", \"give\", \"give\", \"give\", \"given\", \"giving\", \"giving\", \"glad\", \"glad\", \"go\", \"goal\", \"god\", \"god\", \"going\", \"going\", \"going\", \"going\", \"going\", \"going\", \"gold\", \"gon\", \"gone\", \"gonzalez\", \"good\", \"good\", \"good\", \"gorgeous\", \"gosh\", \"got\", \"got\", \"got\", \"got\", \"got\", \"gotten\", \"grand\", \"grateful\", \"great\", \"great\", \"great\", \"great\", \"great\", \"grow\", \"grown\", \"grown\", \"guess\", \"guy\", \"guy\", \"guy\", \"guy\", \"guy\", \"guy\", \"guy\", \"guy\", \"guy\", \"guy\", \"guy\", \"h\", \"hacked\", \"haha\", \"hahaha\", \"hair\", \"half\", \"hand\", \"hang\", \"happen\", \"happened\", \"happiness\", \"happy\", \"happy\", \"happy\", \"happy\", \"happy\", \"happy\", \"hard\", \"hard\", \"hardest\", \"hate\", \"hate\", \"hate\", \"hating\", \"haven\", \"havent\", \"he\", \"head\", \"health\", \"hear\", \"heart\", \"heart\", \"heart\", \"heart\", \"heaven\", \"heck\", \"hell\", \"hella\", \"hello\", \"hello\", \"hello\", \"help\", \"help\", \"help\", \"helped\", \"hey\", \"hey\", \"hey\", \"heyyy\", \"hi\", \"hi\", \"hiding\", \"hii\", \"hill\", \"holding\", \"holiday\", \"holiday\", \"holy\", \"home\", \"home\", \"home\", \"honestly\", \"honestly\", \"honestly\", \"honestly\", \"hope\", \"hope\", \"hope\", \"hope\", \"hope\", \"hope\", \"hoping\", \"hot\", \"hour\", \"hour\", \"house\", \"house\", \"huge\", \"human\", \"hurt\", \"husband\", \"i\", \"idea\", \"idea\", \"idk\", \"idk\", \"idk\", \"idk\", \"idk\", \"ik\", \"ill\", \"ill\", \"ily\", \"im\", \"im\", \"im\", \"im\", \"im\", \"im\", \"im\", \"im\", \"im\", \"ima\", \"imagine\", \"including\", \"inspiration\", \"inspired\", \"instagram\", \"instead\", \"intro\", \"iphone\", \"iphone\", \"isn\", \"isnt\", \"isnt\", \"it\", \"it\", \"it\", \"ive\", \"ive\", \"ive\", \"ive\", \"jacket\", \"jacob\", \"jacob\", \"jacob\", \"jacob\", \"jacob\", \"jacob\", \"jacob\", \"jake\", \"jake\", \"jake\", \"jake\", \"jake\", \"jakes\", \"jealous\", \"jesus\", \"jk\", \"just\", \"just\", \"just\", \"just\", \"just\", \"just\", \"just\", \"just\", \"just\", \"just\", \"just\", \"just\", \"just\", \"just\", \"just\", \"just\", \"just\", \"keep\", \"keep\", \"keeper\", \"keeping\", \"kept\", \"kid\", \"kid\", \"kinda\", \"kissed\", \"knew\", \"know\", \"know\", \"know\", \"know\", \"know\", \"know\", \"know\", \"know\", \"knowing\", \"l\", \"la\", \"last\", \"last\", \"last\", \"last\", \"late\", \"late\", \"late\", \"laugh\", \"laugh\", \"laugh\", \"laughing\", \"lay\", \"le\", \"le\", \"least\", \"least\", \"leave\", \"leave\", \"leaving\", \"leaving\", \"left\", \"left\", \"legit\", \"let\", \"let\", \"let\", \"let\", \"let\", \"let\", \"life\", \"life\", \"life\", \"life\", \"life\", \"light\", \"light\", \"like\", \"like\", \"like\", \"like\", \"like\", \"like\", \"like\", \"like\", \"line\", \"listen\", \"literally\", \"literally\", \"little\", \"little\", \"little\", \"little\", \"little\", \"little\", \"live\", \"live\", \"ll\", \"ll\", \"ll\", \"ll\", \"lmao\", \"lmaoo\", \"lmaooo\", \"lockdown\", \"lol\", \"lol\", \"lol\", \"lol\", \"lol\", \"lol\", \"lonely\", \"long\", \"long\", \"long\", \"long\", \"look\", \"look\", \"look\", \"look\", \"look\", \"look\", \"look\", \"look\", \"look\", \"look\", \"looked\", \"lookin\", \"looking\", \"looking\", \"looking\", \"lost\", \"lot\", \"lot\", \"lot\", \"lot\", \"love\", \"love\", \"love\", \"love\", \"love\", \"love\", \"love\", \"love\", \"love\", \"love\", \"love\", \"love\", \"love\", \"love\", \"love\", \"love\", \"loved\", \"loved\", \"loved\", \"loved\", \"loved\", \"lovely\", \"lucky\", \"luv\", \"ly\", \"m\", \"m\", \"ma\", \"made\", \"made\", \"made\", \"magnificent\", \"make\", \"make\", \"make\", \"make\", \"make\", \"make\", \"make\", \"make\", \"make\", \"makeup\", \"making\", \"making\", \"making\", \"making\", \"mama\", \"mama\", \"man\", \"man\", \"manifesting\", \"many\", \"married\", \"marry\", \"marry\", \"martinez\", \"mary\", \"mask\", \"matter\", \"matter\", \"may\", \"maybe\", \"mean\", \"mean\", \"mean\", \"mean\", \"meant\", \"meant\", \"medium\", \"melted\", \"men\", \"mental\", \"mercy\", \"merry\", \"merry\", \"mess\", \"message\", \"might\", \"milk\", \"million\", \"min\", \"min\", \"min\", \"mind\", \"minute\", \"minute\", \"minute\", \"minute\", \"miracle\", \"miss\", \"mom\", \"mom\", \"moment\", \"moment\", \"moment\", \"moment\", \"momma\", \"mommy\", \"money\", \"money\", \"money\", \"money\", \"mood\", \"morning\", \"move\", \"mr\", \"much\", \"much\", \"much\", \"much\", \"much\", \"much\", \"much\", \"much\", \"much\", \"much\", \"much\", \"mum\", \"music\", \"must\", \"must\", \"n\", \"na\", \"nah\", \"nail\", \"name\", \"nat\", \"nat\", \"nat\", \"nat\", \"nat\", \"nat\", \"nat\", \"nat\", \"nat\", \"nat\", \"nd\", \"need\", \"need\", \"need\", \"need\", \"need\", \"need\", \"needed\", \"never\", \"never\", \"never\", \"never\", \"new\", \"new\", \"new\", \"new\", \"new\", \"news\", \"next\", \"ngl\", \"nice\", \"nice\", \"nice\", \"nice\", \"nice\", \"night\", \"night\", \"night\", \"nobody\", \"none\", \"noooo\", \"notice\", \"notice\", \"noticed\", \"notification\", \"now\", \"now\", \"now\", \"now\", \"now\", \"now\", \"now\", \"now\", \"number\", \"o\", \"obsessed\", \"obviously\", \"ofc\", \"oh\", \"oh\", \"oh\", \"ohh\", \"ok\", \"ok\", \"okay\", \"okay\", \"old\", \"old\", \"old\", \"older\", \"omg\", \"omg\", \"omg\", \"omg\", \"omgg\", \"omggg\", \"omgosh\", \"one\", \"one\", \"one\", \"one\", \"one\", \"one\", \"one\", \"one\", \"one\", \"one\", \"one\", \"one\", \"one\", \"one\", \"one\", \"opinion\", \"others\", \"ours\", \"out\", \"outside\", \"p\", \"paint\", \"pant\", \"paper\", \"parent\", \"parent\", \"part\", \"past\", \"past\", \"paul\", \"people\", \"people\", \"people\", \"people\", \"people\", \"people\", \"perfect\", \"perfect\", \"perfect\", \"perfection\", \"perfectly\", \"person\", \"person\", \"person\", \"person\", \"person\", \"person\", \"personal\", \"personally\", \"personally\", \"philippine\", \"phone\", \"picked\", \"picked\", \"picture\", \"picture\", \"piece\", \"plan\", \"play\", \"play\", \"playing\", \"playlist\", \"please\", \"please\", \"please\", \"please\", \"please\", \"plz\", \"point\", \"poor\", \"possible\", \"posted\", \"ppl\", \"prefer\", \"present\", \"pressed\", \"pretty\", \"pretty\", \"pretty\", \"probably\", \"problem\", \"proud\", \"pure\", \"put\", \"put\", \"put\", \"put\", \"put\", \"put\", \"put\", \"putting\", \"que\", \"queen\", \"question\", \"quit\", \"r\", \"raw\", \"re\", \"reaction\", \"reaction\", \"reaction\", \"read\", \"real\", \"really\", \"really\", \"really\", \"really\", \"really\", \"really\", \"really\", \"really\", \"really\", \"really\", \"really\", \"really\", \"reason\", \"reason\", \"received\", \"recipe\", \"recipe\", \"recipe\", \"recipe\", \"recipe\", \"regular\", \"relationship\", \"relaxing\", \"remember\", \"remember\", \"remember\", \"respond\", \"rest\", \"rhyme\", \"rich\", \"right\", \"right\", \"right\", \"right\", \"right\", \"right\", \"ring\", \"rn\", \"role\", \"room\", \"routine\", \"ruin\", \"run\", \"s\", \"s\", \"s\", \"sad\", \"sad\", \"safe\", \"safe\", \"said\", \"said\", \"said\", \"said\", \"said\", \"santa\", \"santa\", \"santa\", \"santa\", \"saw\", \"say\", \"say\", \"say\", \"say\", \"say\", \"say\", \"say\", \"say\", \"say\", \"say\", \"say\", \"say\", \"say\", \"say\", \"saying\", \"saying\", \"saying\", \"saying\", \"saying\", \"saying\", \"school\", \"school\", \"scream\", \"screen\", \"secret\", \"see\", \"see\", \"see\", \"see\", \"see\", \"see\", \"see\", \"seeing\", \"seeing\", \"seeing\", \"seek\", \"seem\", \"seems\", \"seen\", \"self\", \"send\", \"sense\", \"seriously\", \"shame\", \"share\", \"share\", \"sharing\", \"sharing\", \"she\", \"shes\", \"shes\", \"shit\", \"shit\", \"shit\", \"shocked\", \"shoe\", \"shook\", \"shoot\", \"shot\", \"shouldn\", \"shout\", \"shoutout\", \"show\", \"showing\", \"shut\", \"shy\", \"si\", \"sibling\", \"side\", \"simp\", \"simple\", \"since\", \"since\", \"since\", \"since\", \"since\", \"sister\", \"sit\", \"slap\", \"sm\", \"small\", \"small\", \"small\", \"smile\", \"smile\", \"smiling\", \"social\", \"someone\", \"someone\", \"someone\", \"someone\", \"someone\", \"someone\", \"someone\", \"something\", \"something\", \"something\", \"something\", \"sometimes\", \"somewhere\", \"soo\", \"soo\", \"soo\", \"soon\", \"soon\", \"sooo\", \"soooo\", \"sooooo\", \"sooooooo\", \"sorry\", \"sorry\", \"soul\", \"sound\", \"sound\", \"spanish\", \"speak\", \"spell\", \"spend\", \"spend\", \"spending\", \"spirit\", \"spotify\", \"starbucks\", \"stared\", \"staring\", \"staring\", \"start\", \"start\", \"started\", \"started\", \"starting\", \"stay\", \"stay\", \"stay\", \"staying\", \"stfu\", \"stick\", \"still\", \"still\", \"still\", \"still\", \"stock\", \"stocking\", \"stop\", \"stop\", \"stop\", \"stop\", \"stranger\", \"stuff\", \"stuff\", \"stuff\", \"stunning\", \"stupid\", \"sub\", \"subscribe\", \"subscribed\", \"subscriber\", \"success\", \"sugar\", \"super\", \"support\", \"support\", \"support\", \"sure\", \"sure\", \"sure\", \"sure\", \"sure\", \"sure\", \"surprised\", \"swear\", \"swear\", \"swearing\", \"sweet\", \"sweet\", \"sweetest\", \"t\", \"t\", \"tag\", \"take\", \"take\", \"take\", \"take\", \"take\", \"taking\", \"taking\", \"talk\", \"talk\", \"talking\", \"talking\", \"taste\", \"taylor\", \"tell\", \"tell\", \"tell\", \"tell\", \"telling\", \"text\", \"tf\", \"tg\", \"thank\", \"thank\", \"thank\", \"thank\", \"thank\", \"thank\", \"thank\", \"thanks\", \"thanks\", \"thanks\", \"thanks\", \"thanks\", \"thankyou\", \"that\", \"that\", \"that\", \"thats\", \"they\", \"theyre\", \"thing\", \"thing\", \"thing\", \"thing\", \"thing\", \"thing\", \"thing\", \"thingy\", \"think\", \"think\", \"think\", \"think\", \"think\", \"think\", \"think\", \"thinking\", \"thinking\", \"tho\", \"tho\", \"though\", \"though\", \"thought\", \"thought\", \"thought\", \"thought\", \"thought\", \"thoughtful\", \"three\", \"thumb\", \"tik\", \"tiktok\", \"till\", \"till\", \"time\", \"time\", \"time\", \"time\", \"time\", \"time\", \"time\", \"time\", \"time\", \"time\", \"time\", \"time\", \"time\", \"time\", \"tiny\", \"tired\", \"title\", \"together\", \"together\", \"together\", \"tok\", \"tomorrow\", \"ton\", \"took\", \"top\", \"totally\", \"tradition\", \"tree\", \"true\", \"truly\", \"truth\", \"try\", \"try\", \"try\", \"trying\", \"trying\", \"twin\", \"type\", \"u\", \"u\", \"u\", \"u\", \"u\", \"u\", \"ugly\", \"understand\", \"unique\", \"upload\", \"uploaded\", \"ur\", \"ur\", \"ur\", \"ur\", \"use\", \"use\", \"used\", \"used\", \"usually\", \"vanessa\", \"vargas\", \"ve\", \"ve\", \"vibe\", \"vibe\", \"vid\", \"video\", \"video\", \"video\", \"video\", \"video\", \"video\", \"video\", \"video\", \"video\", \"video\", \"video\", \"video\", \"video\", \"video\", \"video\", \"video\", \"video\", \"vids\", \"vids\", \"virgo\", \"virus\", \"vlog\", \"vlog\", \"vlogmas\", \"vlogmas\", \"vlogmas\", \"vlogmas\", \"vlogmas\", \"vlogmas\", \"vlogmas\", \"vlogmas\", \"vlogmas\", \"vlogs\", \"vlogs\", \"vlogs\", \"vlogs\", \"voice\", \"w\", \"wait\", \"waiting\", \"waiting\", \"waiting\", \"waiting\", \"waiting\", \"walk\", \"walking\", \"wan\", \"wan\", \"want\", \"want\", \"want\", \"want\", \"want\", \"want\", \"want\", \"want\", \"wanting\", \"wasnt\", \"watch\", \"watch\", \"watch\", \"watched\", \"watched\", \"watched\", \"watching\", \"watching\", \"watching\", \"watching\", \"watching\", \"watching\", \"watching\", \"watching\", \"watching\", \"water\", \"way\", \"we\", \"wearing\", \"week\", \"weird\", \"well\", \"well\", \"well\", \"what\", \"whatever\", \"whats\", \"whats\", \"where\", \"white\", \"whitney\", \"whole\", \"whole\", \"will\", \"will\", \"will\", \"will\", \"will\", \"window\", \"wish\", \"wish\", \"wish\", \"wishing\", \"without\", \"woman\", \"won\", \"wonder\", \"wonderful\", \"wondering\", \"wont\", \"word\", \"work\", \"work\", \"work\", \"work\", \"working\", \"world\", \"world\", \"worry\", \"wouldn\", \"wow\", \"wrong\", \"wtf\", \"xmas\", \"xoxo\", \"xx\", \"xx\", \"y\", \"ya\", \"yall\", \"yay\", \"yay\", \"yazmin\", \"yea\", \"yeah\", \"yeah\", \"year\", \"year\", \"year\", \"year\", \"year\", \"year\", \"year\", \"year\", \"year\", \"year\", \"year\", \"year\", \"yes\", \"yes\", \"yes\", \"yes\", \"yet\", \"yet\", \"yo\", \"yo\", \"you\", \"young\", \"younger\", \"youre\", \"youre\", \"youre\", \"youtuber\", \"youtuber\", \"yr\", \"yt\", \"yummy\", \"yummy\", \"yup\", \"\\u2019\", \"\\u2019\", \"\\u2019\", \"\\u2019\", \"\\u2019\", \"\\u2019\", \"\\u201c\", \"\\u201d\", \"\\u263a\\ufe0f\", \"\\u263a\\ufe0f\", \"\\u2665\\ufe0f\", \"\\u2728\", \"\\u2763\\ufe0f\", \"\\u2764\", \"\\u2764\\u2764\", \"\\u2764\\u2764\\u2764\", \"\\u2764\\ufe0f\", \"\\u2764\\ufe0f\", \"\\u2764\\ufe0f\", \"\\u2764\\ufe0f\", \"\\u2764\\ufe0f\\u2764\\ufe0f\", \"\\u2764\\ufe0f\\u2764\\ufe0f\\u2764\\ufe0f\", \"\\u2764\\ufe0f\\u2764\\ufe0f\\u2764\\ufe0f\\u2764\\ufe0f\", \"\\u2764\\ufe0f\\ud83d\\ude0a\", \"\\ud83c\\udf39\", \"\\ud83c\\udf81\", \"\\ud83c\\udf84\", \"\\ud83c\\udf84\\ud83c\\udf81\", \"\\ud83d\\udc41\\ud83d\\udc44\\ud83d\\udc41\", \"\\ud83d\\udc93\", \"\\ud83d\\udc95\", \"\\ud83d\\udc95\", \"\\ud83d\\udc95\\ud83d\\udc95\", \"\\ud83d\\udc96\", \"\\ud83d\\udc96\", \"\\ud83d\\udc97\", \"\\ud83d\\udc9b\", \"\\ud83d\\udc9c\", \"\\ud83d\\udc9c\", \"\\ud83d\\udc9e\", \"\\ud83d\\udcaf\", \"\\ud83d\\udd25\", \"\\ud83d\\udd25\\ud83d\\udd25\", \"\\ud83d\\ude01\", \"\\ud83d\\ude02\", \"\\ud83d\\ude02\", \"\\ud83d\\ude02\", \"\\ud83d\\ude02\", \"\\ud83d\\ude02\\ud83d\\ude02\", \"\\ud83d\\ude02\\ud83d\\ude02\\ud83d\\ude02\", \"\\ud83d\\ude02\\ud83d\\ude02\\ud83d\\ude02\\ud83d\\ude02\", \"\\ud83d\\ude02\\ud83d\\ude2d\", \"\\ud83d\\ude04\", \"\\ud83d\\ude05\", \"\\ud83d\\ude0a\", \"\\ud83d\\ude0a\", \"\\ud83d\\ude0c\", \"\\ud83d\\ude0c\", \"\\ud83d\\ude0d\", \"\\ud83d\\ude0d\", \"\\ud83d\\ude0d\\ud83d\\ude0d\", \"\\ud83d\\ude0d\\ud83d\\ude0d\\ud83d\\ude0d\", \"\\ud83d\\ude0d\\ud83d\\ude0d\\ud83d\\ude0d\\ud83d\\ude0d\", \"\\ud83d\\ude0f\", \"\\ud83d\\ude14\", \"\\ud83d\\ude18\", \"\\ud83d\\ude18\\ud83d\\udc96\", \"\\ud83d\\ude29\\ud83d\\ude29\", \"\\ud83d\\ude2c\", \"\\ud83d\\ude2d\", \"\\ud83d\\ude2d\", \"\\ud83d\\ude2d\", \"\\ud83d\\ude2d\\ud83d\\ude2d\", \"\\ud83d\\ude2d\\ud83d\\ude2d\\ud83d\\ude2d\", \"\\ud83d\\ude31\", \"\\ud83d\\ude3b\", \"\\ud83d\\ude44\", \"\\ud83d\\ude4c\", \"\\ud83e\\udd0d\", \"\\ud83e\\udd23\", \"\\ud83e\\udd23\\ud83e\\udd23\", \"\\ud83e\\udd29\", \"\\ud83e\\udd70\", \"\\ud83e\\udd70\", \"\\ud83e\\udd70\\ud83e\\udd70\", \"\\ud83e\\udd72\", \"\\ud83e\\udd73\", \"\\ud83e\\udd7a\", \"\\ud83e\\udd7a\\u2764\\ufe0f\", \"\\ud83e\\udd7a\\ud83d\\udc95\", \"\\ud83e\\udd7a\\ud83e\\udd7a\", \"\\ud83e\\udd7a\\ud83e\\udd7a\\u2764\\ufe0f\", \"\\ud83e\\udd7a\\ud83e\\udd7a\\ud83e\\udd7a\"]}, \"R\": 30, \"lambda.step\": 0.01, \"plot.opts\": {\"xlab\": \"PC1\", \"ylab\": \"PC2\"}, \"topic.order\": [16, 10, 17, 9, 11, 15, 25, 3, 21, 18, 2, 6, 14, 23, 1, 5, 13, 8, 22, 7, 4, 12, 24, 20, 19]};\n",
       "\n",
       "function LDAvis_load_lib(url, callback){\n",
       "  var s = document.createElement('script');\n",
       "  s.src = url;\n",
       "  s.async = true;\n",
       "  s.onreadystatechange = s.onload = callback;\n",
       "  s.onerror = function(){console.warn(\"failed to load library \" + url);};\n",
       "  document.getElementsByTagName(\"head\")[0].appendChild(s);\n",
       "}\n",
       "\n",
       "if(typeof(LDAvis) !== \"undefined\"){\n",
       "   // already loaded: just create the visualization\n",
       "   !function(LDAvis){\n",
       "       new LDAvis(\"#\" + \"ldavis_el383691402452947201609025754900\", ldavis_el383691402452947201609025754900_data);\n",
       "   }(LDAvis);\n",
       "}else if(typeof define === \"function\" && define.amd){\n",
       "   // require.js is available: use it to load d3/LDAvis\n",
       "   require.config({paths: {d3: \"https://d3js.org/d3.v5\"}});\n",
       "   require([\"d3\"], function(d3){\n",
       "      window.d3 = d3;\n",
       "      LDAvis_load_lib(\"https://cdn.jsdelivr.net/gh/bmabey/pyLDAvis/pyLDAvis/js/ldavis.v3.0.0.js\", function(){\n",
       "        new LDAvis(\"#\" + \"ldavis_el383691402452947201609025754900\", ldavis_el383691402452947201609025754900_data);\n",
       "      });\n",
       "    });\n",
       "}else{\n",
       "    // require.js not available: dynamically load d3 & LDAvis\n",
       "    LDAvis_load_lib(\"https://d3js.org/d3.v5.js\", function(){\n",
       "         LDAvis_load_lib(\"https://cdn.jsdelivr.net/gh/bmabey/pyLDAvis/pyLDAvis/js/ldavis.v3.0.0.js\", function(){\n",
       "                 new LDAvis(\"#\" + \"ldavis_el383691402452947201609025754900\", ldavis_el383691402452947201609025754900_data);\n",
       "            })\n",
       "         });\n",
       "}\n",
       "</script>"
      ],
      "text/plain": [
       "<IPython.core.display.HTML object>"
      ]
     },
     "execution_count": 37,
     "metadata": {},
     "output_type": "execute_result"
    }
   ],
   "source": [
    "import pyLDAvis.gensim\n",
    "import pyLDAvis\n",
    "\n",
    "vis = pyLDAvis.gensim.prepare(topic_model=lda, corpus=corpus, dictionary=dictionary)\n",
    "pyLDAvis.enable_notebook()\n",
    "pyLDAvis.display(vis)"
   ]
  },
  {
   "cell_type": "markdown",
   "metadata": {},
   "source": [
    "# try with emoji"
   ]
  },
  {
   "cell_type": "code",
   "execution_count": 38,
   "metadata": {},
   "outputs": [],
   "source": [
    "import re\n",
    "from emot.emo_unicode import UNICODE_EMO, EMOTICONS"
   ]
  },
  {
   "cell_type": "code",
   "execution_count": 39,
   "metadata": {},
   "outputs": [],
   "source": [
    "# convert emojis into word\n",
    "def convert_emojis(text):\n",
    "    for emot in UNICODE_EMO:\n",
    "        text = text.replace(emot, (\"\".join(UNICODE_EMO[emot].replace(\",\",\"\").replace(\":\",\"\")+\",\")))\n",
    "    return text"
   ]
  },
  {
   "cell_type": "code",
   "execution_count": 40,
   "metadata": {},
   "outputs": [],
   "source": [
    "#\"_\".join(UNICODE_EMO['😭'].replace(\",\",\"\").replace(\":\",\"\")+\",\").split()[0]"
   ]
  },
  {
   "cell_type": "code",
   "execution_count": 41,
   "metadata": {},
   "outputs": [],
   "source": [
    "#UNICODE_EMO"
   ]
  },
  {
   "cell_type": "code",
   "execution_count": 42,
   "metadata": {},
   "outputs": [],
   "source": [
    "docs_one = np.concatenate(docs)\n",
    "docs_str=','.join(list(docs_one))\n",
    "#docs_str"
   ]
  },
  {
   "cell_type": "code",
   "execution_count": 43,
   "metadata": {},
   "outputs": [
    {
     "name": "stdout",
     "output_type": "stream",
     "text": [
      "128648\n",
      "45\n",
      "65\n"
     ]
    }
   ],
   "source": [
    "# print(uni'🚈')\n",
    "# ('🚈')\n",
    "print(ord('🚈'))\n",
    "\n",
    "print(ord('-'))\n",
    "print(ord('A'))\n",
    "\n",
    "# \"🚈\"."
   ]
  },
  {
   "cell_type": "code",
   "execution_count": 44,
   "metadata": {},
   "outputs": [
    {
     "data": {
      "text/plain": [
       "'Hilarious face_with_tears_of_joy,. The feeling of making a sale smiling_face_with_sunglasses,, The feeling of actually fulfilling orders unamused_face,'"
      ]
     },
     "execution_count": 44,
     "metadata": {},
     "output_type": "execute_result"
    }
   ],
   "source": [
    "#example\n",
    "text1 = \"Hilarious 😂. The feeling of making a sale 😎, The feeling of actually fulfilling orders 😒\"\n",
    "convert_emojis(text1)"
   ]
  },
  {
   "cell_type": "code",
   "execution_count": 45,
   "metadata": {},
   "outputs": [],
   "source": [
    "#convert_emojis(docs_str)"
   ]
  },
  {
   "cell_type": "code",
   "execution_count": 46,
   "metadata": {},
   "outputs": [],
   "source": [
    "def split(word): \n",
    "    return [char for char in word]  "
   ]
  },
  {
   "cell_type": "code",
   "execution_count": 47,
   "metadata": {},
   "outputs": [],
   "source": [
    "#filter the emojis that haven't be decode\n",
    "\n",
    "l =[]\n",
    "\n",
    "for letter in docs_str:\n",
    "    char = split(letter)\n",
    "    for char in letter:\n",
    "        if ord(char) >=5000:\n",
    "            if char not in l:\n",
    "                l.append(char)"
   ]
  },
  {
   "cell_type": "code",
   "execution_count": 48,
   "metadata": {},
   "outputs": [
    {
     "data": {
      "text/plain": [
       "434"
      ]
     },
     "execution_count": 48,
     "metadata": {},
     "output_type": "execute_result"
    }
   ],
   "source": [
    "len(l)"
   ]
  },
  {
   "cell_type": "code",
   "execution_count": 49,
   "metadata": {},
   "outputs": [
    {
     "data": {
      "text/plain": [
       "b'\\xe2\\x80\\x8d'"
      ]
     },
     "execution_count": 49,
     "metadata": {},
     "output_type": "execute_result"
    }
   ],
   "source": [
    "'\\u200d'.encode()"
   ]
  },
  {
   "cell_type": "code",
   "execution_count": 50,
   "metadata": {},
   "outputs": [
    {
     "name": "stdout",
     "output_type": "stream",
     "text": [
      "['🤣', '’', '🤦', '🏼', '\\u200d', '♀', '️', '🙁', '🥺', '😢', '😭', '❤', '😔', '“', '”', '⚡', '🖤', '🙌', '👍', '🙂', '🎄', '😃', '🥛', '🥳', '🤩', '🍄', '🙆', '🤤', '😍', '😋', '💕', '👌', '🍪', '🎅', '🏽', '⛄', '🙏', '🌸', '😘', '💚', '🥰', '😉', '🤞', '😂', '💖', '😅', '😁', '😼', '☺', '🏾', '✨', '❄', '☃', '🌲', '😎', '💗', '😧', '🎉', '🎊', '🍾', '😻', '♥', '🤗', '👸', '🌎', '😄', '‼', '😌', '😚', '😐', '🙊', '\\U0001f972', '🤍', '♡', '︎', '🅗', '🅔', '🅨', '😊', '😜', '😱', '🙋', '✋', '🏻', '😳', '😆', '🚪', '🏃', '💓', '🤪', '👋', '👀', '💜', '👼', '💋', '😿', '💭', '🤛', '👿', '😇', '👩', '👨', '💃', '🙄', '💞', '👴', '🏿', '😝', '🌺', '💔', '🅛', '🅞', '🅥', '🅘', '🅤', '🤟', '💍', '💘', '😏', '😩', '🙃', '🧑', '💙', '💯', '🎁', '🎀', '💛', '😹', '👇', '🏡', '📱', '\\U0001f90c', '💟', '❣', '😺', '🙀', '👁', '👄', '😗', '😑', '💀', '😸', '😬', '🤥', '🙈', '✌', '😥', '😪', '🤧', '😀', '🧢', '🔥', '😒', '😮', '🦖', '🦋', '🤭', '😓', '🌚', '📈', '😛', '😫', '😡', '𝓶', '𝓸', '𝓽', '𝓲', '𝓿', '𝓪', '𝓷', '𝓜', '𝓔', '𝓡', '𝓨', '𝓒', '𝓗', '𝓘', '𝓢', '𝓣', '𝓐', '🎶', '🤙', '💅', '😖', '👑', '🌹', '—', '🤚', '👉', '👈', '👏', '🧍', '😽', '🎼', '🎵', '🎤', '😶', '😙', '🤠', '🦁', '🐯', '🧸', '😕', '😞', '🖕', '♾', '🌏', '😰', '😣', '🤨', '💝', '🤔', '🐠', '👻', '🧛', '♂', '\\U0001f978', '🌟', '💪', '👵', '🌈', '🍫', '⭐', '🏴', '\\U000e0067', '\\U000e0062', '\\U000e0077', '\\U000e006c', '\\U000e0073', '\\U000e007f', '‘', '…', '💫', '『', '』', '🎂', '🦌', '🤢', '⚠', '🛑', 'ᴅ', '🥴', '✅', '🇵', '🇭', '🍂', '💐', '☕', '🌿', '🍃', '🤓', '🇨', '🇦', '🤷', '🐢', '🍰', '🧁', '🍿', '🎭', '🤶', '😲', '🤡', '🎍', '🇪', '📝', '🎨', '🚫', '😯', 'ℓ', '∂', '🤯', '🤎', '🍯', '🧡', '🍍', '🍓', '🐕', '⁵', '🇫', '🇿', '🇱', '🇩', '🇴', '🇮', '🇶', '🇬', '🇺', '🇼', '🇲', '🇷', '🇸', '🇹', '🇧', '🇯', '🇾', '🇳', '🇰', '🇻', '🇽', '🎌', '🌞', '🦄', '💴', '👊', '💥', '😨', '🍑', '🧐', '🏘', '„', '🐝', '🤑', '🌨', '🚗', '🏀', '☝', '🎆', '🎈', '•', '🍵', '🔝', '🥶', '𝒎', '𝒆', '𝒓', '𝒚', '𝒙', '𝒂', '𝒔', '𝒄', '𝒇', '𝒘', '𝒕', '𝒉', '𝒊', '𝒏', '𝒈', '𝒑', '𝒍', '€', '🥵', '🥀', '👧', '👦', '♠', '🎋', '🙇', '👪', '🚘', '🗣', '🤴', '∞', '🍅', '🕊', '🔔', '🍦', '💰', '♍', '😤', '⚘', '🥂', '🍀', '🌷', '💁', '🐸', '😟', '😵', '🖼', 'イ', 'ヽ', 'ノ', '￣', '＼', '⌒', 'ｙ', 'ﾉ', '／', 'ト', 'ー', '仝', 'ミ', '土', '彡', '🏠', '🤝', '🌙', '😦', '🍼', '☁', '↓', '👰', '🏆', '🤐', '💉', '🤮', '🤬', '☠', '🧓', '👐', '🤒', '🔐', '🐐', '‑', '🤕', '❕', '🍡', '💌', '👶', '🧿', '𝕪', '𝕖', '𝕤', '𝕒', '𝕦', '𝕥', '𝕚', '𝕟', '𝕝', '𝕠', '𝕧', '𝕨', '𝕓', '𝕜', '𝕞', '🩸', '🌴', '🌻', '🌵', '🌜', '🌛', '🖐', '🔯', '🎑', '😷']\n"
     ]
    }
   ],
   "source": [
    "#emoji left\n",
    "\n",
    "print(l)"
   ]
  },
  {
   "cell_type": "markdown",
   "metadata": {},
   "source": [
    "# try another emoji package "
   ]
  },
  {
   "cell_type": "code",
   "execution_count": 51,
   "metadata": {},
   "outputs": [],
   "source": [
    "import emoji\n",
    "from emoji import EMOJI_ALIAS_UNICODE_ENGLISH as em"
   ]
  },
  {
   "cell_type": "code",
   "execution_count": 52,
   "metadata": {},
   "outputs": [
    {
     "name": "stdout",
     "output_type": "stream",
     "text": [
      "<re.Match object; span=(0, 5), match=':one:'>\n",
      "4048\n",
      ":one:\n"
     ]
    }
   ],
   "source": [
    "import re \n",
    "count=0;\n",
    "for s in em:\n",
    "#     print(s)\n",
    "    \n",
    "    x = re.search(\"(:one:)\",s)\n",
    "    if(x !=None):\n",
    "        print(x)\n",
    "        print(count)\n",
    "        print(s)\n",
    "    count+=1"
   ]
  },
  {
   "cell_type": "markdown",
   "metadata": {},
   "source": [
    "em"
   ]
  },
  {
   "cell_type": "code",
   "execution_count": 53,
   "metadata": {},
   "outputs": [
    {
     "data": {
      "text/plain": [
       "\"[':rolling_on_the_floor_laughing:', '’', ':person_facepalming:', ':medium-light_skin_tone:', '\\\\u200d', ':female_sign:', '', ':slightly_frowning_face:', ':pleading_face:', ':crying_face:', ':loudly_crying_face:', ':red_heart:', ':pensive_face:', '“', '”', ':high_voltage:', ':black_heart:', ':raising_hands:', ':thumbs_up:', ':slightly_smiling_face:', ':Christmas_tree:', ':grinning_face_with_big_eyes:', ':glass_of_milk:', ':partying_face:', ':star-struck:', ':mushroom:', ':person_gesturing_OK:', ':drooling_face:', ':smiling_face_with_heart-eyes:', ':face_savoring_food:', ':two_hearts:', ':OK_hand:', ':cookie:', ':Santa_Claus:', ':medium_skin_tone:', ':snowman_without_snow:', ':folded_hands:', ':cherry_blossom:', ':face_blowing_a_kiss:', ':green_heart:', ':smiling_face_with_hearts:', ':winking_face:', ':crossed_fingers:', ':face_with_tears_of_joy:', ':sparkling_heart:', ':grinning_face_with_sweat:', ':beaming_face_with_smiling_eyes:', ':cat_with_wry_smile:', ':smiling_face:', ':medium-dark_skin_tone:', ':sparkles:', ':snowflake:', ':snowman:', ':evergreen_tree:', ':smiling_face_with_sunglasses:', ':growing_heart:', ':anguished_face:', ':party_popper:', ':confetti_ball:', ':bottle_with_popping_cork:', ':smiling_cat_with_heart-eyes:', ':heart_suit:', ':hugging_face:', ':princess:', ':globe_showing_Americas:', ':grinning_face_with_smiling_eyes:', ':double_exclamation_mark:', ':relieved_face:', ':kissing_face_with_closed_eyes:', ':neutral_face:', ':speak-no-evil_monkey:', '\\\\U0001f972', ':white_heart:', '♡', '︎', '🅗', '🅔', '🅨', ':smiling_face_with_smiling_eyes:', ':winking_face_with_tongue:', ':face_screaming_in_fear:', ':person_raising_hand:', ':raised_hand:', ':light_skin_tone:', ':flushed_face:', ':grinning_squinting_face:', ':door:', ':person_running:', ':beating_heart:', ':zany_face:', ':waving_hand:', ':eyes:', ':purple_heart:', ':baby_angel:', ':kiss_mark:', ':crying_cat:', ':thought_balloon:', ':left-facing_fist:', ':angry_face_with_horns:', ':smiling_face_with_halo:', ':woman:', ':man:', ':woman_dancing:', ':face_with_rolling_eyes:', ':revolving_hearts:', ':old_man:', ':dark_skin_tone:', ':squinting_face_with_tongue:', ':hibiscus:', ':broken_heart:', '🅛', '🅞', '🅥', '🅘', '🅤', ':love-you_gesture:', ':ring:', ':heart_with_arrow:', ':smirking_face:', ':weary_face:', ':upside-down_face:', ':person:', ':blue_heart:', ':hundred_points:', ':wrapped_gift:', ':ribbon:', ':yellow_heart:', ':cat_with_tears_of_joy:', ':backhand_index_pointing_down:', ':house_with_garden:', ':mobile_phone:', '\\\\U0001f90c', ':heart_decoration:', ':heart_exclamation:', ':grinning_cat:', ':weary_cat:', ':eye:', ':mouth:', ':kissing_face:', ':expressionless_face:', ':skull:', ':grinning_cat_with_smiling_eyes:', ':grimacing_face:', ':lying_face:', ':see-no-evil_monkey:', ':victory_hand:', ':sad_but_relieved_face:', ':sleepy_face:', ':sneezing_face:', ':grinning_face:', ':billed_cap:', ':fire:', ':unamused_face:', ':face_with_open_mouth:', ':T-Rex:', ':butterfly:', ':face_with_hand_over_mouth:', ':downcast_face_with_sweat:', ':new_moon_face:', ':chart_increasing:', ':face_with_tongue:', ':tired_face:', ':pouting_face:', '𝓶', '𝓸', '𝓽', '𝓲', '𝓿', '𝓪', '𝓷', '𝓜', '𝓔', '𝓡', '𝓨', '𝓒', '𝓗', '𝓘', '𝓢', '𝓣', '𝓐', ':musical_notes:', ':call_me_hand:', ':nail_polish:', ':confounded_face:', ':crown:', ':rose:', '—', ':raised_back_of_hand:', ':backhand_index_pointing_right:', ':backhand_index_pointing_left:', ':clapping_hands:', ':person_standing:', ':kissing_cat:', ':musical_score:', ':musical_note:', ':microphone:', ':face_without_mouth:', ':kissing_face_with_smiling_eyes:', ':cowboy_hat_face:', ':lion:', ':tiger_face:', ':teddy_bear:', ':confused_face:', ':disappointed_face:', ':middle_finger:', ':infinity:', ':globe_showing_Asia-Australia:', ':anxious_face_with_sweat:', ':persevering_face:', ':face_with_raised_eyebrow:', ':heart_with_ribbon:', ':thinking_face:', ':tropical_fish:', ':ghost:', ':vampire:', ':male_sign:', '\\\\U0001f978', ':glowing_star:', ':flexed_biceps:', ':old_woman:', ':rainbow:', ':chocolate_bar:', ':star:', ':black_flag:', '\\\\U000e0067', '\\\\U000e0062', '\\\\U000e0077', '\\\\U000e006c', '\\\\U000e0073', '\\\\U000e007f', '‘', '…', ':dizzy:', '『', '』', ':birthday_cake:', ':deer:', ':nauseated_face:', ':warning:', ':stop_sign:', 'ᴅ', ':woozy_face:', ':check_mark_button:', '🇵', '🇭', ':fallen_leaf:', ':bouquet:', ':hot_beverage:', ':herb:', ':leaf_fluttering_in_wind:', ':nerd_face:', '🇨', '🇦', ':person_shrugging:', ':turtle:', ':shortcake:', ':cupcake:', ':popcorn:', ':performing_arts:', ':Mrs._Claus:', ':astonished_face:', ':clown_face:', ':pine_decoration:', '🇪', ':memo:', ':artist_palette:', ':prohibited:', ':hushed_face:', 'ℓ', '∂', ':exploding_head:', ':brown_heart:', ':honey_pot:', ':orange_heart:', ':pineapple:', ':strawberry:', ':dog:', '⁵', '🇫', '🇿', '🇱', '🇩', '🇴', '🇮', '🇶', '🇬', '🇺', '🇼', '🇲', '🇷', '🇸', '🇹', '🇧', '🇯', '🇾', '🇳', '🇰', '🇻', '🇽', ':crossed_flags:', ':sun_with_face:', ':unicorn:', ':yen_banknote:', ':oncoming_fist:', ':collision:', ':fearful_face:', ':peach:', ':face_with_monocle:', ':houses:', '„', ':honeybee:', ':money-mouth_face:', ':cloud_with_snow:', ':automobile:', ':basketball:', ':index_pointing_up:', ':fireworks:', ':balloon:', '•', ':teacup_without_handle:', ':TOP_arrow:', ':cold_face:', '𝒎', '𝒆', '𝒓', '𝒚', '𝒙', '𝒂', '𝒔', '𝒄', '𝒇', '𝒘', '𝒕', '𝒉', '𝒊', '𝒏', '𝒈', '𝒑', '𝒍', '€', ':hot_face:', ':wilted_flower:', ':girl:', ':boy:', ':spade_suit:', ':tanabata_tree:', ':person_bowing:', ':family:', ':oncoming_automobile:', ':speaking_head:', ':prince:', '∞', ':tomato:', ':dove:', ':bell:', ':soft_ice_cream:', ':money_bag:', ':Virgo:', ':face_with_steam_from_nose:', '⚘', ':clinking_glasses:', ':four_leaf_clover:', ':tulip:', ':person_tipping_hand:', ':frog:', ':worried_face:', ':knocked-out_face:', ':framed_picture:', 'イ', 'ヽ', 'ノ', '￣', '＼', '⌒', 'ｙ', 'ﾉ', '／', 'ト', 'ー', '仝', 'ミ', '土', '彡', ':house:', ':handshake:', ':crescent_moon:', ':frowning_face_with_open_mouth:', ':baby_bottle:', ':cloud:', '↓', ':person_with_veil:', ':trophy:', ':zipper-mouth_face:', ':syringe:', ':face_vomiting:', ':face_with_symbols_on_mouth:', ':skull_and_crossbones:', ':older_person:', ':open_hands:', ':face_with_thermometer:', ':locked_with_key:', ':goat:', '‑', ':face_with_head-bandage:', ':white_exclamation_mark:', ':dango:', ':love_letter:', ':baby:', ':nazar_amulet:', '𝕪', '𝕖', '𝕤', '𝕒', '𝕦', '𝕥', '𝕚', '𝕟', '𝕝', '𝕠', '𝕧', '𝕨', '𝕓', '𝕜', '𝕞', ':drop_of_blood:', ':palm_tree:', ':sunflower:', ':cactus:', ':last_quarter_moon_face:', ':first_quarter_moon_face:', ':hand_with_fingers_splayed:', ':dotted_six-pointed_star:', ':moon_viewing_ceremony:', ':face_with_medical_mask:']\""
      ]
     },
     "execution_count": 53,
     "metadata": {},
     "output_type": "execute_result"
    }
   ],
   "source": [
    "emoji.demojize(str(l)) #since like it worked "
   ]
  },
  {
   "cell_type": "markdown",
   "metadata": {},
   "source": [
    "let's work from beginning "
   ]
  },
  {
   "cell_type": "code",
   "execution_count": 54,
   "metadata": {},
   "outputs": [],
   "source": [
    "#emoji.demojize(docs_str)"
   ]
  },
  {
   "cell_type": "code",
   "execution_count": 55,
   "metadata": {},
   "outputs": [],
   "source": [
    "# for further use, replace one string to arrays and replace the colon\n",
    "l = []\n",
    "docs_new = docs.copy()\n",
    "for doc in docs_new:\n",
    "    d= []\n",
    "    for i, word in enumerate(doc):\n",
    "        w = emoji.demojize(word).replace(':','')\n",
    "        d.append(w)\n",
    "    l.append(d)"
   ]
  },
  {
   "cell_type": "code",
   "execution_count": 56,
   "metadata": {},
   "outputs": [],
   "source": [
    "#l"
   ]
  },
  {
   "cell_type": "code",
   "execution_count": 57,
   "metadata": {},
   "outputs": [],
   "source": [
    "#docs"
   ]
  },
  {
   "cell_type": "markdown",
   "metadata": {},
   "source": [
    "# Basic Emoji statistics "
   ]
  },
  {
   "cell_type": "code",
   "execution_count": 58,
   "metadata": {},
   "outputs": [
    {
     "name": "stdout",
     "output_type": "stream",
     "text": [
      "There are in total 6528 emojis in the comments.\n"
     ]
    }
   ],
   "source": [
    "#calculate total emojis in comments\n",
    "emoji_descriptions=[]\n",
    "for character in em:\n",
    "    emoji_descriptions.append(character.replace(':','') )\n",
    "    \n",
    "count_emoji_total= 0\n",
    "for comment in l:\n",
    "    for word in comment:         \n",
    "        if word in emoji_descriptions: \n",
    "            \n",
    "            count_emoji_total+=1\n",
    "            \n",
    "\n",
    "print('There are in total ' +str(count_emoji_total)+' emojis in the comments.')"
   ]
  },
  {
   "cell_type": "code",
   "execution_count": 59,
   "metadata": {},
   "outputs": [
    {
     "name": "stdout",
     "output_type": "stream",
     "text": [
      "There are in total 74465 words in the comments.\n"
     ]
    }
   ],
   "source": [
    "#calculate total words in comments\n",
    "count_word_total = 0\n",
    "for comment in l:\n",
    "    count_word_total +=  len(comment)\n",
    "        \n",
    "\n",
    "print('There are in total ' +str(count_word_total)+' words in the comments.')"
   ]
  },
  {
   "cell_type": "code",
   "execution_count": 60,
   "metadata": {},
   "outputs": [
    {
     "name": "stdout",
     "output_type": "stream",
     "text": [
      "There are in total 3993 comments contain emojis.\n"
     ]
    }
   ],
   "source": [
    "#calculate total comments contain emojis\n",
    "count_comment_with_emoji=0\n",
    "for comment in l:\n",
    "    for word in comment:\n",
    "        if word in emoji_descriptions:\n",
    "            count_comment_with_emoji+=1\n",
    "            break            \n",
    "\n",
    "print('There are in total ' +str(count_comment_with_emoji)+' comments contain emojis.')"
   ]
  },
  {
   "cell_type": "code",
   "execution_count": 61,
   "metadata": {},
   "outputs": [
    {
     "name": "stdout",
     "output_type": "stream",
     "text": [
      "There are in total 8757 comments.\n"
     ]
    }
   ],
   "source": [
    "print('There are in total ' +str(len(data))+' comments.')"
   ]
  },
  {
   "cell_type": "code",
   "execution_count": 62,
   "metadata": {},
   "outputs": [
    {
     "data": {
      "image/png": "[encoded data removed]",
      "text/plain": [
       "<Figure size 432x288 with 1 Axes>"
      ]
     },
     "metadata": {
      "needs_background": "light"
     },
     "output_type": "display_data"
    }
   ],
   "source": [
    "fig = plt.figure()\n",
    "ax = fig.add_axes([0,0,1,1])\n",
    "names = ['Total emojis','Total words']\n",
    "number = [count_emoji_total,count_word_total]\n",
    "ax.bar(names,number)\n",
    "plt.show()"
   ]
  },
  {
   "cell_type": "markdown",
   "metadata": {},
   "source": [
    "### Total emojis VS total words %"
   ]
  },
  {
   "cell_type": "code",
   "execution_count": 63,
   "metadata": {},
   "outputs": [
    {
     "data": {
      "image/png": "[encoded data removed]",
      "text/plain": [
       "<Figure size 432x288 with 1 Axes>"
      ]
     },
     "metadata": {},
     "output_type": "display_data"
    }
   ],
   "source": [
    "labels = 'Total emojis','Total words'\n",
    "sizes = [count_emoji_total,count_word_total-count_emoji_total]\n",
    "\n",
    "fig1, ax1 = plt.subplots()\n",
    "ax1.pie(sizes, labels=labels, autopct='%1.1f%%',\n",
    "        shadow=True, startangle=90)\n",
    "ax1.axis('equal')  # Equal aspect ratio ensures that pie is drawn as a circle.\n",
    "\n",
    "plt.show()"
   ]
  },
  {
   "cell_type": "markdown",
   "metadata": {},
   "source": [
    "### Comments with emojis VS comments without emojis %"
   ]
  },
  {
   "cell_type": "code",
   "execution_count": 64,
   "metadata": {},
   "outputs": [
    {
     "data": {
      "image/png": "[encoded data removed]",
      "text/plain": [
       "<Figure size 432x288 with 1 Axes>"
      ]
     },
     "metadata": {},
     "output_type": "display_data"
    }
   ],
   "source": [
    "labels = 'Comments with emojis','Comments without emojis'\n",
    "sizes = [count_comment_with_emoji,len(data)-count_comment_with_emoji]\n",
    "\n",
    "fig1, ax1 = plt.subplots()\n",
    "ax1.pie(sizes, labels=labels, autopct='%1.1f%%',\n",
    "        shadow=True, startangle=90)\n",
    "ax1.axis('equal')  # Equal aspect ratio ensures that pie is drawn as a circle.\n",
    "\n",
    "plt.show()"
   ]
  },
  {
   "cell_type": "markdown",
   "metadata": {},
   "source": [
    "### Top used emoji"
   ]
  },
  {
   "cell_type": "code",
   "execution_count": 65,
   "metadata": {},
   "outputs": [],
   "source": [
    "#Calculate the frequency of each emoji\n",
    "emoji_dict={}\n",
    "\n",
    "for comment in l:\n",
    "    for word in comment:\n",
    "        if word in emoji_descriptions:\n",
    "            if word not in emoji_dict:\n",
    "                emoji_dict[word]=1\n",
    "            else:\n",
    "                emoji_dict[word]+=1"
   ]
  },
  {
   "cell_type": "code",
   "execution_count": 66,
   "metadata": {},
   "outputs": [
    {
     "data": {
      "text/plain": [
       "{'family': 579,\n",
       " 'one': 454,\n",
       " 'gift': 426,\n",
       " 'm': 385,\n",
       " 'red_heart': 258,\n",
       " 'girl': 196,\n",
       " 'artist': 196,\n",
       " 'man': 168,\n",
       " 'watch': 142,\n",
       " 'smiling_face_with_heart-eyes': 141,\n",
       " 'art': 133,\n",
       " 'new': 131,\n",
       " 'car': 102,\n",
       " 'house': 99,\n",
       " 'back': 81,\n",
       " 'cry': 80,\n",
       " 'pleading_face': 75,\n",
       " 'smiling_face_with_hearts': 74,\n",
       " 'couple': 72,\n",
       " 'ok': 71}"
      ]
     },
     "execution_count": 66,
     "metadata": {},
     "output_type": "execute_result"
    }
   ],
   "source": [
    "emoji_dict_TOP20={k: v for k, v in sorted(emoji_dict.items(), key=lambda item: item[1], reverse=True)[:20]}\n",
    "emoji_dict_TOP20"
   ]
  },
  {
   "cell_type": "code",
   "execution_count": 67,
   "metadata": {},
   "outputs": [],
   "source": [
    "top20=list(emoji_dict_TOP20.keys())\n",
    "o =[]\n",
    "for t in top20:\n",
    "    t = ''.join(':'+t+':')\n",
    "    o.append(t)"
   ]
  },
  {
   "cell_type": "code",
   "execution_count": 68,
   "metadata": {},
   "outputs": [
    {
     "name": "stdout",
     "output_type": "stream",
     "text": [
      "👪\n",
      "1️⃣\n",
      "🎁\n",
      "Ⓜ\n",
      "❤\n",
      "👧\n",
      "🧑‍🎨\n",
      "👨\n",
      "⌚\n",
      "😍\n",
      "🎨\n",
      "🆕\n",
      "🚗\n",
      "🏠\n",
      "🔙\n",
      "😢\n",
      "🥺\n",
      "🥰\n",
      "👫\n",
      "🆗\n"
     ]
    }
   ],
   "source": [
    "top20_emoji_list=[]\n",
    "for oo in o:\n",
    "    oo=em[oo]\n",
    "    top20_emoji_list.append(oo)\n",
    "    print(oo)"
   ]
  },
  {
   "cell_type": "code",
   "execution_count": 69,
   "metadata": {},
   "outputs": [],
   "source": [
    "#top20_emoji_list"
   ]
  },
  {
   "cell_type": "code",
   "execution_count": 70,
   "metadata": {},
   "outputs": [
    {
     "data": {
      "image/png": "[encoded data removed]",
      "text/plain": [
       "<Figure size 432x288 with 1 Axes>"
      ]
     },
     "metadata": {
      "needs_background": "light"
     },
     "output_type": "display_data"
    }
   ],
   "source": [
    "plt.bar(range(len(emoji_dict_TOP20)), list(emoji_dict_TOP20.values()), align='center')\n",
    "plt.xticks(range(len(emoji_dict_TOP20)), list(emoji_dict_TOP20.keys()), rotation='vertical')\n",
    "plt.xlabel('Emojis')\n",
    "plt.ylabel('Frequency of use')\n",
    "plt.show()"
   ]
  },
  {
   "cell_type": "code",
   "execution_count": null,
   "metadata": {},
   "outputs": [],
   "source": []
  }
 ],
 "metadata": {
  "kernelspec": {
   "display_name": "Python 3",
   "language": "python",
   "name": "python3"
  },
  "language_info": {
   "codemirror_mode": {
    "name": "ipython",
    "version": 3
   },
   "file_extension": ".py",
   "mimetype": "text/x-python",
   "name": "python",
   "nbconvert_exporter": "python",
   "pygments_lexer": "ipython3",
   "version": "3.8.3"
  }
 },
 "nbformat": 4,
 "nbformat_minor": 4
}
